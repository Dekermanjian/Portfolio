{
 "cells": [
  {
   "cell_type": "markdown",
   "id": "c25325c1-e9fb-4ea8-8cb3-e3d50ef4ae14",
   "metadata": {},
   "source": [
    "# Imports"
   ]
  },
  {
   "cell_type": "code",
   "execution_count": 1,
   "id": "db1d1b7c-ac40-46d9-9521-4c4e2e910000",
   "metadata": {},
   "outputs": [],
   "source": [
    "using DataFrames\n",
    "using Statistics\n",
    "using CSV\n",
    "using Dates\n",
    "using Pipe: @pipe\n",
    "using CategoricalArrays\n",
    "using ShiftedArrays\n",
    "using StatsBase"
   ]
  },
  {
   "cell_type": "code",
   "execution_count": 2,
   "id": "d9524de2-fb95-4d4f-8a8b-0a82cfb1b1df",
   "metadata": {},
   "outputs": [
    {
     "data": {
      "text/plain": [
       "1200"
      ]
     },
     "execution_count": 2,
     "metadata": {},
     "output_type": "execute_result"
    }
   ],
   "source": [
    "ENV[\"COLUMNS\"]=1200"
   ]
  },
  {
   "cell_type": "markdown",
   "id": "5cccb988-e142-4b64-8d5c-44171a7d209f",
   "metadata": {},
   "source": [
    "# Load and Process Data"
   ]
  },
  {
   "cell_type": "code",
   "execution_count": 3,
   "id": "fb21f136-f3bd-4f53-b045-3eacf1318ce9",
   "metadata": {},
   "outputs": [],
   "source": [
    "df_temp = CSV.File(\"Data/GlobalLandTemperaturesByCity.csv\") |> DataFrame;"
   ]
  },
  {
   "cell_type": "code",
   "execution_count": 4,
   "id": "f70f8473-aaa1-4338-a8ab-bfddec4f9b40",
   "metadata": {},
   "outputs": [
    {
     "data": {
      "text/plain": [
       "(8599212, 7)"
      ]
     },
     "execution_count": 4,
     "metadata": {},
     "output_type": "execute_result"
    }
   ],
   "source": [
    "size(df_temp)"
   ]
  },
  {
   "cell_type": "code",
   "execution_count": 5,
   "id": "11426704-f3a6-43f8-b8f0-bba89b3c79de",
   "metadata": {},
   "outputs": [
    {
     "data": {
      "text/html": [
       "<div class=\"data-frame\"><p>5 rows × 7 columns</p><table class=\"data-frame\"><thead><tr><th></th><th>dt</th><th>AverageTemperature</th><th>AverageTemperatureUncertainty</th><th>City</th><th>Country</th><th>Latitude</th><th>Longitude</th></tr><tr><th></th><th title=\"Date\">Date</th><th title=\"Union{Missing, Float64}\">Float64?</th><th title=\"Union{Missing, Float64}\">Float64?</th><th title=\"String31\">String31</th><th title=\"String63\">String63</th><th title=\"String7\">String7</th><th title=\"String7\">String7</th></tr></thead><tbody><tr><th>1</th><td>1743-11-01</td><td>6.068</td><td>1.737</td><td>Århus</td><td>Denmark</td><td>57.05N</td><td>10.33E</td></tr><tr><th>2</th><td>1743-12-01</td><td><em>missing</em></td><td><em>missing</em></td><td>Århus</td><td>Denmark</td><td>57.05N</td><td>10.33E</td></tr><tr><th>3</th><td>1744-01-01</td><td><em>missing</em></td><td><em>missing</em></td><td>Århus</td><td>Denmark</td><td>57.05N</td><td>10.33E</td></tr><tr><th>4</th><td>1744-02-01</td><td><em>missing</em></td><td><em>missing</em></td><td>Århus</td><td>Denmark</td><td>57.05N</td><td>10.33E</td></tr><tr><th>5</th><td>1744-03-01</td><td><em>missing</em></td><td><em>missing</em></td><td>Århus</td><td>Denmark</td><td>57.05N</td><td>10.33E</td></tr></tbody></table></div>"
      ],
      "text/latex": [
       "\\begin{tabular}{r|ccccccc}\n",
       "\t& dt & AverageTemperature & AverageTemperatureUncertainty & City & Country & Latitude & Longitude\\\\\n",
       "\t\\hline\n",
       "\t& Date & Float64? & Float64? & String31 & String63 & String7 & String7\\\\\n",
       "\t\\hline\n",
       "\t1 & 1743-11-01 & 6.068 & 1.737 & Århus & Denmark & 57.05N & 10.33E \\\\\n",
       "\t2 & 1743-12-01 & \\emph{missing} & \\emph{missing} & Århus & Denmark & 57.05N & 10.33E \\\\\n",
       "\t3 & 1744-01-01 & \\emph{missing} & \\emph{missing} & Århus & Denmark & 57.05N & 10.33E \\\\\n",
       "\t4 & 1744-02-01 & \\emph{missing} & \\emph{missing} & Århus & Denmark & 57.05N & 10.33E \\\\\n",
       "\t5 & 1744-03-01 & \\emph{missing} & \\emph{missing} & Århus & Denmark & 57.05N & 10.33E \\\\\n",
       "\\end{tabular}\n"
      ],
      "text/plain": [
       "\u001b[1m5×7 DataFrame\u001b[0m\n",
       "\u001b[1m Row \u001b[0m│\u001b[1m dt         \u001b[0m\u001b[1m AverageTemperature \u001b[0m\u001b[1m AverageTemperatureUncertainty \u001b[0m\u001b[1m City     \u001b[0m\u001b[1m Country  \u001b[0m\u001b[1m Latitude \u001b[0m\u001b[1m Longitude \u001b[0m\n",
       "\u001b[1m     \u001b[0m│\u001b[90m Date       \u001b[0m\u001b[90m Float64?           \u001b[0m\u001b[90m Float64?                      \u001b[0m\u001b[90m String31 \u001b[0m\u001b[90m String63 \u001b[0m\u001b[90m String7  \u001b[0m\u001b[90m String7   \u001b[0m\n",
       "─────┼────────────────────────────────────────────────────────────────────────────────────────────────────────\n",
       "   1 │ 1743-11-01               6.068                          1.737  Århus     Denmark   57.05N    10.33E\n",
       "   2 │ 1743-12-01 \u001b[90m        missing     \u001b[0m\u001b[90m                   missing     \u001b[0m Århus     Denmark   57.05N    10.33E\n",
       "   3 │ 1744-01-01 \u001b[90m        missing     \u001b[0m\u001b[90m                   missing     \u001b[0m Århus     Denmark   57.05N    10.33E\n",
       "   4 │ 1744-02-01 \u001b[90m        missing     \u001b[0m\u001b[90m                   missing     \u001b[0m Århus     Denmark   57.05N    10.33E\n",
       "   5 │ 1744-03-01 \u001b[90m        missing     \u001b[0m\u001b[90m                   missing     \u001b[0m Århus     Denmark   57.05N    10.33E"
      ]
     },
     "execution_count": 5,
     "metadata": {},
     "output_type": "execute_result"
    }
   ],
   "source": [
    "first(df_temp, 5)"
   ]
  },
  {
   "cell_type": "code",
   "execution_count": 6,
   "id": "de54e047-1932-4425-8b78-40c1518581a8",
   "metadata": {},
   "outputs": [
    {
     "name": "stdout",
     "output_type": "stream",
     "text": [
      " 15.229073 seconds (43.84 M allocations: 6.249 GiB, 4.93% gc time, 0.21% compilation time)\n"
     ]
    },
    {
     "data": {
      "text/html": [
       "<div class=\"data-frame\"><p>5 rows × 6 columns</p><table class=\"data-frame\"><thead><tr><th></th><th>year</th><th>City</th><th>Country</th><th>AvgTemp_year</th><th>Lat</th><th>Long</th></tr><tr><th></th><th title=\"Int64\">Int64</th><th title=\"CategoricalValue{String31, UInt32}\">Cat…</th><th title=\"CategoricalValue{String63, UInt32}\">Cat…</th><th title=\"Float64\">Float64</th><th title=\"Float64\">Float64</th><th title=\"Float64\">Float64</th></tr></thead><tbody><tr><th>1</th><td>1753</td><td>Århus</td><td>Denmark</td><td>-3.228</td><td>57.05</td><td>10.33</td></tr><tr><th>2</th><td>1754</td><td>Århus</td><td>Denmark</td><td>1.45</td><td>57.05</td><td>10.33</td></tr><tr><th>3</th><td>1755</td><td>Århus</td><td>Denmark</td><td>1.664</td><td>57.05</td><td>10.33</td></tr><tr><th>4</th><td>1756</td><td>Århus</td><td>Denmark</td><td>-0.652</td><td>57.05</td><td>10.33</td></tr><tr><th>5</th><td>1757</td><td>Århus</td><td>Denmark</td><td>0.325</td><td>57.05</td><td>10.33</td></tr></tbody></table></div>"
      ],
      "text/latex": [
       "\\begin{tabular}{r|cccccc}\n",
       "\t& year & City & Country & AvgTemp\\_year & Lat & Long\\\\\n",
       "\t\\hline\n",
       "\t& Int64 & Cat… & Cat… & Float64 & Float64 & Float64\\\\\n",
       "\t\\hline\n",
       "\t1 & 1753 & Århus & Denmark & -3.228 & 57.05 & 10.33 \\\\\n",
       "\t2 & 1754 & Århus & Denmark & 1.45 & 57.05 & 10.33 \\\\\n",
       "\t3 & 1755 & Århus & Denmark & 1.664 & 57.05 & 10.33 \\\\\n",
       "\t4 & 1756 & Århus & Denmark & -0.652 & 57.05 & 10.33 \\\\\n",
       "\t5 & 1757 & Århus & Denmark & 0.325 & 57.05 & 10.33 \\\\\n",
       "\\end{tabular}\n"
      ],
      "text/plain": [
       "\u001b[1m5×6 DataFrame\u001b[0m\n",
       "\u001b[1m Row \u001b[0m│\u001b[1m year  \u001b[0m\u001b[1m City  \u001b[0m\u001b[1m Country \u001b[0m\u001b[1m AvgTemp_year \u001b[0m\u001b[1m Lat     \u001b[0m\u001b[1m Long    \u001b[0m\n",
       "\u001b[1m     \u001b[0m│\u001b[90m Int64 \u001b[0m\u001b[90m Cat…  \u001b[0m\u001b[90m Cat…    \u001b[0m\u001b[90m Float64      \u001b[0m\u001b[90m Float64 \u001b[0m\u001b[90m Float64 \u001b[0m\n",
       "─────┼───────────────────────────────────────────────────────\n",
       "   1 │  1753  Århus  Denmark        -3.228    57.05    10.33\n",
       "   2 │  1754  Århus  Denmark         1.45     57.05    10.33\n",
       "   3 │  1755  Århus  Denmark         1.664    57.05    10.33\n",
       "   4 │  1756  Århus  Denmark        -0.652    57.05    10.33\n",
       "   5 │  1757  Århus  Denmark         0.325    57.05    10.33"
      ]
     },
     "execution_count": 6,
     "metadata": {},
     "output_type": "execute_result"
    }
   ],
   "source": [
    "@time @pipe df_temp |>\n",
    "transform(\n",
    "    _,\n",
    "    :dt => ByRow(year) => :year,\n",
    "    :dt => ByRow(monthabbr) => :month,\n",
    "    :dt => ByRow(day) => :day,\n",
    "    :City => categorical => :City,\n",
    "    :Country => categorical => :Country\n",
    ") |>\n",
    "transform(_, :month => categorical => :month) |>\n",
    "dropmissing(_) |>\n",
    "groupby(_, [:City, :year]) |>\n",
    "transform(_, nrow) |>\n",
    "filter(:nrow => x -> x > 11, _) |>\n",
    "filter(:month => x -> x==\"Dec\", _) |>\n",
    "groupby(_, [:year, :City, :Country, :Latitude, :Longitude]) |>\n",
    "combine(_, :AverageTemperature => mean => :AvgTemp_year) |>\n",
    "transform(\n",
    "    _,\n",
    "    :Latitude => ByRow(x -> contains(x, \"W\") ?  -1 : 1) => :signLat,\n",
    "    :Latitude => ByRow(x -> parse(Float64, split(String(x), r\"[a-zA-Z]\")[1])) => :Lat,\n",
    "    :Longitude => ByRow(x -> contains(x, \"S\") ?  -1 : 1) => :signLong,\n",
    "    :Longitude => ByRow(x -> parse(Float64, split(String(x), r\"[a-zA-Z]\")[1])) => :Long,\n",
    ") |>\n",
    "transform(\n",
    "    _, [:Lat, :signLat] => ByRow((x,y) -> x*y) => :Lat,\n",
    "    [:Long, :signLong] => ByRow((x,y) -> x*y) => :Long\n",
    ") |>\n",
    "select(_, [:year, :City, :Country, :AvgTemp_year, :Lat, :Long]) |>\n",
    "first(_, 5)"
   ]
  },
  {
   "cell_type": "code",
   "execution_count": 7,
   "id": "e79552d4",
   "metadata": {},
   "outputs": [
    {
     "data": {
      "text/plain": [
       "shift_day (generic function with 3 methods)"
      ]
     },
     "execution_count": 7,
     "metadata": {},
     "output_type": "execute_result"
    }
   ],
   "source": [
    "function shift_day(lowInt=1, highInt=9)\n",
    "    rng = [lowInt:1:highInt;]\n",
    "    rng = [x for x in rng if x!=0]\n",
    "    days_shift = sample(rng)\n",
    "    return Dates.Day(days_shift)\n",
    "end"
   ]
  },
  {
   "cell_type": "code",
   "execution_count": 48,
   "id": "96ef0b69",
   "metadata": {},
   "outputs": [
    {
     "data": {
      "text/html": [
       "<div class=\"data-frame\"><p>8,599,212 rows × 8 columns</p><table class=\"data-frame\"><thead><tr><th></th><th>dt</th><th>AverageTemperature</th><th>AverageTemperatureUncertainty</th><th>City</th><th>Country</th><th>Latitude</th><th>Longitude</th><th>date_shifted</th></tr><tr><th></th><th title=\"Date\">Date</th><th title=\"Union{Missing, Float64}\">Float64?</th><th title=\"Union{Missing, Float64}\">Float64?</th><th title=\"String31\">String31</th><th title=\"String63\">String63</th><th title=\"String7\">String7</th><th title=\"String7\">String7</th><th title=\"Date\">Date</th></tr></thead><tbody><tr><th>1</th><td>1743-11-01</td><td>6.068</td><td>1.737</td><td>Århus</td><td>Denmark</td><td>57.05N</td><td>10.33E</td><td>1743-11-07</td></tr><tr><th>2</th><td>1743-11-01</td><td>10.013</td><td>2.291</td><td>Çorlu</td><td>Turkey</td><td>40.99N</td><td>27.69E</td><td>1743-10-25</td></tr><tr><th>3</th><td>1743-11-01</td><td>10.779</td><td>1.942</td><td>A Coruña</td><td>Spain</td><td>42.59N</td><td>8.73W</td><td>1743-10-31</td></tr><tr><th>4</th><td>1743-11-01</td><td>6.425</td><td>1.628</td><td>Aachen</td><td>Germany</td><td>50.63N</td><td>6.34E</td><td>1743-11-09</td></tr><tr><th>5</th><td>1743-11-01</td><td>6.068</td><td>1.737</td><td>Aalborg</td><td>Denmark</td><td>57.05N</td><td>10.33E</td><td>1743-10-29</td></tr><tr><th>6</th><td>1743-11-01</td><td>8.758</td><td>1.886</td><td>Aberdeen</td><td>United Kingdom</td><td>57.05N</td><td>1.48W</td><td>1743-10-28</td></tr><tr><th>7</th><td>1743-11-01</td><td>7.478</td><td>1.866</td><td>Aix En Provence</td><td>France</td><td>44.20N</td><td>4.47E</td><td>1743-10-31</td></tr><tr><th>8</th><td>1743-11-01</td><td>3.209</td><td>1.961</td><td>Akron</td><td>United States</td><td>40.99N</td><td>80.95W</td><td>1743-10-24</td></tr><tr><th>9</th><td>1743-11-01</td><td>7.801</td><td>2.002</td><td>Albacete</td><td>Spain</td><td>39.38N</td><td>2.08W</td><td>1743-11-06</td></tr><tr><th>10</th><td>1743-11-01</td><td>6.652</td><td>2.015</td><td>Alcalá De Henares</td><td>Spain</td><td>40.99N</td><td>4.26W</td><td>1743-11-03</td></tr><tr><th>11</th><td>1743-11-01</td><td>6.652</td><td>2.015</td><td>Alcobendas</td><td>Spain</td><td>40.99N</td><td>4.26W</td><td>1743-11-02</td></tr><tr><th>12</th><td>1743-11-01</td><td>6.652</td><td>2.015</td><td>Alcorcón</td><td>Spain</td><td>40.99N</td><td>4.26W</td><td>1743-10-25</td></tr><tr><th>13</th><td>1743-11-01</td><td>5.339</td><td>1.828</td><td>Alexandria</td><td>United States</td><td>39.38N</td><td>76.99W</td><td>1743-10-26</td></tr><tr><th>14</th><td>1743-11-01</td><td>3.264</td><td>1.665</td><td>Allentown</td><td>United States</td><td>40.99N</td><td>74.56W</td><td>1743-10-25</td></tr><tr><th>15</th><td>1743-11-01</td><td>7.431</td><td>1.639</td><td>Almere</td><td>Netherlands</td><td>52.24N</td><td>5.26E</td><td>1743-11-10</td></tr><tr><th>16</th><td>1743-11-01</td><td>-5.556</td><td>2.627</td><td>Almetyevsk</td><td>Russia</td><td>55.45N</td><td>51.02E</td><td>1743-11-09</td></tr><tr><th>17</th><td>1743-11-01</td><td>7.431</td><td>1.639</td><td>Amersfoort</td><td>Netherlands</td><td>52.24N</td><td>5.26E</td><td>1743-11-03</td></tr><tr><th>18</th><td>1743-11-01</td><td>7.648</td><td>1.749</td><td>Amiens</td><td>France</td><td>49.03N</td><td>2.45E</td><td>1743-10-23</td></tr><tr><th>19</th><td>1743-11-01</td><td>7.431</td><td>1.639</td><td>Amsterdam</td><td>Netherlands</td><td>52.24N</td><td>5.26E</td><td>1743-10-30</td></tr><tr><th>20</th><td>1743-11-01</td><td>11.809</td><td>1.888</td><td>Ancona</td><td>Italy</td><td>44.20N</td><td>13.42E</td><td>1743-10-26</td></tr><tr><th>21</th><td>1743-11-01</td><td>8.043</td><td>1.841</td><td>Angers</td><td>France</td><td>47.42N</td><td>1.18W</td><td>1743-10-26</td></tr><tr><th>22</th><td>1743-11-01</td><td>2.208</td><td>1.997</td><td>Ann Arbor</td><td>United States</td><td>42.59N</td><td>82.91W</td><td>1743-11-07</td></tr><tr><th>23</th><td>1743-11-01</td><td>7.52</td><td>1.657</td><td>Antwerp</td><td>Belgium</td><td>50.63N</td><td>3.80E</td><td>1743-11-08</td></tr><tr><th>24</th><td>1743-11-01</td><td>7.431</td><td>1.639</td><td>Apeldoorn</td><td>Netherlands</td><td>52.24N</td><td>5.26E</td><td>1743-10-26</td></tr><tr><th>25</th><td>1743-11-01</td><td>4.952</td><td>2.088</td><td>Arad</td><td>Romania</td><td>45.81N</td><td>21.92E</td><td>1743-10-28</td></tr><tr><th>26</th><td>1743-11-01</td><td>-4.654</td><td>2.462</td><td>Arkhangelsk</td><td>Russia</td><td>65.09N</td><td>40.21E</td><td>1743-10-24</td></tr><tr><th>27</th><td>1743-11-01</td><td>5.339</td><td>1.828</td><td>Arlington</td><td>United States</td><td>39.38N</td><td>76.99W</td><td>1743-10-24</td></tr><tr><th>28</th><td>1743-11-01</td><td>3.51</td><td>2.523</td><td>Armavir</td><td>Russia</td><td>45.81N</td><td>40.38E</td><td>1743-10-29</td></tr><tr><th>29</th><td>1743-11-01</td><td>7.431</td><td>1.639</td><td>Arnhem</td><td>Netherlands</td><td>52.24N</td><td>5.26E</td><td>1743-11-03</td></tr><tr><th>30</th><td>1743-11-01</td><td>14.721</td><td>1.965</td><td>Aryanah</td><td>Tunisia</td><td>36.17N</td><td>9.94E</td><td>1743-11-03</td></tr><tr><th>&vellip;</th><td>&vellip;</td><td>&vellip;</td><td>&vellip;</td><td>&vellip;</td><td>&vellip;</td><td>&vellip;</td><td>&vellip;</td><td>&vellip;</td></tr></tbody></table></div>"
      ],
      "text/latex": [
       "\\begin{tabular}{r|cccccccc}\n",
       "\t& dt & AverageTemperature & AverageTemperatureUncertainty & City & Country & Latitude & Longitude & date\\_shifted\\\\\n",
       "\t\\hline\n",
       "\t& Date & Float64? & Float64? & String31 & String63 & String7 & String7 & Date\\\\\n",
       "\t\\hline\n",
       "\t1 & 1743-11-01 & 6.068 & 1.737 & Århus & Denmark & 57.05N & 10.33E & 1743-11-07 \\\\\n",
       "\t2 & 1743-11-01 & 10.013 & 2.291 & Çorlu & Turkey & 40.99N & 27.69E & 1743-10-25 \\\\\n",
       "\t3 & 1743-11-01 & 10.779 & 1.942 & A Coruña & Spain & 42.59N & 8.73W & 1743-10-31 \\\\\n",
       "\t4 & 1743-11-01 & 6.425 & 1.628 & Aachen & Germany & 50.63N & 6.34E & 1743-11-09 \\\\\n",
       "\t5 & 1743-11-01 & 6.068 & 1.737 & Aalborg & Denmark & 57.05N & 10.33E & 1743-10-29 \\\\\n",
       "\t6 & 1743-11-01 & 8.758 & 1.886 & Aberdeen & United Kingdom & 57.05N & 1.48W & 1743-10-28 \\\\\n",
       "\t7 & 1743-11-01 & 7.478 & 1.866 & Aix En Provence & France & 44.20N & 4.47E & 1743-10-31 \\\\\n",
       "\t8 & 1743-11-01 & 3.209 & 1.961 & Akron & United States & 40.99N & 80.95W & 1743-10-24 \\\\\n",
       "\t9 & 1743-11-01 & 7.801 & 2.002 & Albacete & Spain & 39.38N & 2.08W & 1743-11-06 \\\\\n",
       "\t10 & 1743-11-01 & 6.652 & 2.015 & Alcalá De Henares & Spain & 40.99N & 4.26W & 1743-11-03 \\\\\n",
       "\t11 & 1743-11-01 & 6.652 & 2.015 & Alcobendas & Spain & 40.99N & 4.26W & 1743-11-02 \\\\\n",
       "\t12 & 1743-11-01 & 6.652 & 2.015 & Alcorcón & Spain & 40.99N & 4.26W & 1743-10-25 \\\\\n",
       "\t13 & 1743-11-01 & 5.339 & 1.828 & Alexandria & United States & 39.38N & 76.99W & 1743-10-26 \\\\\n",
       "\t14 & 1743-11-01 & 3.264 & 1.665 & Allentown & United States & 40.99N & 74.56W & 1743-10-25 \\\\\n",
       "\t15 & 1743-11-01 & 7.431 & 1.639 & Almere & Netherlands & 52.24N & 5.26E & 1743-11-10 \\\\\n",
       "\t16 & 1743-11-01 & -5.556 & 2.627 & Almetyevsk & Russia & 55.45N & 51.02E & 1743-11-09 \\\\\n",
       "\t17 & 1743-11-01 & 7.431 & 1.639 & Amersfoort & Netherlands & 52.24N & 5.26E & 1743-11-03 \\\\\n",
       "\t18 & 1743-11-01 & 7.648 & 1.749 & Amiens & France & 49.03N & 2.45E & 1743-10-23 \\\\\n",
       "\t19 & 1743-11-01 & 7.431 & 1.639 & Amsterdam & Netherlands & 52.24N & 5.26E & 1743-10-30 \\\\\n",
       "\t20 & 1743-11-01 & 11.809 & 1.888 & Ancona & Italy & 44.20N & 13.42E & 1743-10-26 \\\\\n",
       "\t21 & 1743-11-01 & 8.043 & 1.841 & Angers & France & 47.42N & 1.18W & 1743-10-26 \\\\\n",
       "\t22 & 1743-11-01 & 2.208 & 1.997 & Ann Arbor & United States & 42.59N & 82.91W & 1743-11-07 \\\\\n",
       "\t23 & 1743-11-01 & 7.52 & 1.657 & Antwerp & Belgium & 50.63N & 3.80E & 1743-11-08 \\\\\n",
       "\t24 & 1743-11-01 & 7.431 & 1.639 & Apeldoorn & Netherlands & 52.24N & 5.26E & 1743-10-26 \\\\\n",
       "\t25 & 1743-11-01 & 4.952 & 2.088 & Arad & Romania & 45.81N & 21.92E & 1743-10-28 \\\\\n",
       "\t26 & 1743-11-01 & -4.654 & 2.462 & Arkhangelsk & Russia & 65.09N & 40.21E & 1743-10-24 \\\\\n",
       "\t27 & 1743-11-01 & 5.339 & 1.828 & Arlington & United States & 39.38N & 76.99W & 1743-10-24 \\\\\n",
       "\t28 & 1743-11-01 & 3.51 & 2.523 & Armavir & Russia & 45.81N & 40.38E & 1743-10-29 \\\\\n",
       "\t29 & 1743-11-01 & 7.431 & 1.639 & Arnhem & Netherlands & 52.24N & 5.26E & 1743-11-03 \\\\\n",
       "\t30 & 1743-11-01 & 14.721 & 1.965 & Aryanah & Tunisia & 36.17N & 9.94E & 1743-11-03 \\\\\n",
       "\t$\\dots$ & $\\dots$ & $\\dots$ & $\\dots$ & $\\dots$ & $\\dots$ & $\\dots$ & $\\dots$ & $\\dots$ \\\\\n",
       "\\end{tabular}\n"
      ],
      "text/plain": [
       "\u001b[1m8599212×8 DataFrame\u001b[0m\n",
       "\u001b[1m     Row \u001b[0m│\u001b[1m dt         \u001b[0m\u001b[1m AverageTemperature \u001b[0m\u001b[1m AverageTemperatureUncertainty \u001b[0m\u001b[1m City              \u001b[0m\u001b[1m Country        \u001b[0m\u001b[1m Latitude \u001b[0m\u001b[1m Longitude \u001b[0m\u001b[1m date_shifted \u001b[0m\n",
       "\u001b[1m         \u001b[0m│\u001b[90m Date       \u001b[0m\u001b[90m Float64?           \u001b[0m\u001b[90m Float64?                      \u001b[0m\u001b[90m String31          \u001b[0m\u001b[90m String63       \u001b[0m\u001b[90m String7  \u001b[0m\u001b[90m String7   \u001b[0m\u001b[90m Date         \u001b[0m\n",
       "─────────┼─────────────────────────────────────────────────────────────────────────────────────────────────────────────────────────────────────\n",
       "       1 │ 1743-11-01               6.068                          1.737  Århus              Denmark         57.05N    10.33E     1743-11-07\n",
       "       2 │ 1743-11-01              10.013                          2.291  Çorlu              Turkey          40.99N    27.69E     1743-10-25\n",
       "       3 │ 1743-11-01              10.779                          1.942  A Coruña           Spain           42.59N    8.73W      1743-10-31\n",
       "       4 │ 1743-11-01               6.425                          1.628  Aachen             Germany         50.63N    6.34E      1743-11-09\n",
       "       5 │ 1743-11-01               6.068                          1.737  Aalborg            Denmark         57.05N    10.33E     1743-10-29\n",
       "       6 │ 1743-11-01               8.758                          1.886  Aberdeen           United Kingdom  57.05N    1.48W      1743-10-28\n",
       "       7 │ 1743-11-01               7.478                          1.866  Aix En Provence    France          44.20N    4.47E      1743-10-31\n",
       "       8 │ 1743-11-01               3.209                          1.961  Akron              United States   40.99N    80.95W     1743-10-24\n",
       "       9 │ 1743-11-01               7.801                          2.002  Albacete           Spain           39.38N    2.08W      1743-11-06\n",
       "      10 │ 1743-11-01               6.652                          2.015  Alcalá De Henares  Spain           40.99N    4.26W      1743-11-03\n",
       "      11 │ 1743-11-01               6.652                          2.015  Alcobendas         Spain           40.99N    4.26W      1743-11-02\n",
       "    ⋮    │     ⋮               ⋮                         ⋮                        ⋮                ⋮            ⋮          ⋮           ⋮\n",
       " 8599203 │ 2013-09-01 \u001b[90m        missing     \u001b[0m\u001b[90m                   missing     \u001b[0m Ziguinchor         Senegal         12.05N    16.44W     2013-08-26\n",
       " 8599204 │ 2013-09-01 \u001b[90m        missing     \u001b[0m\u001b[90m                   missing     \u001b[0m Zinder             Niger           13.66N    9.08E      2013-08-27\n",
       " 8599205 │ 2013-09-01 \u001b[90m        missing     \u001b[0m\u001b[90m                   missing     \u001b[0m Zlatoust           Russia          55.45N    59.53E     2013-09-08\n",
       " 8599206 │ 2013-09-01 \u001b[90m        missing     \u001b[0m\u001b[90m                   missing     \u001b[0m Zoetermeer         Netherlands     52.24N    5.26E      2013-08-23\n",
       " 8599207 │ 2013-09-01 \u001b[90m        missing     \u001b[0m\u001b[90m                   missing     \u001b[0m Zonguldak          Turkey          40.99N    31.95E     2013-09-05\n",
       " 8599208 │ 2013-09-01 \u001b[90m        missing     \u001b[0m\u001b[90m                   missing     \u001b[0m Zouxian            China           36.17N    117.35E    2013-09-04\n",
       " 8599209 │ 2013-09-01 \u001b[90m        missing     \u001b[0m\u001b[90m                   missing     \u001b[0m Zunyi              China           28.13N    106.36E    2013-08-26\n",
       " 8599210 │ 2013-09-01 \u001b[90m        missing     \u001b[0m\u001b[90m                   missing     \u001b[0m Zurich             Switzerland     47.42N    8.29E      2013-08-30\n",
       " 8599211 │ 2013-09-01 \u001b[90m        missing     \u001b[0m\u001b[90m                   missing     \u001b[0m Zuwarah            Libya           32.95N    12.45E     2013-09-03\n",
       " 8599212 │ 2013-09-01 \u001b[90m        missing     \u001b[0m\u001b[90m                   missing     \u001b[0m Zwolle             Netherlands     52.24N    5.26E      2013-09-07\n",
       "\u001b[36m                                                                                                                           8599191 rows omitted\u001b[0m"
      ]
     },
     "execution_count": 48,
     "metadata": {},
     "output_type": "execute_result"
    }
   ],
   "source": [
    "@pipe df_temp |>\n",
    "    groupby(_, :City) |>\n",
    "    transform(_, :dt => (x -> x .+ shift_day(-9, 9)) => :date_shifted) |>\n",
    "    sort(_, :dt)"
   ]
  },
  {
   "cell_type": "code",
   "execution_count": 38,
   "id": "09fac54c",
   "metadata": {},
   "outputs": [],
   "source": [
    "df_temp2 = @pipe df_temp |>\n",
    "    transform(_, :dt => (x -> x - lag(x)) => :date_interval) |>\n",
    "    transform(_, [:date_interval, :dt] => ByRow( (x,y) -> ismissing(x) ? y : x + shift_day(-9, 9)) => :date_interval_shifted) |>\n",
    "    transform(_, :date_interval_shifted => cumsum => :date_shifted) |>\n",
    "    transform(_, :date_shifted => ByRow(Date) => :date_shifted);"
   ]
  },
  {
   "cell_type": "code",
   "execution_count": 39,
   "id": "c32755c8",
   "metadata": {},
   "outputs": [
    {
     "data": {
      "text/html": [
       "<div class=\"data-frame\"><p>5 rows × 10 columns</p><table class=\"data-frame\"><thead><tr><th></th><th>dt</th><th>AverageTemperature</th><th>AverageTemperatureUncertainty</th><th>City</th><th>Country</th><th>Latitude</th><th>Longitude</th><th>date_interval</th><th>date_interval_shifted</th><th>date_shifted</th></tr><tr><th></th><th title=\"Date\">Date</th><th title=\"Union{Missing, Float64}\">Float64?</th><th title=\"Union{Missing, Float64}\">Float64?</th><th title=\"String31\">String31</th><th title=\"String63\">String63</th><th title=\"String7\">String7</th><th title=\"String7\">String7</th><th title=\"Union{Missing, Day}\">Day?</th><th title=\"Dates.AbstractTime\">Abstrac…</th><th title=\"Date\">Date</th></tr></thead><tbody><tr><th>1</th><td>1743-11-01</td><td>6.068</td><td>1.737</td><td>Århus</td><td>Denmark</td><td>57.05N</td><td>10.33E</td><td><em>missing</em></td><td>1743-11-01</td><td>1743-11-01</td></tr><tr><th>2</th><td>1743-12-01</td><td><em>missing</em></td><td><em>missing</em></td><td>Århus</td><td>Denmark</td><td>57.05N</td><td>10.33E</td><td>30 days</td><td>21 days</td><td>1743-11-22</td></tr><tr><th>3</th><td>1744-01-01</td><td><em>missing</em></td><td><em>missing</em></td><td>Århus</td><td>Denmark</td><td>57.05N</td><td>10.33E</td><td>31 days</td><td>26 days</td><td>1743-12-18</td></tr><tr><th>4</th><td>1744-02-01</td><td><em>missing</em></td><td><em>missing</em></td><td>Århus</td><td>Denmark</td><td>57.05N</td><td>10.33E</td><td>31 days</td><td>22 days</td><td>1744-01-09</td></tr><tr><th>5</th><td>1744-03-01</td><td><em>missing</em></td><td><em>missing</em></td><td>Århus</td><td>Denmark</td><td>57.05N</td><td>10.33E</td><td>29 days</td><td>38 days</td><td>1744-02-16</td></tr></tbody></table></div>"
      ],
      "text/latex": [
       "\\begin{tabular}{r|cccccccccc}\n",
       "\t& dt & AverageTemperature & AverageTemperatureUncertainty & City & Country & Latitude & Longitude & date\\_interval & date\\_interval\\_shifted & date\\_shifted\\\\\n",
       "\t\\hline\n",
       "\t& Date & Float64? & Float64? & String31 & String63 & String7 & String7 & Day? & Abstrac… & Date\\\\\n",
       "\t\\hline\n",
       "\t1 & 1743-11-01 & 6.068 & 1.737 & Århus & Denmark & 57.05N & 10.33E & \\emph{missing} & 1743-11-01 & 1743-11-01 \\\\\n",
       "\t2 & 1743-12-01 & \\emph{missing} & \\emph{missing} & Århus & Denmark & 57.05N & 10.33E & 30 days & 21 days & 1743-11-22 \\\\\n",
       "\t3 & 1744-01-01 & \\emph{missing} & \\emph{missing} & Århus & Denmark & 57.05N & 10.33E & 31 days & 26 days & 1743-12-18 \\\\\n",
       "\t4 & 1744-02-01 & \\emph{missing} & \\emph{missing} & Århus & Denmark & 57.05N & 10.33E & 31 days & 22 days & 1744-01-09 \\\\\n",
       "\t5 & 1744-03-01 & \\emph{missing} & \\emph{missing} & Århus & Denmark & 57.05N & 10.33E & 29 days & 38 days & 1744-02-16 \\\\\n",
       "\\end{tabular}\n"
      ],
      "text/plain": [
       "\u001b[1m5×10 DataFrame\u001b[0m\n",
       "\u001b[1m Row \u001b[0m│\u001b[1m dt         \u001b[0m\u001b[1m AverageTemperature \u001b[0m\u001b[1m AverageTemperatureUncertainty \u001b[0m\u001b[1m City     \u001b[0m\u001b[1m Country  \u001b[0m\u001b[1m Latitude \u001b[0m\u001b[1m Longitude \u001b[0m\u001b[1m date_interval \u001b[0m\u001b[1m date_interval_shifted \u001b[0m\u001b[1m date_shifted \u001b[0m\n",
       "\u001b[1m     \u001b[0m│\u001b[90m Date       \u001b[0m\u001b[90m Float64?           \u001b[0m\u001b[90m Float64?                      \u001b[0m\u001b[90m String31 \u001b[0m\u001b[90m String63 \u001b[0m\u001b[90m String7  \u001b[0m\u001b[90m String7   \u001b[0m\u001b[90m Day?          \u001b[0m\u001b[90m Dates.AbstractTime    \u001b[0m\u001b[90m Date         \u001b[0m\n",
       "─────┼────────────────────────────────────────────────────────────────────────────────────────────────────────────────────────────────────────────────────────────\n",
       "   1 │ 1743-11-01               6.068                          1.737  Århus     Denmark   57.05N    10.33E    \u001b[90m missing       \u001b[0m 1743-11-01             1743-11-01\n",
       "   2 │ 1743-12-01 \u001b[90m        missing     \u001b[0m\u001b[90m                   missing     \u001b[0m Århus     Denmark   57.05N    10.33E     30 days        21 days                1743-11-22\n",
       "   3 │ 1744-01-01 \u001b[90m        missing     \u001b[0m\u001b[90m                   missing     \u001b[0m Århus     Denmark   57.05N    10.33E     31 days        26 days                1743-12-18\n",
       "   4 │ 1744-02-01 \u001b[90m        missing     \u001b[0m\u001b[90m                   missing     \u001b[0m Århus     Denmark   57.05N    10.33E     31 days        22 days                1744-01-09\n",
       "   5 │ 1744-03-01 \u001b[90m        missing     \u001b[0m\u001b[90m                   missing     \u001b[0m Århus     Denmark   57.05N    10.33E     29 days        38 days                1744-02-16"
      ]
     },
     "execution_count": 39,
     "metadata": {},
     "output_type": "execute_result"
    }
   ],
   "source": [
    "first(df_temp2, 5)"
   ]
  }
 ],
 "metadata": {
  "kernelspec": {
   "display_name": "Julia 1.6.3",
   "language": "julia",
   "name": "julia-1.6"
  },
  "language_info": {
   "file_extension": ".jl",
   "mimetype": "application/julia",
   "name": "julia",
   "version": "1.6.3"
  }
 },
 "nbformat": 4,
 "nbformat_minor": 5
}
