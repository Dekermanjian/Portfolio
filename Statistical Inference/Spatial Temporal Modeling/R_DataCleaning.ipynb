{
 "cells": [
  {
   "cell_type": "markdown",
   "id": "f8071c1b-bbd8-49c5-a70e-c129338ce02b",
   "metadata": {},
   "source": [
    "# Imports"
   ]
  },
  {
   "cell_type": "code",
   "execution_count": 1,
   "id": "3f5adb59-fe08-412a-af86-4e5d62a023ab",
   "metadata": {},
   "outputs": [],
   "source": [
    "suppressPackageStartupMessages({\n",
    "    library('utils')\n",
    "    library('vroom')\n",
    "    library('tidyverse')\n",
    "})\n"
   ]
  },
  {
   "cell_type": "markdown",
   "id": "45de6d8a-6ce4-47a2-96a4-6285321d891f",
   "metadata": {},
   "source": [
    "# Load and Process Data"
   ]
  },
  {
   "cell_type": "code",
   "execution_count": 2,
   "id": "3b5c6dc7-6625-4bd8-9fb6-b9fbf03e1e74",
   "metadata": {},
   "outputs": [],
   "source": [
    "df.temp = vroom(\"Data/GlobalLandTemperaturesByCity.csv\", progress = F, show_col_types = FALSE)"
   ]
  },
  {
   "cell_type": "code",
   "execution_count": 4,
   "id": "5276e096-da38-403c-820f-d0f1b901697e",
   "metadata": {},
   "outputs": [
    {
     "data": {
      "text/html": [
       "<table class=\"dataframe\">\n",
       "<caption>A tibble: 6 × 6</caption>\n",
       "<thead>\n",
       "\t<tr><th scope=col>year</th><th scope=col>City</th><th scope=col>Country</th><th scope=col>AvgTemp_year</th><th scope=col>lat</th><th scope=col>long</th></tr>\n",
       "\t<tr><th scope=col>&lt;chr&gt;</th><th scope=col>&lt;chr&gt;</th><th scope=col>&lt;chr&gt;</th><th scope=col>&lt;dbl&gt;</th><th scope=col>&lt;dbl&gt;</th><th scope=col>&lt;dbl&gt;</th></tr>\n",
       "</thead>\n",
       "<tbody>\n",
       "\t<tr><td>1744</td><td>Birmingham</td><td>United Kingdom</td><td> 3.712</td><td>52.24</td><td> -2.63</td></tr>\n",
       "\t<tr><td>1744</td><td>Birmingham</td><td>United States </td><td> 6.895</td><td>32.95</td><td>-87.13</td></tr>\n",
       "\t<tr><td>1744</td><td>Brest     </td><td>Belarus       </td><td>-3.280</td><td>52.24</td><td> 23.65</td></tr>\n",
       "\t<tr><td>1744</td><td>Brest     </td><td>France        </td><td> 9.092</td><td>49.03</td><td> -4.90</td></tr>\n",
       "\t<tr><td>1744</td><td>Cambridge </td><td>United Kingdom</td><td> 3.752</td><td>52.24</td><td>  0.00</td></tr>\n",
       "\t<tr><td>1744</td><td>Cambridge </td><td>United States </td><td>-5.335</td><td>42.59</td><td>-72.00</td></tr>\n",
       "</tbody>\n",
       "</table>\n"
      ],
      "text/latex": [
       "A tibble: 6 × 6\n",
       "\\begin{tabular}{llllll}\n",
       " year & City & Country & AvgTemp\\_year & lat & long\\\\\n",
       " <chr> & <chr> & <chr> & <dbl> & <dbl> & <dbl>\\\\\n",
       "\\hline\n",
       "\t 1744 & Birmingham & United Kingdom &  3.712 & 52.24 &  -2.63\\\\\n",
       "\t 1744 & Birmingham & United States  &  6.895 & 32.95 & -87.13\\\\\n",
       "\t 1744 & Brest      & Belarus        & -3.280 & 52.24 &  23.65\\\\\n",
       "\t 1744 & Brest      & France         &  9.092 & 49.03 &  -4.90\\\\\n",
       "\t 1744 & Cambridge  & United Kingdom &  3.752 & 52.24 &   0.00\\\\\n",
       "\t 1744 & Cambridge  & United States  & -5.335 & 42.59 & -72.00\\\\\n",
       "\\end{tabular}\n"
      ],
      "text/markdown": [
       "\n",
       "A tibble: 6 × 6\n",
       "\n",
       "| year &lt;chr&gt; | City &lt;chr&gt; | Country &lt;chr&gt; | AvgTemp_year &lt;dbl&gt; | lat &lt;dbl&gt; | long &lt;dbl&gt; |\n",
       "|---|---|---|---|---|---|\n",
       "| 1744 | Birmingham | United Kingdom |  3.712 | 52.24 |  -2.63 |\n",
       "| 1744 | Birmingham | United States  |  6.895 | 32.95 | -87.13 |\n",
       "| 1744 | Brest      | Belarus        | -3.280 | 52.24 |  23.65 |\n",
       "| 1744 | Brest      | France         |  9.092 | 49.03 |  -4.90 |\n",
       "| 1744 | Cambridge  | United Kingdom |  3.752 | 52.24 |   0.00 |\n",
       "| 1744 | Cambridge  | United States  | -5.335 | 42.59 | -72.00 |\n",
       "\n"
      ],
      "text/plain": [
       "  year City       Country        AvgTemp_year lat   long  \n",
       "1 1744 Birmingham United Kingdom  3.712       52.24  -2.63\n",
       "2 1744 Birmingham United States   6.895       32.95 -87.13\n",
       "3 1744 Brest      Belarus        -3.280       52.24  23.65\n",
       "4 1744 Brest      France          9.092       49.03  -4.90\n",
       "5 1744 Cambridge  United Kingdom  3.752       52.24   0.00\n",
       "6 1744 Cambridge  United States  -5.335       42.59 -72.00"
      ]
     },
     "metadata": {},
     "output_type": "display_data"
    }
   ],
   "source": [
    "df.temp %>% \n",
    "  mutate(\n",
    "    date = as.Date(dt, \"%Y-%m-%d\"),\n",
    "    year =  format(date, '%Y'),\n",
    "    month = as.factor(format(date, \"%b\")),\n",
    "    day = format(date, \"%d\")\n",
    "    ) %>% \n",
    "    filter(!is.na(AverageTemperature)) %>% # Remove missing values\n",
    "    group_by(year, City) %>% \n",
    "    mutate(nrow = n()) %>% \n",
    "    filter(nrow>11) %>%  # Remove any Cities that don't have complete 12 month data\n",
    "    ungroup() %>% \n",
    "    filter(month == \"Dec\") %>% # Select a specific month\n",
    "    group_by(year, City, Country, Latitude, Longitude) %>% \n",
    "    summarise(AvgTemp_year = mean(AverageTemperature), .groups=\"drop_last\") %>% # Average the Average temperature into yearly avg temp\n",
    "    ungroup() %>% \n",
    "    mutate( # Change South West indicators to negative positive\n",
    "    sign_long = case_when(str_detect(Longitude, \"W\")~-1, T~1),\n",
    "    sign_lat = case_when(str_detect(Latitude, \"S\")~-1, T~1),\n",
    "    lat = sign_lat*as.numeric(str_remove(Latitude, \"[A-Z]\")), # Multiply the sign by the lat/long degree value\n",
    "    long = sign_long*as.numeric(str_remove(Longitude, \"[A-Z]\"))\n",
    "    ) %>% \n",
    "    select(c(year, City, Country, AvgTemp_year, lat, long)) %>%\n",
    "    head()"
   ]
  }
 ],
 "metadata": {
  "kernelspec": {
   "display_name": "R",
   "language": "R",
   "name": "ir"
  },
  "language_info": {
   "codemirror_mode": "r",
   "file_extension": ".r",
   "mimetype": "text/x-r-source",
   "name": "R",
   "pygments_lexer": "r",
   "version": "4.1.2"
  }
 },
 "nbformat": 4,
 "nbformat_minor": 5
}
