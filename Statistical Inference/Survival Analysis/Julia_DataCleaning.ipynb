{
 "cells": [
  {
   "cell_type": "markdown",
   "id": "de830b7a-b837-443a-b246-e2d1ab24db68",
   "metadata": {},
   "source": [
    "# Imports"
   ]
  },
  {
   "cell_type": "code",
   "execution_count": 1,
   "id": "ab7fde90-a3f9-459b-a466-c036ed6a9272",
   "metadata": {},
   "outputs": [],
   "source": [
    "using CSV\n",
    "using DataFrames\n",
    "using Dates\n",
    "using CategoricalArrays\n",
    "using Pipe: @pipe"
   ]
  },
  {
   "cell_type": "code",
   "execution_count": 2,
   "id": "e1615dc4-270f-4e84-99c9-842436a9bb32",
   "metadata": {},
   "outputs": [
    {
     "data": {
      "text/plain": [
       "2200"
      ]
     },
     "metadata": {},
     "output_type": "display_data"
    }
   ],
   "source": [
    "ENV[\"COLUMNS\"]=2200"
   ]
  },
  {
   "cell_type": "markdown",
   "id": "61e26752-9f90-4fa4-b537-bb94571ecf9e",
   "metadata": {},
   "source": [
    "# Load Data"
   ]
  },
  {
   "cell_type": "code",
   "execution_count": 3,
   "id": "b26bbf38-35a2-4312-9d57-461d469f29be",
   "metadata": {},
   "outputs": [
    {
     "data": {
      "text/html": [
       "<div class=\"data-frame\"><p>5 rows × 39 columns</p><table class=\"data-frame\"><thead><tr><th></th><th>RANDID</th><th>SEX</th><th>TOTCHOL</th><th>AGE</th><th>SYSBP</th><th>DIABP</th><th>CURSMOKE</th><th>CIGPDAY</th><th>BMI</th><th>DIABETES</th><th>BPMEDS</th><th>HEARTRTE</th><th>GLUCOSE</th><th>educ</th><th>PREVCHD</th><th>PREVAP</th><th>PREVMI</th><th>PREVSTRK</th><th>PREVHYP</th><th>TIME</th><th>PERIOD</th><th>HDLC</th><th>LDLC</th><th>DEATH</th><th>ANGINA</th><th>HOSPMI</th><th>MI_FCHD</th><th>ANYCHD</th><th>STROKE</th><th>CVD</th><th>HYPERTEN</th><th>TIMEAP</th><th>TIMEMI</th><th>TIMEMIFC</th><th>TIMECHD</th><th>TIMESTRK</th><th>TIMECVD</th><th>TIMEDTH</th><th>TIMEHYP</th></tr><tr><th></th><th title=\"Int64\">Int64</th><th title=\"Int64\">Int64</th><th title=\"Union{Missing, Int64}\">Int64?</th><th title=\"Int64\">Int64</th><th title=\"Float64\">Float64</th><th title=\"Float64\">Float64</th><th title=\"Int64\">Int64</th><th title=\"Union{Missing, Int64}\">Int64?</th><th title=\"Union{Missing, Float64}\">Float64?</th><th title=\"Int64\">Int64</th><th title=\"Union{Missing, Int64}\">Int64?</th><th title=\"Union{Missing, Int64}\">Int64?</th><th title=\"Union{Missing, Int64}\">Int64?</th><th title=\"Union{Missing, Int64}\">Int64?</th><th title=\"Int64\">Int64</th><th title=\"Int64\">Int64</th><th title=\"Int64\">Int64</th><th title=\"Int64\">Int64</th><th title=\"Int64\">Int64</th><th title=\"Int64\">Int64</th><th title=\"Int64\">Int64</th><th title=\"Union{Missing, Int64}\">Int64?</th><th title=\"Union{Missing, Int64}\">Int64?</th><th title=\"Int64\">Int64</th><th title=\"Int64\">Int64</th><th title=\"Int64\">Int64</th><th title=\"Int64\">Int64</th><th title=\"Int64\">Int64</th><th title=\"Int64\">Int64</th><th title=\"Int64\">Int64</th><th title=\"Int64\">Int64</th><th title=\"Int64\">Int64</th><th title=\"Int64\">Int64</th><th title=\"Int64\">Int64</th><th title=\"Int64\">Int64</th><th title=\"Int64\">Int64</th><th title=\"Int64\">Int64</th><th title=\"Int64\">Int64</th><th title=\"Int64\">Int64</th></tr></thead><tbody><tr><th>1</th><td>2448</td><td>1</td><td>195</td><td>39</td><td>106.0</td><td>70.0</td><td>0</td><td>0</td><td>26.97</td><td>0</td><td>0</td><td>80</td><td>77</td><td>4</td><td>0</td><td>0</td><td>0</td><td>0</td><td>0</td><td>0</td><td>1</td><td><em>missing</em></td><td><em>missing</em></td><td>0</td><td>0</td><td>1</td><td>1</td><td>1</td><td>0</td><td>1</td><td>0</td><td>8766</td><td>6438</td><td>6438</td><td>6438</td><td>8766</td><td>6438</td><td>8766</td><td>8766</td></tr><tr><th>2</th><td>2448</td><td>1</td><td>209</td><td>52</td><td>121.0</td><td>66.0</td><td>0</td><td>0</td><td><em>missing</em></td><td>0</td><td>0</td><td>69</td><td>92</td><td>4</td><td>0</td><td>0</td><td>0</td><td>0</td><td>0</td><td>4628</td><td>3</td><td>31</td><td>178</td><td>0</td><td>0</td><td>1</td><td>1</td><td>1</td><td>0</td><td>1</td><td>0</td><td>8766</td><td>6438</td><td>6438</td><td>6438</td><td>8766</td><td>6438</td><td>8766</td><td>8766</td></tr><tr><th>3</th><td>6238</td><td>2</td><td>250</td><td>46</td><td>121.0</td><td>81.0</td><td>0</td><td>0</td><td>28.73</td><td>0</td><td>0</td><td>95</td><td>76</td><td>2</td><td>0</td><td>0</td><td>0</td><td>0</td><td>0</td><td>0</td><td>1</td><td><em>missing</em></td><td><em>missing</em></td><td>0</td><td>0</td><td>0</td><td>0</td><td>0</td><td>0</td><td>0</td><td>0</td><td>8766</td><td>8766</td><td>8766</td><td>8766</td><td>8766</td><td>8766</td><td>8766</td><td>8766</td></tr><tr><th>4</th><td>6238</td><td>2</td><td>260</td><td>52</td><td>105.0</td><td>69.5</td><td>0</td><td>0</td><td>29.43</td><td>0</td><td>0</td><td>80</td><td>86</td><td>2</td><td>0</td><td>0</td><td>0</td><td>0</td><td>0</td><td>2156</td><td>2</td><td><em>missing</em></td><td><em>missing</em></td><td>0</td><td>0</td><td>0</td><td>0</td><td>0</td><td>0</td><td>0</td><td>0</td><td>8766</td><td>8766</td><td>8766</td><td>8766</td><td>8766</td><td>8766</td><td>8766</td><td>8766</td></tr><tr><th>5</th><td>6238</td><td>2</td><td>237</td><td>58</td><td>108.0</td><td>66.0</td><td>0</td><td>0</td><td>28.5</td><td>0</td><td>0</td><td>80</td><td>71</td><td>2</td><td>0</td><td>0</td><td>0</td><td>0</td><td>0</td><td>4344</td><td>3</td><td>54</td><td>141</td><td>0</td><td>0</td><td>0</td><td>0</td><td>0</td><td>0</td><td>0</td><td>0</td><td>8766</td><td>8766</td><td>8766</td><td>8766</td><td>8766</td><td>8766</td><td>8766</td><td>8766</td></tr></tbody></table></div>"
      ],
      "text/latex": [
       "\\begin{tabular}{r|ccccccccccccccccccccccccccccccccccccccc}\n",
       "\t& RANDID & SEX & TOTCHOL & AGE & SYSBP & DIABP & CURSMOKE & CIGPDAY & BMI & DIABETES & BPMEDS & HEARTRTE & GLUCOSE & educ & PREVCHD & PREVAP & PREVMI & PREVSTRK & PREVHYP & TIME & PERIOD & HDLC & LDLC & DEATH & ANGINA & HOSPMI & MI\\_FCHD & ANYCHD & STROKE & CVD & HYPERTEN & TIMEAP & TIMEMI & TIMEMIFC & TIMECHD & TIMESTRK & TIMECVD & TIMEDTH & TIMEHYP\\\\\n",
       "\t\\hline\n",
       "\t& Int64 & Int64 & Int64? & Int64 & Float64 & Float64 & Int64 & Int64? & Float64? & Int64 & Int64? & Int64? & Int64? & Int64? & Int64 & Int64 & Int64 & Int64 & Int64 & Int64 & Int64 & Int64? & Int64? & Int64 & Int64 & Int64 & Int64 & Int64 & Int64 & Int64 & Int64 & Int64 & Int64 & Int64 & Int64 & Int64 & Int64 & Int64 & Int64\\\\\n",
       "\t\\hline\n",
       "\t1 & 2448 & 1 & 195 & 39 & 106.0 & 70.0 & 0 & 0 & 26.97 & 0 & 0 & 80 & 77 & 4 & 0 & 0 & 0 & 0 & 0 & 0 & 1 & \\emph{missing} & \\emph{missing} & 0 & 0 & 1 & 1 & 1 & 0 & 1 & 0 & 8766 & 6438 & 6438 & 6438 & 8766 & 6438 & 8766 & 8766 \\\\\n",
       "\t2 & 2448 & 1 & 209 & 52 & 121.0 & 66.0 & 0 & 0 & \\emph{missing} & 0 & 0 & 69 & 92 & 4 & 0 & 0 & 0 & 0 & 0 & 4628 & 3 & 31 & 178 & 0 & 0 & 1 & 1 & 1 & 0 & 1 & 0 & 8766 & 6438 & 6438 & 6438 & 8766 & 6438 & 8766 & 8766 \\\\\n",
       "\t3 & 6238 & 2 & 250 & 46 & 121.0 & 81.0 & 0 & 0 & 28.73 & 0 & 0 & 95 & 76 & 2 & 0 & 0 & 0 & 0 & 0 & 0 & 1 & \\emph{missing} & \\emph{missing} & 0 & 0 & 0 & 0 & 0 & 0 & 0 & 0 & 8766 & 8766 & 8766 & 8766 & 8766 & 8766 & 8766 & 8766 \\\\\n",
       "\t4 & 6238 & 2 & 260 & 52 & 105.0 & 69.5 & 0 & 0 & 29.43 & 0 & 0 & 80 & 86 & 2 & 0 & 0 & 0 & 0 & 0 & 2156 & 2 & \\emph{missing} & \\emph{missing} & 0 & 0 & 0 & 0 & 0 & 0 & 0 & 0 & 8766 & 8766 & 8766 & 8766 & 8766 & 8766 & 8766 & 8766 \\\\\n",
       "\t5 & 6238 & 2 & 237 & 58 & 108.0 & 66.0 & 0 & 0 & 28.5 & 0 & 0 & 80 & 71 & 2 & 0 & 0 & 0 & 0 & 0 & 4344 & 3 & 54 & 141 & 0 & 0 & 0 & 0 & 0 & 0 & 0 & 0 & 8766 & 8766 & 8766 & 8766 & 8766 & 8766 & 8766 & 8766 \\\\\n",
       "\\end{tabular}\n"
      ],
      "text/plain": [
       "\u001b[1m5×39 DataFrame\u001b[0m\n",
       "\u001b[1m Row \u001b[0m│\u001b[1m RANDID \u001b[0m\u001b[1m SEX   \u001b[0m\u001b[1m TOTCHOL \u001b[0m\u001b[1m AGE   \u001b[0m\u001b[1m SYSBP   \u001b[0m\u001b[1m DIABP   \u001b[0m\u001b[1m CURSMOKE \u001b[0m\u001b[1m CIGPDAY \u001b[0m\u001b[1m BMI        \u001b[0m\u001b[1m DIABETES \u001b[0m\u001b[1m BPMEDS \u001b[0m\u001b[1m HEARTRTE \u001b[0m\u001b[1m GLUCOSE \u001b[0m\u001b[1m educ   \u001b[0m\u001b[1m PREVCHD \u001b[0m\u001b[1m PREVAP \u001b[0m\u001b[1m PREVMI \u001b[0m\u001b[1m PREVSTRK \u001b[0m\u001b[1m PREVHYP \u001b[0m\u001b[1m TIME  \u001b[0m\u001b[1m PERIOD \u001b[0m\u001b[1m HDLC    \u001b[0m\u001b[1m LDLC    \u001b[0m\u001b[1m DEATH \u001b[0m\u001b[1m ANGINA \u001b[0m\u001b[1m HOSPMI \u001b[0m\u001b[1m MI_FCHD \u001b[0m\u001b[1m ANYCHD \u001b[0m\u001b[1m STROKE \u001b[0m\u001b[1m CVD   \u001b[0m\u001b[1m HYPERTEN \u001b[0m\u001b[1m TIMEAP \u001b[0m\u001b[1m TIMEMI \u001b[0m\u001b[1m TIMEMIFC \u001b[0m\u001b[1m TIMECHD \u001b[0m\u001b[1m TIMESTRK \u001b[0m\u001b[1m TIMECVD \u001b[0m\u001b[1m TIMEDTH \u001b[0m\u001b[1m TIMEHYP \u001b[0m\n",
       "\u001b[1m     \u001b[0m│\u001b[90m Int64  \u001b[0m\u001b[90m Int64 \u001b[0m\u001b[90m Int64?  \u001b[0m\u001b[90m Int64 \u001b[0m\u001b[90m Float64 \u001b[0m\u001b[90m Float64 \u001b[0m\u001b[90m Int64    \u001b[0m\u001b[90m Int64?  \u001b[0m\u001b[90m Float64?   \u001b[0m\u001b[90m Int64    \u001b[0m\u001b[90m Int64? \u001b[0m\u001b[90m Int64?   \u001b[0m\u001b[90m Int64?  \u001b[0m\u001b[90m Int64? \u001b[0m\u001b[90m Int64   \u001b[0m\u001b[90m Int64  \u001b[0m\u001b[90m Int64  \u001b[0m\u001b[90m Int64    \u001b[0m\u001b[90m Int64   \u001b[0m\u001b[90m Int64 \u001b[0m\u001b[90m Int64  \u001b[0m\u001b[90m Int64?  \u001b[0m\u001b[90m Int64?  \u001b[0m\u001b[90m Int64 \u001b[0m\u001b[90m Int64  \u001b[0m\u001b[90m Int64  \u001b[0m\u001b[90m Int64   \u001b[0m\u001b[90m Int64  \u001b[0m\u001b[90m Int64  \u001b[0m\u001b[90m Int64 \u001b[0m\u001b[90m Int64    \u001b[0m\u001b[90m Int64  \u001b[0m\u001b[90m Int64  \u001b[0m\u001b[90m Int64    \u001b[0m\u001b[90m Int64   \u001b[0m\u001b[90m Int64    \u001b[0m\u001b[90m Int64   \u001b[0m\u001b[90m Int64   \u001b[0m\u001b[90m Int64   \u001b[0m\n",
       "─────┼───────────────────────────────────────────────────────────────────────────────────────────────────────────────────────────────────────────────────────────────────────────────────────────────────────────────────────────────────────────────────────────────────────────────────────────────────────────────────────────────────────────────────\n",
       "   1 │   2448      1      195     39    106.0     70.0         0        0       26.97         0       0        80       77       4        0       0       0         0        0      0       1 \u001b[90m missing \u001b[0m\u001b[90m missing \u001b[0m     0       0       1        1       1       0      1         0    8766    6438      6438     6438      8766     6438     8766     8766\n",
       "   2 │   2448      1      209     52    121.0     66.0         0        0 \u001b[90m missing    \u001b[0m        0       0        69       92       4        0       0       0         0        0   4628       3       31      178      0       0       1        1       1       0      1         0    8766    6438      6438     6438      8766     6438     8766     8766\n",
       "   3 │   6238      2      250     46    121.0     81.0         0        0       28.73         0       0        95       76       2        0       0       0         0        0      0       1 \u001b[90m missing \u001b[0m\u001b[90m missing \u001b[0m     0       0       0        0       0       0      0         0    8766    8766      8766     8766      8766     8766     8766     8766\n",
       "   4 │   6238      2      260     52    105.0     69.5         0        0       29.43         0       0        80       86       2        0       0       0         0        0   2156       2 \u001b[90m missing \u001b[0m\u001b[90m missing \u001b[0m     0       0       0        0       0       0      0         0    8766    8766      8766     8766      8766     8766     8766     8766\n",
       "   5 │   6238      2      237     58    108.0     66.0         0        0       28.5          0       0        80       71       2        0       0       0         0        0   4344       3       54      141      0       0       0        0       0       0      0         0    8766    8766      8766     8766      8766     8766     8766     8766"
      ]
     },
     "metadata": {},
     "output_type": "display_data"
    }
   ],
   "source": [
    "df = CSV.read(\"Data/frmgham2.csv\", DataFrame)\n",
    "first(df, 5)"
   ]
  },
  {
   "cell_type": "markdown",
   "id": "6ff6eef7-a450-47f9-a18e-829ab1b5221e",
   "metadata": {},
   "source": [
    "# Processing"
   ]
  },
  {
   "cell_type": "code",
   "execution_count": 4,
   "id": "8e2fe845-eea4-496a-85b5-d4a8926108ef",
   "metadata": {},
   "outputs": [],
   "source": [
    "# Label the apporpriate sex\n",
    "sexDict = Dict(1=>\"Male\", 2=>\"Female\")\n",
    "df.SEX = [sexDict[key] for key in df.SEX]\n",
    "# Label the period\n",
    "periodDict = Dict(1=>\"One\", 2=>\"Two\", 3=>\"Three\")\n",
    "df.PERIOD = [periodDict[key] for key in df.PERIOD];"
   ]
  },
  {
   "cell_type": "code",
   "execution_count": 5,
   "id": "c0cb7afd-82d1-47a1-a60b-6060cd225b3c",
   "metadata": {},
   "outputs": [
    {
     "data": {
      "text/html": [
       "<div class=\"data-frame\"><p>5 rows × 39 columns</p><table class=\"data-frame\"><thead><tr><th></th><th>RANDID</th><th>SEX</th><th>TOTCHOL</th><th>AGE</th><th>SYSBP</th><th>DIABP</th><th>CURSMOKE</th><th>CIGPDAY</th><th>BMI</th><th>DIABETES</th><th>BPMEDS</th><th>HEARTRTE</th><th>GLUCOSE</th><th>educ</th><th>PREVCHD</th><th>PREVAP</th><th>PREVMI</th><th>PREVSTRK</th><th>PREVHYP</th><th>TIME</th><th>PERIOD</th><th>HDLC</th><th>LDLC</th><th>DEATH</th><th>ANGINA</th><th>HOSPMI</th><th>MI_FCHD</th><th>ANYCHD</th><th>STROKE</th><th>CVD</th><th>HYPERTEN</th><th>TIMEAP</th><th>TIMEMI</th><th>TIMEMIFC</th><th>TIMECHD</th><th>TIMESTRK</th><th>TIMECVD</th><th>TIMEDTH</th><th>TIMEHYP</th></tr><tr><th></th><th title=\"Int64\">Int64</th><th title=\"String\">String</th><th title=\"Union{Missing, Int64}\">Int64?</th><th title=\"Int64\">Int64</th><th title=\"Float64\">Float64</th><th title=\"Float64\">Float64</th><th title=\"Int64\">Int64</th><th title=\"Union{Missing, Int64}\">Int64?</th><th title=\"Union{Missing, Float64}\">Float64?</th><th title=\"Int64\">Int64</th><th title=\"Union{Missing, Int64}\">Int64?</th><th title=\"Union{Missing, Int64}\">Int64?</th><th title=\"Union{Missing, Int64}\">Int64?</th><th title=\"Union{Missing, Int64}\">Int64?</th><th title=\"Int64\">Int64</th><th title=\"Int64\">Int64</th><th title=\"Int64\">Int64</th><th title=\"Int64\">Int64</th><th title=\"Int64\">Int64</th><th title=\"Int64\">Int64</th><th title=\"String\">String</th><th title=\"Union{Missing, Int64}\">Int64?</th><th title=\"Union{Missing, Int64}\">Int64?</th><th title=\"Int64\">Int64</th><th title=\"Int64\">Int64</th><th title=\"Int64\">Int64</th><th title=\"Int64\">Int64</th><th title=\"Int64\">Int64</th><th title=\"Int64\">Int64</th><th title=\"Int64\">Int64</th><th title=\"Int64\">Int64</th><th title=\"Int64\">Int64</th><th title=\"Int64\">Int64</th><th title=\"Int64\">Int64</th><th title=\"Int64\">Int64</th><th title=\"Int64\">Int64</th><th title=\"Int64\">Int64</th><th title=\"Int64\">Int64</th><th title=\"Int64\">Int64</th></tr></thead><tbody><tr><th>1</th><td>2448</td><td>Male</td><td>195</td><td>39</td><td>106.0</td><td>70.0</td><td>0</td><td>0</td><td>26.97</td><td>0</td><td>0</td><td>80</td><td>77</td><td>4</td><td>0</td><td>0</td><td>0</td><td>0</td><td>0</td><td>0</td><td>One</td><td><em>missing</em></td><td><em>missing</em></td><td>0</td><td>0</td><td>1</td><td>1</td><td>1</td><td>0</td><td>1</td><td>0</td><td>8766</td><td>6438</td><td>6438</td><td>6438</td><td>8766</td><td>6438</td><td>8766</td><td>8766</td></tr><tr><th>2</th><td>2448</td><td>Male</td><td>209</td><td>52</td><td>121.0</td><td>66.0</td><td>0</td><td>0</td><td><em>missing</em></td><td>0</td><td>0</td><td>69</td><td>92</td><td>4</td><td>0</td><td>0</td><td>0</td><td>0</td><td>0</td><td>4628</td><td>Three</td><td>31</td><td>178</td><td>0</td><td>0</td><td>1</td><td>1</td><td>1</td><td>0</td><td>1</td><td>0</td><td>8766</td><td>6438</td><td>6438</td><td>6438</td><td>8766</td><td>6438</td><td>8766</td><td>8766</td></tr><tr><th>3</th><td>6238</td><td>Female</td><td>250</td><td>46</td><td>121.0</td><td>81.0</td><td>0</td><td>0</td><td>28.73</td><td>0</td><td>0</td><td>95</td><td>76</td><td>2</td><td>0</td><td>0</td><td>0</td><td>0</td><td>0</td><td>0</td><td>One</td><td><em>missing</em></td><td><em>missing</em></td><td>0</td><td>0</td><td>0</td><td>0</td><td>0</td><td>0</td><td>0</td><td>0</td><td>8766</td><td>8766</td><td>8766</td><td>8766</td><td>8766</td><td>8766</td><td>8766</td><td>8766</td></tr><tr><th>4</th><td>6238</td><td>Female</td><td>260</td><td>52</td><td>105.0</td><td>69.5</td><td>0</td><td>0</td><td>29.43</td><td>0</td><td>0</td><td>80</td><td>86</td><td>2</td><td>0</td><td>0</td><td>0</td><td>0</td><td>0</td><td>2156</td><td>Two</td><td><em>missing</em></td><td><em>missing</em></td><td>0</td><td>0</td><td>0</td><td>0</td><td>0</td><td>0</td><td>0</td><td>0</td><td>8766</td><td>8766</td><td>8766</td><td>8766</td><td>8766</td><td>8766</td><td>8766</td><td>8766</td></tr><tr><th>5</th><td>6238</td><td>Female</td><td>237</td><td>58</td><td>108.0</td><td>66.0</td><td>0</td><td>0</td><td>28.5</td><td>0</td><td>0</td><td>80</td><td>71</td><td>2</td><td>0</td><td>0</td><td>0</td><td>0</td><td>0</td><td>4344</td><td>Three</td><td>54</td><td>141</td><td>0</td><td>0</td><td>0</td><td>0</td><td>0</td><td>0</td><td>0</td><td>0</td><td>8766</td><td>8766</td><td>8766</td><td>8766</td><td>8766</td><td>8766</td><td>8766</td><td>8766</td></tr></tbody></table></div>"
      ],
      "text/latex": [
       "\\begin{tabular}{r|ccccccccccccccccccccccccccccccccccccccc}\n",
       "\t& RANDID & SEX & TOTCHOL & AGE & SYSBP & DIABP & CURSMOKE & CIGPDAY & BMI & DIABETES & BPMEDS & HEARTRTE & GLUCOSE & educ & PREVCHD & PREVAP & PREVMI & PREVSTRK & PREVHYP & TIME & PERIOD & HDLC & LDLC & DEATH & ANGINA & HOSPMI & MI\\_FCHD & ANYCHD & STROKE & CVD & HYPERTEN & TIMEAP & TIMEMI & TIMEMIFC & TIMECHD & TIMESTRK & TIMECVD & TIMEDTH & TIMEHYP\\\\\n",
       "\t\\hline\n",
       "\t& Int64 & String & Int64? & Int64 & Float64 & Float64 & Int64 & Int64? & Float64? & Int64 & Int64? & Int64? & Int64? & Int64? & Int64 & Int64 & Int64 & Int64 & Int64 & Int64 & String & Int64? & Int64? & Int64 & Int64 & Int64 & Int64 & Int64 & Int64 & Int64 & Int64 & Int64 & Int64 & Int64 & Int64 & Int64 & Int64 & Int64 & Int64\\\\\n",
       "\t\\hline\n",
       "\t1 & 2448 & Male & 195 & 39 & 106.0 & 70.0 & 0 & 0 & 26.97 & 0 & 0 & 80 & 77 & 4 & 0 & 0 & 0 & 0 & 0 & 0 & One & \\emph{missing} & \\emph{missing} & 0 & 0 & 1 & 1 & 1 & 0 & 1 & 0 & 8766 & 6438 & 6438 & 6438 & 8766 & 6438 & 8766 & 8766 \\\\\n",
       "\t2 & 2448 & Male & 209 & 52 & 121.0 & 66.0 & 0 & 0 & \\emph{missing} & 0 & 0 & 69 & 92 & 4 & 0 & 0 & 0 & 0 & 0 & 4628 & Three & 31 & 178 & 0 & 0 & 1 & 1 & 1 & 0 & 1 & 0 & 8766 & 6438 & 6438 & 6438 & 8766 & 6438 & 8766 & 8766 \\\\\n",
       "\t3 & 6238 & Female & 250 & 46 & 121.0 & 81.0 & 0 & 0 & 28.73 & 0 & 0 & 95 & 76 & 2 & 0 & 0 & 0 & 0 & 0 & 0 & One & \\emph{missing} & \\emph{missing} & 0 & 0 & 0 & 0 & 0 & 0 & 0 & 0 & 8766 & 8766 & 8766 & 8766 & 8766 & 8766 & 8766 & 8766 \\\\\n",
       "\t4 & 6238 & Female & 260 & 52 & 105.0 & 69.5 & 0 & 0 & 29.43 & 0 & 0 & 80 & 86 & 2 & 0 & 0 & 0 & 0 & 0 & 2156 & Two & \\emph{missing} & \\emph{missing} & 0 & 0 & 0 & 0 & 0 & 0 & 0 & 0 & 8766 & 8766 & 8766 & 8766 & 8766 & 8766 & 8766 & 8766 \\\\\n",
       "\t5 & 6238 & Female & 237 & 58 & 108.0 & 66.0 & 0 & 0 & 28.5 & 0 & 0 & 80 & 71 & 2 & 0 & 0 & 0 & 0 & 0 & 4344 & Three & 54 & 141 & 0 & 0 & 0 & 0 & 0 & 0 & 0 & 0 & 8766 & 8766 & 8766 & 8766 & 8766 & 8766 & 8766 & 8766 \\\\\n",
       "\\end{tabular}\n"
      ],
      "text/plain": [
       "\u001b[1m5×39 DataFrame\u001b[0m\n",
       "\u001b[1m Row \u001b[0m│\u001b[1m RANDID \u001b[0m\u001b[1m SEX    \u001b[0m\u001b[1m TOTCHOL \u001b[0m\u001b[1m AGE   \u001b[0m\u001b[1m SYSBP   \u001b[0m\u001b[1m DIABP   \u001b[0m\u001b[1m CURSMOKE \u001b[0m\u001b[1m CIGPDAY \u001b[0m\u001b[1m BMI        \u001b[0m\u001b[1m DIABETES \u001b[0m\u001b[1m BPMEDS \u001b[0m\u001b[1m HEARTRTE \u001b[0m\u001b[1m GLUCOSE \u001b[0m\u001b[1m educ   \u001b[0m\u001b[1m PREVCHD \u001b[0m\u001b[1m PREVAP \u001b[0m\u001b[1m PREVMI \u001b[0m\u001b[1m PREVSTRK \u001b[0m\u001b[1m PREVHYP \u001b[0m\u001b[1m TIME  \u001b[0m\u001b[1m PERIOD \u001b[0m\u001b[1m HDLC    \u001b[0m\u001b[1m LDLC    \u001b[0m\u001b[1m DEATH \u001b[0m\u001b[1m ANGINA \u001b[0m\u001b[1m HOSPMI \u001b[0m\u001b[1m MI_FCHD \u001b[0m\u001b[1m ANYCHD \u001b[0m\u001b[1m STROKE \u001b[0m\u001b[1m CVD   \u001b[0m\u001b[1m HYPERTEN \u001b[0m\u001b[1m TIMEAP \u001b[0m\u001b[1m TIMEMI \u001b[0m\u001b[1m TIMEMIFC \u001b[0m\u001b[1m TIMECHD \u001b[0m\u001b[1m TIMESTRK \u001b[0m\u001b[1m TIMECVD \u001b[0m\u001b[1m TIMEDTH \u001b[0m\u001b[1m TIMEHYP \u001b[0m\n",
       "\u001b[1m     \u001b[0m│\u001b[90m Int64  \u001b[0m\u001b[90m String \u001b[0m\u001b[90m Int64?  \u001b[0m\u001b[90m Int64 \u001b[0m\u001b[90m Float64 \u001b[0m\u001b[90m Float64 \u001b[0m\u001b[90m Int64    \u001b[0m\u001b[90m Int64?  \u001b[0m\u001b[90m Float64?   \u001b[0m\u001b[90m Int64    \u001b[0m\u001b[90m Int64? \u001b[0m\u001b[90m Int64?   \u001b[0m\u001b[90m Int64?  \u001b[0m\u001b[90m Int64? \u001b[0m\u001b[90m Int64   \u001b[0m\u001b[90m Int64  \u001b[0m\u001b[90m Int64  \u001b[0m\u001b[90m Int64    \u001b[0m\u001b[90m Int64   \u001b[0m\u001b[90m Int64 \u001b[0m\u001b[90m String \u001b[0m\u001b[90m Int64?  \u001b[0m\u001b[90m Int64?  \u001b[0m\u001b[90m Int64 \u001b[0m\u001b[90m Int64  \u001b[0m\u001b[90m Int64  \u001b[0m\u001b[90m Int64   \u001b[0m\u001b[90m Int64  \u001b[0m\u001b[90m Int64  \u001b[0m\u001b[90m Int64 \u001b[0m\u001b[90m Int64    \u001b[0m\u001b[90m Int64  \u001b[0m\u001b[90m Int64  \u001b[0m\u001b[90m Int64    \u001b[0m\u001b[90m Int64   \u001b[0m\u001b[90m Int64    \u001b[0m\u001b[90m Int64   \u001b[0m\u001b[90m Int64   \u001b[0m\u001b[90m Int64   \u001b[0m\n",
       "─────┼────────────────────────────────────────────────────────────────────────────────────────────────────────────────────────────────────────────────────────────────────────────────────────────────────────────────────────────────────────────────────────────────────────────────────────────────────────────────────────────────────────────────────\n",
       "   1 │   2448  Male        195     39    106.0     70.0         0        0       26.97         0       0        80       77       4        0       0       0         0        0      0  One    \u001b[90m missing \u001b[0m\u001b[90m missing \u001b[0m     0       0       1        1       1       0      1         0    8766    6438      6438     6438      8766     6438     8766     8766\n",
       "   2 │   2448  Male        209     52    121.0     66.0         0        0 \u001b[90m missing    \u001b[0m        0       0        69       92       4        0       0       0         0        0   4628  Three        31      178      0       0       1        1       1       0      1         0    8766    6438      6438     6438      8766     6438     8766     8766\n",
       "   3 │   6238  Female      250     46    121.0     81.0         0        0       28.73         0       0        95       76       2        0       0       0         0        0      0  One    \u001b[90m missing \u001b[0m\u001b[90m missing \u001b[0m     0       0       0        0       0       0      0         0    8766    8766      8766     8766      8766     8766     8766     8766\n",
       "   4 │   6238  Female      260     52    105.0     69.5         0        0       29.43         0       0        80       86       2        0       0       0         0        0   2156  Two    \u001b[90m missing \u001b[0m\u001b[90m missing \u001b[0m     0       0       0        0       0       0      0         0    8766    8766      8766     8766      8766     8766     8766     8766\n",
       "   5 │   6238  Female      237     58    108.0     66.0         0        0       28.5          0       0        80       71       2        0       0       0         0        0   4344  Three        54      141      0       0       0        0       0       0      0         0    8766    8766      8766     8766      8766     8766     8766     8766"
      ]
     },
     "metadata": {},
     "output_type": "display_data"
    }
   ],
   "source": [
    "first(df, 5)"
   ]
  },
  {
   "cell_type": "code",
   "execution_count": 6,
   "id": "a76fbf69-f607-4f89-a49e-fa1206d1b65e",
   "metadata": {},
   "outputs": [
    {
     "name": "stdout",
     "output_type": "stream",
     "text": [
      " 18.745868 seconds (43.99 M allocations: 10.332 GiB, 3.43% gc time, 14.65% compilation time)\n"
     ]
    },
    {
     "data": {
      "text/html": [
       "<div class=\"data-frame\"><p>4,434 rows × 11 columns</p><table class=\"data-frame\"><thead><tr><th></th><th>Age</th><th>Prevalent CHD</th><th>BMI</th><th>Anti-Hypertensives</th><th>Systolic blood pressure</th><th>Smoke</th><th>Cholesterol</th><th>Diabetes</th><th>Sex</th><th>Time</th><th>Stroke</th></tr><tr><th></th><th title=\"Union{Missing, Int64}\">Int64?</th><th title=\"Union{Missing, Int64}\">Int64?</th><th title=\"Union{Missing, Float64}\">Float64?</th><th title=\"Union{Missing, Int64}\">Int64?</th><th title=\"Union{Missing, Float64}\">Float64?</th><th title=\"Union{Missing, Int64}\">Int64?</th><th title=\"Union{Missing, Int64}\">Int64?</th><th title=\"Union{Missing, Int64}\">Int64?</th><th title=\"Union{Missing, String}\">String?</th><th title=\"Int64\">Int64</th><th title=\"Int64\">Int64</th></tr></thead><tbody><tr><th>1</th><td>39</td><td>0</td><td>26.97</td><td>0</td><td>106.0</td><td>0</td><td>195</td><td>0</td><td>Male</td><td>3652</td><td>0</td></tr><tr><th>2</th><td>46</td><td>0</td><td>28.73</td><td>0</td><td>121.0</td><td>0</td><td>250</td><td>0</td><td>Female</td><td>3652</td><td>0</td></tr><tr><th>3</th><td>48</td><td>0</td><td>25.34</td><td>0</td><td>127.5</td><td>1</td><td>245</td><td>0</td><td>Male</td><td>3652</td><td>0</td></tr><tr><th>4</th><td>61</td><td>0</td><td>28.58</td><td>0</td><td>150.0</td><td>1</td><td>225</td><td>0</td><td>Female</td><td>2089</td><td>1</td></tr><tr><th>5</th><td>46</td><td>0</td><td>23.1</td><td>0</td><td>130.0</td><td>1</td><td>285</td><td>0</td><td>Female</td><td>3652</td><td>0</td></tr><tr><th>6</th><td>43</td><td>0</td><td>30.3</td><td>0</td><td>180.0</td><td>0</td><td>228</td><td>0</td><td>Female</td><td>3652</td><td>0</td></tr><tr><th>7</th><td>63</td><td>0</td><td>33.11</td><td>0</td><td>138.0</td><td>0</td><td>205</td><td>0</td><td>Female</td><td>3652</td><td>0</td></tr><tr><th>8</th><td>45</td><td>0</td><td>21.68</td><td>0</td><td>100.0</td><td>1</td><td>313</td><td>0</td><td>Female</td><td>3652</td><td>0</td></tr><tr><th>9</th><td>52</td><td>0</td><td>26.36</td><td>0</td><td>141.5</td><td>0</td><td>260</td><td>0</td><td>Male</td><td>3652</td><td>0</td></tr><tr><th>10</th><td>43</td><td>0</td><td>23.61</td><td>0</td><td>162.0</td><td>1</td><td>225</td><td>0</td><td>Male</td><td>3652</td><td>0</td></tr><tr><th>11</th><td>50</td><td>0</td><td>22.91</td><td>0</td><td>133.0</td><td>0</td><td>254</td><td>0</td><td>Female</td><td>3652</td><td>0</td></tr><tr><th>12</th><td>43</td><td>0</td><td>27.64</td><td>0</td><td>131.0</td><td>0</td><td>247</td><td>0</td><td>Female</td><td>3652</td><td>0</td></tr><tr><th>13</th><td>46</td><td>0</td><td>26.31</td><td>0</td><td>142.0</td><td>1</td><td>294</td><td>0</td><td>Male</td><td>3652</td><td>0</td></tr><tr><th>14</th><td>41</td><td>0</td><td>31.31</td><td>1</td><td>124.0</td><td>0</td><td>332</td><td>0</td><td>Female</td><td>3652</td><td>0</td></tr><tr><th>15</th><td>39</td><td>0</td><td>22.35</td><td>0</td><td>114.0</td><td>1</td><td>226</td><td>0</td><td>Female</td><td>3652</td><td>0</td></tr><tr><th>16</th><td>38</td><td>0</td><td>21.35</td><td>0</td><td>140.0</td><td>1</td><td>221</td><td>0</td><td>Female</td><td>146</td><td>0</td></tr><tr><th>17</th><td>48</td><td>0</td><td>22.37</td><td>0</td><td>138.0</td><td>1</td><td>232</td><td>0</td><td>Male</td><td>3652</td><td>0</td></tr><tr><th>18</th><td>46</td><td>0</td><td>23.38</td><td>0</td><td>112.0</td><td>1</td><td>291</td><td>0</td><td>Female</td><td>1442</td><td>0</td></tr><tr><th>19</th><td>38</td><td>0</td><td>23.24</td><td>0</td><td>122.0</td><td>1</td><td>195</td><td>0</td><td>Female</td><td>3652</td><td>0</td></tr><tr><th>20</th><td>41</td><td>0</td><td>26.88</td><td>0</td><td>139.0</td><td>0</td><td>195</td><td>0</td><td>Male</td><td>3652</td><td>0</td></tr><tr><th>21</th><td>42</td><td>0</td><td>21.59</td><td>0</td><td>108.0</td><td>1</td><td>190</td><td>0</td><td>Female</td><td>3652</td><td>0</td></tr><tr><th>22</th><td>43</td><td>0</td><td>29.89</td><td>0</td><td>123.5</td><td>0</td><td>185</td><td>0</td><td>Female</td><td>3652</td><td>0</td></tr><tr><th>23</th><td>52</td><td>0</td><td>34.17</td><td>0</td><td>148.0</td><td>0</td><td>234</td><td>0</td><td>Female</td><td>3652</td><td>0</td></tr><tr><th>24</th><td>52</td><td>0</td><td>25.11</td><td>0</td><td>132.0</td><td>1</td><td>215</td><td>0</td><td>Female</td><td>3652</td><td>0</td></tr><tr><th>&vellip;</th><td>&vellip;</td><td>&vellip;</td><td>&vellip;</td><td>&vellip;</td><td>&vellip;</td><td>&vellip;</td><td>&vellip;</td><td>&vellip;</td><td>&vellip;</td><td>&vellip;</td><td>&vellip;</td></tr></tbody></table></div>"
      ],
      "text/latex": [
       "\\begin{tabular}{r|ccccccccccc}\n",
       "\t& Age & Prevalent CHD & BMI & Anti-Hypertensives & Systolic blood pressure & Smoke & Cholesterol & Diabetes & Sex & Time & Stroke\\\\\n",
       "\t\\hline\n",
       "\t& Int64? & Int64? & Float64? & Int64? & Float64? & Int64? & Int64? & Int64? & String? & Int64 & Int64\\\\\n",
       "\t\\hline\n",
       "\t1 & 39 & 0 & 26.97 & 0 & 106.0 & 0 & 195 & 0 & Male & 3652 & 0 \\\\\n",
       "\t2 & 46 & 0 & 28.73 & 0 & 121.0 & 0 & 250 & 0 & Female & 3652 & 0 \\\\\n",
       "\t3 & 48 & 0 & 25.34 & 0 & 127.5 & 1 & 245 & 0 & Male & 3652 & 0 \\\\\n",
       "\t4 & 61 & 0 & 28.58 & 0 & 150.0 & 1 & 225 & 0 & Female & 2089 & 1 \\\\\n",
       "\t5 & 46 & 0 & 23.1 & 0 & 130.0 & 1 & 285 & 0 & Female & 3652 & 0 \\\\\n",
       "\t6 & 43 & 0 & 30.3 & 0 & 180.0 & 0 & 228 & 0 & Female & 3652 & 0 \\\\\n",
       "\t7 & 63 & 0 & 33.11 & 0 & 138.0 & 0 & 205 & 0 & Female & 3652 & 0 \\\\\n",
       "\t8 & 45 & 0 & 21.68 & 0 & 100.0 & 1 & 313 & 0 & Female & 3652 & 0 \\\\\n",
       "\t9 & 52 & 0 & 26.36 & 0 & 141.5 & 0 & 260 & 0 & Male & 3652 & 0 \\\\\n",
       "\t10 & 43 & 0 & 23.61 & 0 & 162.0 & 1 & 225 & 0 & Male & 3652 & 0 \\\\\n",
       "\t11 & 50 & 0 & 22.91 & 0 & 133.0 & 0 & 254 & 0 & Female & 3652 & 0 \\\\\n",
       "\t12 & 43 & 0 & 27.64 & 0 & 131.0 & 0 & 247 & 0 & Female & 3652 & 0 \\\\\n",
       "\t13 & 46 & 0 & 26.31 & 0 & 142.0 & 1 & 294 & 0 & Male & 3652 & 0 \\\\\n",
       "\t14 & 41 & 0 & 31.31 & 1 & 124.0 & 0 & 332 & 0 & Female & 3652 & 0 \\\\\n",
       "\t15 & 39 & 0 & 22.35 & 0 & 114.0 & 1 & 226 & 0 & Female & 3652 & 0 \\\\\n",
       "\t16 & 38 & 0 & 21.35 & 0 & 140.0 & 1 & 221 & 0 & Female & 146 & 0 \\\\\n",
       "\t17 & 48 & 0 & 22.37 & 0 & 138.0 & 1 & 232 & 0 & Male & 3652 & 0 \\\\\n",
       "\t18 & 46 & 0 & 23.38 & 0 & 112.0 & 1 & 291 & 0 & Female & 1442 & 0 \\\\\n",
       "\t19 & 38 & 0 & 23.24 & 0 & 122.0 & 1 & 195 & 0 & Female & 3652 & 0 \\\\\n",
       "\t20 & 41 & 0 & 26.88 & 0 & 139.0 & 0 & 195 & 0 & Male & 3652 & 0 \\\\\n",
       "\t21 & 42 & 0 & 21.59 & 0 & 108.0 & 1 & 190 & 0 & Female & 3652 & 0 \\\\\n",
       "\t22 & 43 & 0 & 29.89 & 0 & 123.5 & 0 & 185 & 0 & Female & 3652 & 0 \\\\\n",
       "\t23 & 52 & 0 & 34.17 & 0 & 148.0 & 0 & 234 & 0 & Female & 3652 & 0 \\\\\n",
       "\t24 & 52 & 0 & 25.11 & 0 & 132.0 & 1 & 215 & 0 & Female & 3652 & 0 \\\\\n",
       "\t$\\dots$ & $\\dots$ & $\\dots$ & $\\dots$ & $\\dots$ & $\\dots$ & $\\dots$ & $\\dots$ & $\\dots$ & $\\dots$ & $\\dots$ & $\\dots$ \\\\\n",
       "\\end{tabular}\n"
      ],
      "text/plain": [
       "\u001b[1m4434×11 DataFrame\u001b[0m\n",
       "\u001b[1m  Row \u001b[0m│\u001b[1m Age    \u001b[0m\u001b[1m Prevalent CHD \u001b[0m\u001b[1m BMI      \u001b[0m\u001b[1m Anti-Hypertensives \u001b[0m\u001b[1m Systolic blood pressure \u001b[0m\u001b[1m Smoke  \u001b[0m\u001b[1m Cholesterol \u001b[0m\u001b[1m Diabetes \u001b[0m\u001b[1m Sex     \u001b[0m\u001b[1m Time  \u001b[0m\u001b[1m Stroke \u001b[0m\n",
       "\u001b[1m      \u001b[0m│\u001b[90m Int64? \u001b[0m\u001b[90m Int64?        \u001b[0m\u001b[90m Float64? \u001b[0m\u001b[90m Int64?             \u001b[0m\u001b[90m Float64?                \u001b[0m\u001b[90m Int64? \u001b[0m\u001b[90m Int64?      \u001b[0m\u001b[90m Int64?   \u001b[0m\u001b[90m String? \u001b[0m\u001b[90m Int64 \u001b[0m\u001b[90m Int64  \u001b[0m\n",
       "──────┼─────────────────────────────────────────────────────────────────────────────────────────────────────────────────────────────────────\n",
       "    1 │     39              0     26.97                   0                    106.0       0          195         0  Male      3652       0\n",
       "    2 │     46              0     28.73                   0                    121.0       0          250         0  Female    3652       0\n",
       "    3 │     48              0     25.34                   0                    127.5       1          245         0  Male      3652       0\n",
       "    4 │     61              0     28.58                   0                    150.0       1          225         0  Female    2089       1\n",
       "    5 │     46              0     23.1                    0                    130.0       1          285         0  Female    3652       0\n",
       "    6 │     43              0     30.3                    0                    180.0       0          228         0  Female    3652       0\n",
       "    7 │     63              0     33.11                   0                    138.0       0          205         0  Female    3652       0\n",
       "    8 │     45              0     21.68                   0                    100.0       1          313         0  Female    3652       0\n",
       "  ⋮   │   ⋮           ⋮           ⋮              ⋮                      ⋮               ⋮          ⋮          ⋮         ⋮       ⋮      ⋮\n",
       " 4428 │     50              0     25.97                   0                    179.0       1          313         0  Male      3652       0\n",
       " 4429 │     51              0     19.71                   0                    126.5       1          207         0  Male      3652       0\n",
       " 4430 │     48              0     22.0  \u001b[90m            missing \u001b[0m                   131.0       1          248         0  Female    3652       0\n",
       " 4431 │     44              0     19.16                   0                    126.5       1          210         0  Female    3652       0\n",
       " 4432 │     52              0     21.47                   0                    133.5       0          269         0  Female    3652       0\n",
       " 4433 │     40              0     25.6                    0                    141.0       0          185         0  Male      3652       0\n",
       " 4434 │     39              0     20.91                   0                    133.0       1          196         0  Female    3652       0\n",
       "\u001b[36m                                                                                                                           4419 rows omitted\u001b[0m"
      ]
     },
     "metadata": {},
     "output_type": "display_data"
    }
   ],
   "source": [
    "riskFactors = [\"AGE_One\",\n",
    "               \"PREVCHD_One\",\n",
    "               \"BMI_One\",\n",
    "               \"BPMEDS_One\",\n",
    "               \"SYSBP_One\",\n",
    "               \"CURSMOKE_One\",\n",
    "               \"TOTCHOL_One\",\n",
    "               \"DIABETES_One\",\n",
    "               \"SEX_One\",\n",
    "               \"TIME\",\n",
    "               \"STROKE\"]\n",
    "nms = [\"Age\",\n",
    "       \"Prevalent CHD\",\n",
    "       \"BMI\",\n",
    "       \"Anti-Hypertensives\",\n",
    "       \"Systolic blood pressure\",\n",
    "       \"Smoke\",\n",
    "       \"Cholesterol\",\n",
    "       \"Diabetes\",\n",
    "       \"Sex\",\n",
    "       \"Time\",\n",
    "       \"Stroke\"]\n",
    "tenYears = (365*8) + (366*2) # Two leap years in ten years\n",
    "\n",
    "@time @pipe df |>\n",
    "  filter(:RANDID => x -> !(x in [filter([:PREVSTRK, :PERIOD] => (x,y) -> x==1 && y==\"One\", df).RANDID]), _) |>\n",
    "  outerjoin([unstack(_, :RANDID, :PERIOD, x, renamecols=i->Symbol(x*\"_\", i)) for x in filter(!in((\"RANDID\", \"PERIOD\")), names(df))]..., on=:RANDID) |>\n",
    "  transform(_, \n",
    "            [:TIMESTRK_One, :STROKE_One] => ByRow((b, x) -> (b <= tenYears && b > 0 ? x : 0)) => :STROKE,\n",
    "            :TIMESTRK_One => ByRow(x -> x <= tenYears ? x : tenYears) => :TIME\n",
    "        ) |>\n",
    "  select(_, riskFactors) |>\n",
    "  rename(_, nms)"
   ]
  }
 ],
 "metadata": {
  "kernelspec": {
   "display_name": "Julia 1.6.3",
   "language": "julia",
   "name": "julia-1.6"
  },
  "language_info": {
   "file_extension": ".jl",
   "mimetype": "application/julia",
   "name": "julia",
   "version": "1.6.3"
  }
 },
 "nbformat": 4,
 "nbformat_minor": 5
}
