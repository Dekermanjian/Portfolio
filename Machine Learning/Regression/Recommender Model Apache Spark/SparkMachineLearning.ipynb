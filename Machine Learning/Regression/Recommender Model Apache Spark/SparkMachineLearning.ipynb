{
 "cells": [
  {
   "cell_type": "markdown",
   "metadata": {},
   "source": [
    "# Recommender Model using Alternating Least Squares"
   ]
  },
  {
   "cell_type": "markdown",
   "metadata": {},
   "source": [
    "The goal of this project is to build a recommender engine, that uses a collaborative filtering methodology, to recommend to users some movies to watch. The collaborative filtering methodology means that the engine will find movies watched and rated by multiple users and it will then recommend to a particular user movies that are rated favorably by similar users. "
   ]
  },
  {
   "cell_type": "markdown",
   "metadata": {},
   "source": [
    "# Imports"
   ]
  },
  {
   "cell_type": "code",
   "execution_count": 1,
   "metadata": {},
   "outputs": [],
   "source": [
    "from pyspark import SparkContext\n",
    "from pyspark.sql import SparkSession, Row\n",
    "import pyspark.sql.functions as F\n",
    "\n",
    "from pyspark.ml.evaluation import RegressionEvaluator\n",
    "from pyspark.ml.recommendation import ALS\n",
    "from pyspark.ml.tuning import ParamGridBuilder, CrossValidator"
   ]
  },
  {
   "cell_type": "markdown",
   "metadata": {},
   "source": [
    "# Initialize a Spark Session"
   ]
  },
  {
   "cell_type": "code",
   "execution_count": 2,
   "metadata": {},
   "outputs": [],
   "source": [
    "spark = (SparkSession.builder\n",
    "         .config(\"spark.driver.memory\", \"64g\")\n",
    "         .config(\"spark.dynamicAllocation.enabled\", \"true\")\n",
    "         .config(\"spark.dynamicAllocation.minExecutors\", 2)\n",
    "         .config(\"spark.dynamicAllocation.schedulerBacklogTimeout\", \"1m\")\n",
    "         .config(\"spark.dynamicAllocation.maxExecutor\", 12)\n",
    "         .config(\"spark.dynamicAllocation.executorIdleTimeout\", \"2min\")\n",
    "         .appName(\"SparkML\")\n",
    "         .getOrCreate())"
   ]
  },
  {
   "cell_type": "markdown",
   "metadata": {},
   "source": [
    "# Load the data sets"
   ]
  },
  {
   "cell_type": "code",
   "execution_count": 3,
   "metadata": {},
   "outputs": [
    {
     "data": {
      "text/plain": [
       "[('userId', 'int'),\n",
       " ('movieId', 'int'),\n",
       " ('rating', 'float'),\n",
       " ('timestamp', 'int')]"
      ]
     },
     "execution_count": 3,
     "metadata": {},
     "output_type": "execute_result"
    }
   ],
   "source": [
    "ratings = spark.read.csv(\"Data/ratings.csv\", header=True, inferSchema=True)\n",
    "ratings = ratings.select(\"*\").withColumn('rating', F.col('rating').cast('float'))\n",
    "ratings.dtypes"
   ]
  },
  {
   "cell_type": "code",
   "execution_count": 4,
   "metadata": {},
   "outputs": [
    {
     "data": {
      "text/plain": [
       "[('movieId', 'int'), ('title', 'string'), ('genres', 'string')]"
      ]
     },
     "execution_count": 4,
     "metadata": {},
     "output_type": "execute_result"
    }
   ],
   "source": [
    "movies = spark.read.csv(\"Data/movies.csv\", header=True, inferSchema=True)\n",
    "movies = movies.select('movieId', 'title', 'genres').withColumn('movieId', F.col('movieId').cast('int'))\n",
    "movies.dtypes"
   ]
  },
  {
   "cell_type": "markdown",
   "metadata": {},
   "source": [
    "# Recommender model"
   ]
  },
  {
   "cell_type": "code",
   "execution_count": 5,
   "metadata": {},
   "outputs": [],
   "source": [
    "# Create test and train set\n",
    "(train, test) = ratings.randomSplit([0.8, 0.2], seed = 555)\n",
    "\n",
    "# Alternating Least Squares model\n",
    "als = (\n",
    "    ALS()\n",
    "    .setUserCol(\"userId\")\n",
    "    .setItemCol(\"movieId\")\n",
    "    .setRatingCol(\"rating\")\n",
    "    .setNonnegative(True)\n",
    "    .setImplicitPrefs(False)\n",
    "    .setColdStartStrategy(\"drop\")\n",
    "    .setSeed(555)\n",
    ")"
   ]
  },
  {
   "cell_type": "code",
   "execution_count": 6,
   "metadata": {},
   "outputs": [
    {
     "data": {
      "text/plain": [
       "\"alpha: alpha for implicit preference (default: 1.0)\\nblockSize: block size for stacking input data in matrices. Data is stacked within partitions. If block size is more than remaining data in a partition then it is adjusted to the size of this data. (default: 4096)\\ncheckpointInterval: set checkpoint interval (>= 1) or disable checkpoint (-1). E.g. 10 means that the cache will get checkpointed every 10 iterations. Note: this setting will be ignored if the checkpoint directory is not set in the SparkContext. (default: 10)\\ncoldStartStrategy: strategy for dealing with unknown or new users/items at prediction time. This may be useful in cross-validation or production scenarios, for handling user/item ids the model has not seen in the training data. Supported values: 'nan', 'drop'. (default: nan, current: drop)\\nfinalStorageLevel: StorageLevel for ALS model factors. (default: MEMORY_AND_DISK)\\nimplicitPrefs: whether to use implicit preference (default: False, current: False)\\nintermediateStorageLevel: StorageLevel for intermediate datasets. Cannot be 'NONE'. (default: MEMORY_AND_DISK)\\nitemCol: column name for item ids. Ids must be within the integer value range. (default: item, current: movieId)\\nmaxIter: max number of iterations (>= 0). (default: 10)\\nnonnegative: whether to use nonnegative constraint for least squares (default: False, current: True)\\nnumItemBlocks: number of item blocks (default: 10)\\nnumUserBlocks: number of user blocks (default: 10)\\npredictionCol: prediction column name. (default: prediction)\\nrank: rank of the factorization (default: 10)\\nratingCol: column name for ratings (default: rating, current: rating)\\nregParam: regularization parameter (>= 0). (default: 0.1)\\nseed: random seed. (default: 4846389834902856550, current: 555)\\nuserCol: column name for user ids. Ids must be within the integer value range. (default: user, current: userId)\""
      ]
     },
     "execution_count": 6,
     "metadata": {},
     "output_type": "execute_result"
    }
   ],
   "source": [
    "# Explanation of the parameters available for ALS\n",
    "als.explainParams()"
   ]
  },
  {
   "cell_type": "markdown",
   "metadata": {},
   "source": [
    "# Hyper-Parameter Tuning"
   ]
  },
  {
   "cell_type": "code",
   "execution_count": 7,
   "metadata": {},
   "outputs": [
    {
     "name": "stdout",
     "output_type": "stream",
     "text": [
      "Num models to be tested:  8\n"
     ]
    }
   ],
   "source": [
    "# Add hyperparameters and their respective values to param_grid\n",
    "param_grid = ParamGridBuilder() \\\n",
    "            .addGrid(als.rank, [50, 100]) \\\n",
    "            .addGrid(als.regParam, [.01, .05]) \\\n",
    "            .addGrid(als.maxIter, [5, 10]) \\\n",
    "            .build()\n",
    "\n",
    "           \n",
    "# Define evaluator as RMSE and print length of evaluator\n",
    "evaluator = RegressionEvaluator(metricName=\"rmse\", labelCol=\"rating\", predictionCol=\"prediction\") \n",
    "print (\"Num models to be tested: \", len(param_grid))"
   ]
  },
  {
   "cell_type": "markdown",
   "metadata": {},
   "source": [
    "# Use Cross Validation"
   ]
  },
  {
   "cell_type": "code",
   "execution_count": 8,
   "metadata": {},
   "outputs": [],
   "source": [
    "# Build cross validation using CrossValidator\n",
    "cv = CrossValidator(estimator=als, estimatorParamMaps=param_grid, evaluator=evaluator, numFolds=3)\n",
    "\n",
    "#Fit cross validator to the 'train' dataset\n",
    "model = cv.fit(train)\n",
    "\n",
    "#Extract best model from the cv model above\n",
    "best_model = model.bestModel"
   ]
  },
  {
   "cell_type": "code",
   "execution_count": 9,
   "metadata": {},
   "outputs": [
    {
     "name": "stdout",
     "output_type": "stream",
     "text": [
      "0.05 100 10\n"
     ]
    }
   ],
   "source": [
    "# Check the best hyper params \n",
    "print(best_model._java_obj.parent().getRegParam(),\n",
    "best_model._java_obj.parent().getRank(),\n",
    "best_model._java_obj.parent().getMaxIter()\n",
    "     )\n"
   ]
  },
  {
   "cell_type": "code",
   "execution_count": 10,
   "metadata": {},
   "outputs": [
    {
     "name": "stdout",
     "output_type": "stream",
     "text": [
      "0.9330405567880267\n"
     ]
    }
   ],
   "source": [
    "# Check the performance on the test set\n",
    "test_predictions = model.transform(test)\n",
    "RMSE = evaluator.evaluate(test_predictions)\n",
    "print(RMSE)"
   ]
  },
  {
   "cell_type": "code",
   "execution_count": 11,
   "metadata": {},
   "outputs": [
    {
     "name": "stdout",
     "output_type": "stream",
     "text": [
      "+------+-------+------+----------+\n",
      "|userId|movieId|rating|prediction|\n",
      "+------+-------+------+----------+\n",
      "|   597|    471|   2.0|  4.040897|\n",
      "|   436|    471|   3.0|  3.901048|\n",
      "|   602|    471|   4.0| 2.6662421|\n",
      "|   555|    471|   3.0|  3.367009|\n",
      "|   287|    471|   4.5| 2.7757618|\n",
      "|    32|    471|   3.0| 3.5545151|\n",
      "|   414|    471|   5.0| 3.6757836|\n",
      "|    44|    833|   2.0| 1.9619899|\n",
      "|   307|    833|   1.0| 1.3297665|\n",
      "|   492|    833|   4.0| 1.8884012|\n",
      "|   599|   1088|   2.5| 2.2798963|\n",
      "|    47|   1088|   4.0|  2.456705|\n",
      "|   132|   1088|   4.0| 2.8928294|\n",
      "|   381|   1088|   3.5| 3.6785822|\n",
      "|   555|   1088|   4.0| 3.1095972|\n",
      "|    84|   1088|   3.0| 3.3638976|\n",
      "|    10|   1088|   3.0| 2.4173305|\n",
      "|   200|   1088|   4.0| 3.4741125|\n",
      "|   188|   1088|   4.0|  3.901537|\n",
      "|   525|   1088|   4.5| 3.3552601|\n",
      "+------+-------+------+----------+\n",
      "only showing top 20 rows\n",
      "\n"
     ]
    }
   ],
   "source": [
    "# Compare predictions to true values\n",
    "test_predictions.select('userId', 'movieId', 'rating', 'prediction').show()"
   ]
  },
  {
   "cell_type": "markdown",
   "metadata": {},
   "source": [
    "# Make Recommendations"
   ]
  },
  {
   "cell_type": "code",
   "execution_count": 12,
   "metadata": {},
   "outputs": [
    {
     "name": "stdout",
     "output_type": "stream",
     "text": [
      "+------+-----------------------------------------------------------------------------------------------------------------------------------------------------------------------------------------------------+\n",
      "|userId|recommendations                                                                                                                                                                                      |\n",
      "+------+-----------------------------------------------------------------------------------------------------------------------------------------------------------------------------------------------------+\n",
      "|471   |[{2324, 4.7729206}, {79702, 4.6961594}, {50, 4.4881716}, {1148, 4.468414}, {1, 4.466831}, {158966, 4.41828}, {527, 4.4088154}, {1203, 4.3847857}, {168252, 4.3651834}, {92259, 4.3546176}]           |\n",
      "|463   |[{2324, 4.641824}, {293, 4.544984}, {110, 4.481902}, {8874, 4.467929}, {54997, 4.4452295}, {68157, 4.4204025}, {318, 4.381118}, {51255, 4.378471}, {750, 4.364389}, {58559, 4.3631005}]              |\n",
      "|496   |[{858, 4.691553}, {1732, 4.420363}, {58559, 4.355646}, {1228, 4.3102026}, {106920, 4.2887096}, {912, 4.239338}, {1104, 4.2358985}, {1945, 4.177217}, {1203, 4.129457}, {4226, 4.0998945}]            |\n",
      "|148   |[{98491, 4.828663}, {160718, 4.469538}, {177593, 4.444932}, {40629, 4.4362993}, {106100, 4.4209065}, {142488, 4.328703}, {60069, 4.3155465}, {64716, 4.278452}, {7361, 4.271545}, {116797, 4.268378}]|\n",
      "|540   |[{1196, 4.9056096}, {260, 4.8797812}, {318, 4.871014}, {1210, 4.853981}, {177593, 4.8277316}, {3030, 4.7960734}, {1223, 4.7730436}, {48516, 4.7728887}, {296, 4.770654}, {223, 4.7548656}]           |\n",
      "|392   |[{2997, 4.7565694}, {1293, 4.6475706}, {2762, 4.600028}, {1221, 4.5589294}, {750, 4.545255}, {2706, 4.5220838}, {1198, 4.4970345}, {945, 4.4302864}, {1204, 4.426108}, {109374, 4.4159756}]          |\n",
      "|243   |[{7360, 5.5312324}, {71264, 5.2423105}, {59369, 5.215855}, {71535, 5.2088313}, {157296, 5.203712}, {135887, 5.120973}, {898, 5.110861}, {79132, 5.1012974}, {1049, 5.096861}, {109374, 5.078897}]    |\n",
      "|31    |[{1223, 5.0236464}, {177593, 4.968061}, {898, 4.954322}, {63082, 4.9500475}, {164179, 4.9104137}, {1363, 4.906841}, {47997, 4.878114}, {926, 4.8720045}, {1262, 4.8638873}, {588, 4.844165}]         |\n",
      "|516   |[{4429, 4.906601}, {4306, 4.740094}, {260, 4.703933}, {3471, 4.698578}, {1954, 4.6441817}, {1196, 4.625438}, {1221, 4.4290195}, {1219, 4.409244}, {858, 4.4030633}, {4034, 4.3306684}]               |\n",
      "|580   |[{6300, 5.0163145}, {2571, 4.8788333}, {296, 4.8318005}, {4226, 4.8241673}, {8371, 4.7529926}, {32587, 4.7348595}, {51935, 4.6996746}, {5903, 4.6976075}, {3556, 4.6414533}, {2951, 4.6400104}]      |\n",
      "+------+-----------------------------------------------------------------------------------------------------------------------------------------------------------------------------------------------------+\n",
      "\n"
     ]
    }
   ],
   "source": [
    "nrecommendations = best_model.recommendForAllUsers(10) # Generate 10 recommendations for all users\n",
    "nrecommendations.limit(10).show(truncate = False)"
   ]
  },
  {
   "cell_type": "code",
   "execution_count": 13,
   "metadata": {},
   "outputs": [
    {
     "name": "stdout",
     "output_type": "stream",
     "text": [
      "+------+-------------------+----------------+\n",
      "|userId|Recommended movieId|Predicted rating|\n",
      "+------+-------------------+----------------+\n",
      "|   471|               2324|       4.7729206|\n",
      "|   471|              79702|       4.6961594|\n",
      "|   471|                 50|       4.4881716|\n",
      "|   471|               1148|        4.468414|\n",
      "|   471|                  1|        4.466831|\n",
      "|   471|             158966|         4.41828|\n",
      "|   471|                527|       4.4088154|\n",
      "|   471|               1203|       4.3847857|\n",
      "|   471|             168252|       4.3651834|\n",
      "|   471|              92259|       4.3546176|\n",
      "+------+-------------------+----------------+\n",
      "\n"
     ]
    }
   ],
   "source": [
    "nrecommendations = (\n",
    "    nrecommendations\n",
    "    .withColumn(\"rec_exp\", F.explode(\"recommendations\"))\n",
    "    .select('userId', F.col(\"rec_exp.movieId\").alias(\"Recommended movieId\"), F.col(\"rec_exp.rating\").alias(\"Predicted rating\"))\n",
    "                   )\n",
    "\n",
    "nrecommendations.limit(10).show()"
   ]
  },
  {
   "cell_type": "markdown",
   "metadata": {},
   "source": [
    "# Check the Recommendations"
   ]
  },
  {
   "cell_type": "code",
   "execution_count": 14,
   "metadata": {},
   "outputs": [
    {
     "data": {
      "text/plain": [
       "[131724, 441, 122882, 58998, 60756, 106782, 7361, 4848, 148626, 56782]"
      ]
     },
     "execution_count": 14,
     "metadata": {},
     "output_type": "execute_result"
    }
   ],
   "source": [
    "rec_movies = [nrecommendations.select('Recommended movieId').where('userId = 2').limit(10).collect()[i][0] for i in range(0,10)]\n",
    "rec_movies"
   ]
  },
  {
   "cell_type": "code",
   "execution_count": 15,
   "metadata": {},
   "outputs": [
    {
     "name": "stdout",
     "output_type": "stream",
     "text": [
      "+------+-------+------+----------+-------+----------------------------------------------------+--------------------------------+\n",
      "|userId|movieId|rating|timestamp |movieId|title                                               |genres                          |\n",
      "+------+-------+------+----------+-------+----------------------------------------------------+--------------------------------+\n",
      "|2     |60756  |5.0   |1445714980|60756  |Step Brothers (2008)                                |Comedy                          |\n",
      "|2     |106782 |5.0   |1445714966|106782 |Wolf of Wall Street, The (2013)                     |Comedy|Crime|Drama              |\n",
      "|2     |80906  |5.0   |1445715172|80906  |Inside Job (2010)                                   |Documentary                     |\n",
      "|2     |89774  |5.0   |1445715189|89774  |Warrior (2011)                                      |Drama                           |\n",
      "|2     |122882 |5.0   |1445715272|122882 |Mad Max: Fury Road (2015)                           |Action|Adventure|Sci-Fi|Thriller|\n",
      "|2     |131724 |5.0   |1445714851|131724 |The Jinx: The Life and Deaths of Robert Durst (2015)|Documentary                     |\n",
      "|2     |68157  |4.5   |1445715154|68157  |Inglourious Basterds (2009)                         |Action|Drama|War                |\n",
      "|2     |58559  |4.5   |1445715141|58559  |Dark Knight, The (2008)                             |Action|Crime|Drama|IMAX         |\n",
      "|2     |80489  |4.5   |1445715340|80489  |Town, The (2010)                                    |Crime|Drama|Thriller            |\n",
      "|2     |1704   |4.5   |1445715228|1704   |Good Will Hunting (1997)                            |Drama|Romance                   |\n",
      "+------+-------+------+----------+-------+----------------------------------------------------+--------------------------------+\n",
      "\n"
     ]
    }
   ],
   "source": [
    "# Check a particular user's watched and reviewed movies and sort by the highest rating\n",
    "ratings.join(movies, ratings['movieId']==movies['movieId']).filter('userId = 2').sort('rating', ascending=False).limit(10).show(truncate = False)"
   ]
  },
  {
   "cell_type": "code",
   "execution_count": 16,
   "metadata": {},
   "outputs": [
    {
     "name": "stdout",
     "output_type": "stream",
     "text": [
      "+-------+----------------------------------------------------+--------------------------------------+\n",
      "|movieId|title                                               |genres                                |\n",
      "+-------+----------------------------------------------------+--------------------------------------+\n",
      "|441    |Dazed and Confused (1993)                           |Comedy                                |\n",
      "|4848   |Mulholland Drive (2001)                             |Crime|Drama|Film-Noir|Mystery|Thriller|\n",
      "|7361   |Eternal Sunshine of the Spotless Mind (2004)        |Drama|Romance|Sci-Fi                  |\n",
      "|56782  |There Will Be Blood (2007)                          |Drama|Western                         |\n",
      "|58998  |Forgetting Sarah Marshall (2008)                    |Comedy|Romance                        |\n",
      "|60756  |Step Brothers (2008)                                |Comedy                                |\n",
      "|106782 |Wolf of Wall Street, The (2013)                     |Comedy|Crime|Drama                    |\n",
      "|122882 |Mad Max: Fury Road (2015)                           |Action|Adventure|Sci-Fi|Thriller      |\n",
      "|131724 |The Jinx: The Life and Deaths of Robert Durst (2015)|Documentary                           |\n",
      "|148626 |Big Short, The (2015)                               |Drama                                 |\n",
      "+-------+----------------------------------------------------+--------------------------------------+\n",
      "\n"
     ]
    }
   ],
   "source": [
    "# Check what movies were recommended to this user by our recommender engine\n",
    "movies.select(\"*\").where(F.col('movieId').isin(rec_movies)).show(truncate=False)"
   ]
  },
  {
   "cell_type": "markdown",
   "metadata": {},
   "source": [
    "Looking at the recommendations, a lot of Comedy, Drama movies were recommended to this user. Looking at the user's ratings it seems that these recommendations make sense!"
   ]
  },
  {
   "cell_type": "code",
   "execution_count": 17,
   "metadata": {},
   "outputs": [],
   "source": [
    "# End the spark session\n",
    "spark.stop()"
   ]
  }
 ],
 "metadata": {
  "kernelspec": {
   "display_name": "Python 3",
   "language": "python",
   "name": "python3"
  },
  "language_info": {
   "codemirror_mode": {
    "name": "ipython",
    "version": 3
   },
   "file_extension": ".py",
   "mimetype": "text/x-python",
   "name": "python",
   "nbconvert_exporter": "python",
   "pygments_lexer": "ipython3",
   "version": "3.7.7"
  }
 },
 "nbformat": 4,
 "nbformat_minor": 4
}
