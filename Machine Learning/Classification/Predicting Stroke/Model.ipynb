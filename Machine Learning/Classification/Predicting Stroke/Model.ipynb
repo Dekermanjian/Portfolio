{
 "cells": [
  {
   "cell_type": "markdown",
   "metadata": {},
   "source": [
    "# Imports"
   ]
  },
  {
   "cell_type": "code",
   "execution_count": 3,
   "metadata": {},
   "outputs": [],
   "source": [
    "import pandas as pd\n",
    "import numpy as np\n",
    "\n",
    "from sklearn.ensemble import RandomForestClassifier\n",
    "from sklearn.preprocessing import OneHotEncoder\n",
    "from sklearn.metrics import classification_report, plot_confusion_matrix\n",
    "from sklearn.model_selection import train_test_split\n",
    "from sklearn.compose import ColumnTransformer\n",
    "from sklearn.decomposition import PCA\n",
    "from sklearn.pipeline import Pipeline\n",
    "\n",
    "import tensorflow as tf \n",
    "\n",
    "from imblearn.over_sampling import SMOTE"
   ]
  },
  {
   "cell_type": "markdown",
   "metadata": {},
   "source": [
    "# Load Training Data"
   ]
  },
  {
   "cell_type": "code",
   "execution_count": 4,
   "metadata": {},
   "outputs": [],
   "source": [
    "df = pd.read_csv(\"./Data/trainingData.csv\")"
   ]
  },
  {
   "cell_type": "markdown",
   "metadata": {},
   "source": [
    "# Preprocess Categorical Data"
   ]
  },
  {
   "cell_type": "markdown",
   "metadata": {},
   "source": [
    "We need to one hot encode our categorical variables to use in the random forest classifier. We can do so using column transformers. "
   ]
  },
  {
   "cell_type": "code",
   "execution_count": 5,
   "metadata": {},
   "outputs": [],
   "source": [
    "numeric_features = ['age', 'avg_glucose_level', 'bmi']\n",
    "categorical_features = ['sex',\n",
    "                        'hypertension',\n",
    "                        'heart_disease',\n",
    "                        'ever_married',\n",
    "                        'work_type',\n",
    "                        'Residence_type',\n",
    "                        'smoking_status',\n",
    "                        'age_group',\n",
    "                        'bmi_group']\n",
    "categorical_transformer = OneHotEncoder(handle_unknown='ignore')\n",
    "\n",
    "preprocessor = ColumnTransformer(transformers=[\n",
    "    ('Numeric', 'passthrough', numeric_features),\n",
    "    ('Categorical', categorical_transformer, categorical_features)\n",
    "])"
   ]
  },
  {
   "cell_type": "markdown",
   "metadata": {},
   "source": [
    "# Balance the target and make train, validation, and test splits"
   ]
  },
  {
   "cell_type": "code",
   "execution_count": 6,
   "metadata": {},
   "outputs": [],
   "source": [
    "y = df.pop('stroke').to_numpy()\n",
    "X = preprocessor.fit_transform(df)"
   ]
  },
  {
   "cell_type": "markdown",
   "metadata": {},
   "source": [
    "When building a classifier it is very important to check whether the classes in your training data are balanced."
   ]
  },
  {
   "cell_type": "code",
   "execution_count": 9,
   "metadata": {},
   "outputs": [
    {
     "data": {
      "text/plain": [
       "4.260958205912335"
      ]
     },
     "execution_count": 9,
     "metadata": {},
     "output_type": "execute_result"
    }
   ],
   "source": [
    "# Check the class balance\n",
    "100*(sum(y)/len(y))"
   ]
  },
  {
   "cell_type": "markdown",
   "metadata": {},
   "source": [
    "Only 4.3% of the subjects in our dataset have a class of stroke, the rest are all no-stroke. This will most likely cause our model to perform very poorly. Let's try!"
   ]
  },
  {
   "cell_type": "code",
   "execution_count": 10,
   "metadata": {},
   "outputs": [],
   "source": [
    "X_train, X_test, y_train, y_test, = train_test_split(X, y, test_size = 0.2) # 20% testing 80% training\n",
    "X_train, X_val, y_train, y_val = train_test_split(X_train, y_train, test_size = 0.25) # 25% validation 80% training"
   ]
  },
  {
   "cell_type": "markdown",
   "metadata": {},
   "source": [
    "# Non-deep-learning method"
   ]
  },
  {
   "cell_type": "markdown",
   "metadata": {},
   "source": [
    "# Random Forest classifier"
   ]
  },
  {
   "cell_type": "code",
   "execution_count": 11,
   "metadata": {},
   "outputs": [],
   "source": [
    "# Initialize and train the model\n",
    "RF = RandomForestClassifier(n_estimators=300)\n",
    "RF = RF.fit(X_train, y_train)"
   ]
  },
  {
   "cell_type": "code",
   "execution_count": 12,
   "metadata": {},
   "outputs": [
    {
     "name": "stdout",
     "output_type": "stream",
     "text": [
      "              precision    recall  f1-score   support\n",
      "\n",
      "           0       0.96      1.00      0.98       940\n",
      "           1       0.00      0.00      0.00        41\n",
      "\n",
      "    accuracy                           0.96       981\n",
      "   macro avg       0.48      0.50      0.49       981\n",
      "weighted avg       0.92      0.96      0.94       981\n",
      "\n"
     ]
    }
   ],
   "source": [
    "preds = RF.predict(X_test)\n",
    "print(classification_report(y_test, preds))"
   ]
  },
  {
   "cell_type": "markdown",
   "metadata": {},
   "source": [
    "As we expected our model only returns predictions that patients in the test data set do not have a stroke, this is due to the heavyily imbalanced class of no-stroke to stroke. Now let's employ a re-sampling technique to address this issue. "
   ]
  },
  {
   "cell_type": "code",
   "execution_count": 13,
   "metadata": {},
   "outputs": [],
   "source": [
    "# There is a heavy class imbalance for people who do not have stroke compared to people who do.\n",
    "# Thus for our classification model to not keep predicting the dominating class we must resample to balance our data\n",
    "# We will use an over-sampling of the minority class using the method Synthetic Minority Oversampling Technique (SMOTE)\n",
    "smote = SMOTE()\n",
    "X_smote, y_smote = smote.fit_resample(X, y)"
   ]
  },
  {
   "cell_type": "code",
   "execution_count": 14,
   "metadata": {},
   "outputs": [],
   "source": [
    "X_train, X_test, y_train, y_test, = train_test_split(X_smote, y_smote, test_size = 0.2) # 20% testing 80% training\n",
    "X_train, X_val, y_train, y_val = train_test_split(X_train, y_train, test_size = 0.25) # 25% validation 80% training"
   ]
  },
  {
   "cell_type": "code",
   "execution_count": 15,
   "metadata": {},
   "outputs": [],
   "source": [
    "# Initialize and train the model\n",
    "RF = RandomForestClassifier(n_estimators=300)\n",
    "RF = RF.fit(X_train, y_train)"
   ]
  },
  {
   "cell_type": "code",
   "execution_count": 16,
   "metadata": {},
   "outputs": [
    {
     "name": "stdout",
     "output_type": "stream",
     "text": [
      "              precision    recall  f1-score   support\n",
      "\n",
      "           0       0.96      1.00      0.98       942\n",
      "           1       1.00      0.96      0.98       937\n",
      "\n",
      "    accuracy                           0.98      1879\n",
      "   macro avg       0.98      0.98      0.98      1879\n",
      "weighted avg       0.98      0.98      0.98      1879\n",
      "\n"
     ]
    }
   ],
   "source": [
    "preds = RF.predict(X_test)\n",
    "print(classification_report(y_test, preds))"
   ]
  },
  {
   "cell_type": "code",
   "execution_count": 17,
   "metadata": {},
   "outputs": [
    {
     "data": {
      "image/png": "[encoded data removed]",
      "text/plain": [
       "<Figure size 432x288 with 2 Axes>"
      ]
     },
     "metadata": {
      "needs_background": "light"
     },
     "output_type": "display_data"
    }
   ],
   "source": [
    "ax=plot_confusion_matrix(RF, X_test, y_test)"
   ]
  },
  {
   "cell_type": "markdown",
   "metadata": {},
   "source": [
    "Okay, this is significantly better! After addressing the class imbalance the performance of our model is very good. The confusion matrix shows the true positives (898), true negatives (939), false negatives (39) and the false positives (3). "
   ]
  },
  {
   "cell_type": "markdown",
   "metadata": {},
   "source": [
    "# Deep-learning Approach"
   ]
  },
  {
   "cell_type": "markdown",
   "metadata": {},
   "source": [
    "Let's see if we can do better using a deep-learning model."
   ]
  },
  {
   "cell_type": "markdown",
   "metadata": {},
   "source": [
    "# Process the data into correct batches"
   ]
  },
  {
   "cell_type": "code",
   "execution_count": 18,
   "metadata": {},
   "outputs": [],
   "source": [
    "train = tf.data.Dataset.from_tensor_slices((X_train, y_train))\n",
    "test = tf.data.Dataset.from_tensor_slices((X_test, y_test))\n",
    "val = tf.data.Dataset.from_tensor_slices((X_val, y_val))"
   ]
  },
  {
   "cell_type": "code",
   "execution_count": 19,
   "metadata": {},
   "outputs": [],
   "source": [
    "train = train.shuffle(buffer_size=1024).batch(32).prefetch(tf.data.experimental.AUTOTUNE)\n",
    "test = test.batch(32).prefetch(1)\n",
    "val = val.batch(32).prefetch(1)"
   ]
  },
  {
   "cell_type": "code",
   "execution_count": 20,
   "metadata": {},
   "outputs": [
    {
     "data": {
      "text/plain": [
       "<PrefetchDataset shapes: ((None, 31), (None,)), types: (tf.float64, tf.int64)>"
      ]
     },
     "execution_count": 20,
     "metadata": {},
     "output_type": "execute_result"
    }
   ],
   "source": [
    "# Check the input shape\n",
    "train"
   ]
  },
  {
   "cell_type": "markdown",
   "metadata": {},
   "source": [
    "# Define the model"
   ]
  },
  {
   "cell_type": "code",
   "execution_count": 32,
   "metadata": {},
   "outputs": [
    {
     "name": "stdout",
     "output_type": "stream",
     "text": [
      "Model: \"sequential_3\"\n",
      "_________________________________________________________________\n",
      "Layer (type)                 Output Shape              Param #   \n",
      "=================================================================\n",
      "dense_9 (Dense)              (None, 512)               16384     \n",
      "_________________________________________________________________\n",
      "dense_10 (Dense)             (None, 1024)              525312    \n",
      "_________________________________________________________________\n",
      "dropout_3 (Dropout)          (None, 1024)              0         \n",
      "_________________________________________________________________\n",
      "dense_11 (Dense)             (None, 512)               524800    \n",
      "_________________________________________________________________\n",
      "dense_12 (Dense)             (None, 1)                 513       \n",
      "=================================================================\n",
      "Total params: 1,067,009\n",
      "Trainable params: 1,067,009\n",
      "Non-trainable params: 0\n",
      "_________________________________________________________________\n"
     ]
    }
   ],
   "source": [
    "# Define a very simple neural network with a dropout layer for regularization (this simulates L2 regularization)\n",
    "model = tf.keras.Sequential([\n",
    "    tf.keras.layers.Input(shape = (31)),\n",
    "    tf.keras.layers.Dense(units=512, activation=\"relu\"),\n",
    "    tf.keras.layers.Dense(units = 1024, activation = \"relu\"),\n",
    "    tf.keras.layers.Dropout(0.2),\n",
    "    tf.keras.layers.Dense(units=512, activation=\"relu\"),\n",
    "    tf.keras.layers.Dense(units = 1, activation=\"sigmoid\")\n",
    "])\n",
    "model.summary()"
   ]
  },
  {
   "cell_type": "code",
   "execution_count": 33,
   "metadata": {},
   "outputs": [
    {
     "name": "stdout",
     "output_type": "stream",
     "text": [
      "Epoch 1/200\n",
      "177/177 [==============================] - 3s 17ms/step - loss: 0.8557 - accuracy: 0.7132 - val_loss: 0.5391 - val_accuracy: 0.7014\n",
      "Epoch 2/200\n",
      "177/177 [==============================] - 3s 17ms/step - loss: 0.4890 - accuracy: 0.7457 - val_loss: 0.4770 - val_accuracy: 0.7578\n",
      "Epoch 3/200\n",
      "177/177 [==============================] - 3s 18ms/step - loss: 0.4791 - accuracy: 0.7524 - val_loss: 0.4649 - val_accuracy: 0.7674\n",
      "Epoch 4/200\n",
      "177/177 [==============================] - 3s 18ms/step - loss: 0.4600 - accuracy: 0.7645 - val_loss: 0.4676 - val_accuracy: 0.7791\n",
      "Epoch 5/200\n",
      "177/177 [==============================] - 3s 17ms/step - loss: 0.4621 - accuracy: 0.7671 - val_loss: 0.4480 - val_accuracy: 0.7866\n",
      "Epoch 6/200\n",
      "177/177 [==============================] - 3s 17ms/step - loss: 0.4476 - accuracy: 0.7735 - val_loss: 0.4451 - val_accuracy: 0.7871\n",
      "Epoch 7/200\n",
      "177/177 [==============================] - 3s 17ms/step - loss: 0.4400 - accuracy: 0.7794 - val_loss: 0.4361 - val_accuracy: 0.7951\n",
      "Epoch 8/200\n",
      "177/177 [==============================] - 3s 16ms/step - loss: 0.4388 - accuracy: 0.7845 - val_loss: 0.4470 - val_accuracy: 0.7813\n",
      "Epoch 9/200\n",
      "177/177 [==============================] - 3s 17ms/step - loss: 0.4324 - accuracy: 0.7879 - val_loss: 0.5547 - val_accuracy: 0.7392\n",
      "Epoch 10/200\n",
      "177/177 [==============================] - 3s 17ms/step - loss: 0.4327 - accuracy: 0.7872 - val_loss: 0.4344 - val_accuracy: 0.7866\n",
      "Epoch 11/200\n",
      "177/177 [==============================] - 3s 17ms/step - loss: 0.4269 - accuracy: 0.7941 - val_loss: 0.4339 - val_accuracy: 0.7935\n",
      "Epoch 12/200\n",
      "177/177 [==============================] - 3s 17ms/step - loss: 0.4162 - accuracy: 0.7993 - val_loss: 0.4292 - val_accuracy: 0.7967\n",
      "Epoch 13/200\n",
      "177/177 [==============================] - 3s 18ms/step - loss: 0.4115 - accuracy: 0.8056 - val_loss: 0.4064 - val_accuracy: 0.8206\n",
      "Epoch 14/200\n",
      "177/177 [==============================] - 3s 17ms/step - loss: 0.4046 - accuracy: 0.8039 - val_loss: 0.4181 - val_accuracy: 0.8137\n",
      "Epoch 15/200\n",
      "177/177 [==============================] - 3s 18ms/step - loss: 0.4049 - accuracy: 0.8040 - val_loss: 0.4160 - val_accuracy: 0.8047\n",
      "Epoch 16/200\n",
      "177/177 [==============================] - 3s 19ms/step - loss: 0.4113 - accuracy: 0.8009 - val_loss: 0.4029 - val_accuracy: 0.8201\n",
      "Epoch 17/200\n",
      "177/177 [==============================] - 3s 17ms/step - loss: 0.3973 - accuracy: 0.8117 - val_loss: 0.4065 - val_accuracy: 0.8116\n",
      "Epoch 18/200\n",
      "177/177 [==============================] - 3s 17ms/step - loss: 0.3984 - accuracy: 0.8154 - val_loss: 0.4095 - val_accuracy: 0.8185\n",
      "Epoch 19/200\n",
      "177/177 [==============================] - 3s 17ms/step - loss: 0.3906 - accuracy: 0.8127 - val_loss: 0.3864 - val_accuracy: 0.8276\n",
      "Epoch 20/200\n",
      "177/177 [==============================] - 3s 17ms/step - loss: 0.3825 - accuracy: 0.8197 - val_loss: 0.3876 - val_accuracy: 0.8286\n",
      "Epoch 21/200\n",
      "177/177 [==============================] - 3s 17ms/step - loss: 0.3773 - accuracy: 0.8253 - val_loss: 0.4912 - val_accuracy: 0.8057\n",
      "Epoch 22/200\n",
      "177/177 [==============================] - 3s 17ms/step - loss: 0.3831 - accuracy: 0.8216 - val_loss: 0.3858 - val_accuracy: 0.8222\n",
      "Epoch 23/200\n",
      "177/177 [==============================] - 3s 16ms/step - loss: 0.3726 - accuracy: 0.8285 - val_loss: 0.4035 - val_accuracy: 0.8148\n",
      "Epoch 24/200\n",
      "177/177 [==============================] - 3s 17ms/step - loss: 0.3625 - accuracy: 0.8367 - val_loss: 0.3547 - val_accuracy: 0.8483\n",
      "Epoch 25/200\n",
      "177/177 [==============================] - 3s 17ms/step - loss: 0.3639 - accuracy: 0.8360 - val_loss: 0.4451 - val_accuracy: 0.7972\n",
      "Epoch 26/200\n",
      "177/177 [==============================] - 3s 17ms/step - loss: 0.3632 - accuracy: 0.8349 - val_loss: 0.3612 - val_accuracy: 0.8414\n",
      "Epoch 27/200\n",
      "177/177 [==============================] - 3s 16ms/step - loss: 0.3659 - accuracy: 0.8340 - val_loss: 0.3558 - val_accuracy: 0.8414\n",
      "Epoch 28/200\n",
      "177/177 [==============================] - 3s 18ms/step - loss: 0.3539 - accuracy: 0.8422 - val_loss: 0.3435 - val_accuracy: 0.8462\n",
      "Epoch 29/200\n",
      "177/177 [==============================] - 3s 17ms/step - loss: 0.3488 - accuracy: 0.8429 - val_loss: 0.3596 - val_accuracy: 0.8403\n",
      "Epoch 30/200\n",
      "177/177 [==============================] - 3s 16ms/step - loss: 0.3414 - accuracy: 0.8484 - val_loss: 0.3776 - val_accuracy: 0.8313\n",
      "Epoch 31/200\n",
      "177/177 [==============================] - 3s 17ms/step - loss: 0.3306 - accuracy: 0.8532 - val_loss: 0.3297 - val_accuracy: 0.8606\n",
      "Epoch 32/200\n",
      "177/177 [==============================] - 3s 18ms/step - loss: 0.3231 - accuracy: 0.8578 - val_loss: 0.3299 - val_accuracy: 0.8627\n",
      "Epoch 33/200\n",
      "177/177 [==============================] - 3s 17ms/step - loss: 0.3152 - accuracy: 0.8651 - val_loss: 0.3106 - val_accuracy: 0.8675\n",
      "Epoch 34/200\n",
      "177/177 [==============================] - 3s 17ms/step - loss: 0.3242 - accuracy: 0.8591 - val_loss: 0.3210 - val_accuracy: 0.8627\n",
      "Epoch 35/200\n",
      "177/177 [==============================] - 3s 16ms/step - loss: 0.3018 - accuracy: 0.8722 - val_loss: 0.4101 - val_accuracy: 0.8222\n",
      "Epoch 36/200\n",
      "177/177 [==============================] - 3s 17ms/step - loss: 0.3091 - accuracy: 0.8708 - val_loss: 0.3258 - val_accuracy: 0.8611\n",
      "Epoch 37/200\n",
      "177/177 [==============================] - 3s 17ms/step - loss: 0.2915 - accuracy: 0.8786 - val_loss: 0.3041 - val_accuracy: 0.8717\n",
      "Epoch 38/200\n",
      "177/177 [==============================] - 3s 18ms/step - loss: 0.2817 - accuracy: 0.8836 - val_loss: 0.3016 - val_accuracy: 0.8733\n",
      "Epoch 39/200\n",
      "177/177 [==============================] - 3s 18ms/step - loss: 0.2856 - accuracy: 0.8782 - val_loss: 0.3253 - val_accuracy: 0.8760\n",
      "Epoch 40/200\n",
      "177/177 [==============================] - 3s 17ms/step - loss: 0.2894 - accuracy: 0.8782 - val_loss: 0.3019 - val_accuracy: 0.8728\n",
      "Epoch 41/200\n",
      "177/177 [==============================] - 3s 16ms/step - loss: 0.2627 - accuracy: 0.8921 - val_loss: 0.2967 - val_accuracy: 0.8845\n",
      "Epoch 42/200\n",
      "177/177 [==============================] - 3s 16ms/step - loss: 0.2635 - accuracy: 0.8916 - val_loss: 0.2971 - val_accuracy: 0.8909\n",
      "Epoch 43/200\n",
      "177/177 [==============================] - 3s 17ms/step - loss: 0.2554 - accuracy: 0.8953 - val_loss: 0.2718 - val_accuracy: 0.8936\n",
      "Epoch 44/200\n",
      "177/177 [==============================] - 3s 16ms/step - loss: 0.2660 - accuracy: 0.8905 - val_loss: 0.2779 - val_accuracy: 0.8872\n",
      "Epoch 45/200\n",
      "177/177 [==============================] - 3s 16ms/step - loss: 0.2537 - accuracy: 0.8960 - val_loss: 0.2701 - val_accuracy: 0.8930\n",
      "Epoch 46/200\n",
      "177/177 [==============================] - 3s 17ms/step - loss: 0.2521 - accuracy: 0.8974 - val_loss: 0.3608 - val_accuracy: 0.8611\n",
      "Epoch 47/200\n",
      "177/177 [==============================] - 3s 16ms/step - loss: 0.2561 - accuracy: 0.8930 - val_loss: 0.2575 - val_accuracy: 0.8999\n",
      "Epoch 48/200\n",
      "177/177 [==============================] - 3s 17ms/step - loss: 0.2327 - accuracy: 0.9040 - val_loss: 0.2552 - val_accuracy: 0.9037\n",
      "Epoch 49/200\n",
      "177/177 [==============================] - 3s 17ms/step - loss: 0.2350 - accuracy: 0.9047 - val_loss: 0.2997 - val_accuracy: 0.8739\n",
      "Epoch 50/200\n",
      "177/177 [==============================] - 3s 18ms/step - loss: 0.2346 - accuracy: 0.9052 - val_loss: 0.2777 - val_accuracy: 0.8877\n",
      "Epoch 51/200\n",
      "177/177 [==============================] - 4s 20ms/step - loss: 0.2332 - accuracy: 0.9063 - val_loss: 0.2562 - val_accuracy: 0.8999\n",
      "Epoch 52/200\n",
      "177/177 [==============================] - 3s 18ms/step - loss: 0.2264 - accuracy: 0.9081 - val_loss: 0.2380 - val_accuracy: 0.9101\n",
      "Epoch 53/200\n",
      "177/177 [==============================] - 3s 18ms/step - loss: 0.2067 - accuracy: 0.9201 - val_loss: 0.2481 - val_accuracy: 0.9021\n",
      "Epoch 54/200\n",
      "177/177 [==============================] - 3s 18ms/step - loss: 0.2055 - accuracy: 0.9184 - val_loss: 0.2491 - val_accuracy: 0.9015\n",
      "Epoch 55/200\n",
      "177/177 [==============================] - 3s 19ms/step - loss: 0.2043 - accuracy: 0.9191 - val_loss: 0.3022 - val_accuracy: 0.8861\n",
      "Epoch 56/200\n",
      "177/177 [==============================] - 3s 18ms/step - loss: 0.2002 - accuracy: 0.9230 - val_loss: 0.2652 - val_accuracy: 0.8989\n",
      "Epoch 57/200\n",
      "177/177 [==============================] - 3s 19ms/step - loss: 0.3216 - accuracy: 0.8559 - val_loss: 0.3182 - val_accuracy: 0.8648\n",
      "Epoch 58/200\n",
      "177/177 [==============================] - 3s 19ms/step - loss: 0.2705 - accuracy: 0.8852 - val_loss: 0.2942 - val_accuracy: 0.8728\n",
      "Epoch 59/200\n",
      "177/177 [==============================] - 3s 17ms/step - loss: 0.2311 - accuracy: 0.9043 - val_loss: 0.2423 - val_accuracy: 0.9106\n",
      "Epoch 60/200\n",
      "177/177 [==============================] - 3s 18ms/step - loss: 0.2167 - accuracy: 0.9175 - val_loss: 0.2358 - val_accuracy: 0.9101\n",
      "Epoch 61/200\n",
      "177/177 [==============================] - 3s 18ms/step - loss: 0.2047 - accuracy: 0.9178 - val_loss: 0.2270 - val_accuracy: 0.9111\n",
      "Epoch 62/200\n",
      "177/177 [==============================] - 3s 18ms/step - loss: 0.1863 - accuracy: 0.9288 - val_loss: 0.2545 - val_accuracy: 0.9063\n",
      "Epoch 63/200\n",
      "177/177 [==============================] - 3s 18ms/step - loss: 0.1909 - accuracy: 0.9285 - val_loss: 0.2076 - val_accuracy: 0.9234\n",
      "Epoch 64/200\n",
      "177/177 [==============================] - 3s 16ms/step - loss: 0.1815 - accuracy: 0.9304 - val_loss: 0.2102 - val_accuracy: 0.9218\n",
      "Epoch 65/200\n",
      "177/177 [==============================] - 3s 18ms/step - loss: 0.1661 - accuracy: 0.9366 - val_loss: 0.2211 - val_accuracy: 0.9207\n",
      "Epoch 66/200\n",
      "177/177 [==============================] - 3s 17ms/step - loss: 0.1647 - accuracy: 0.9373 - val_loss: 0.2371 - val_accuracy: 0.9117\n",
      "Epoch 67/200\n",
      "177/177 [==============================] - 3s 17ms/step - loss: 0.1852 - accuracy: 0.9292 - val_loss: 0.2183 - val_accuracy: 0.9196\n",
      "Epoch 68/200\n",
      "177/177 [==============================] - 3s 16ms/step - loss: 0.1618 - accuracy: 0.9375 - val_loss: 0.2304 - val_accuracy: 0.9228\n",
      "Epoch 69/200\n",
      "177/177 [==============================] - 3s 17ms/step - loss: 0.1642 - accuracy: 0.9365 - val_loss: 0.2289 - val_accuracy: 0.9212\n",
      "Epoch 70/200\n",
      "177/177 [==============================] - 3s 17ms/step - loss: 0.1542 - accuracy: 0.9432 - val_loss: 0.1839 - val_accuracy: 0.9351\n",
      "Epoch 71/200\n",
      "177/177 [==============================] - 3s 19ms/step - loss: 0.1536 - accuracy: 0.9437 - val_loss: 0.1958 - val_accuracy: 0.9260\n",
      "Epoch 72/200\n",
      "177/177 [==============================] - 4s 21ms/step - loss: 0.1543 - accuracy: 0.9411 - val_loss: 0.2068 - val_accuracy: 0.9212\n",
      "Epoch 73/200\n",
      "177/177 [==============================] - 3s 18ms/step - loss: 0.1406 - accuracy: 0.9489 - val_loss: 0.1814 - val_accuracy: 0.9340\n",
      "Epoch 74/200\n",
      "177/177 [==============================] - 3s 18ms/step - loss: 0.1456 - accuracy: 0.9471 - val_loss: 0.2323 - val_accuracy: 0.9143\n",
      "Epoch 75/200\n",
      "177/177 [==============================] - 3s 19ms/step - loss: 0.1475 - accuracy: 0.9468 - val_loss: 0.1975 - val_accuracy: 0.9276\n",
      "Epoch 76/200\n",
      "177/177 [==============================] - 3s 19ms/step - loss: 0.1289 - accuracy: 0.9508 - val_loss: 0.1781 - val_accuracy: 0.9356\n",
      "Epoch 77/200\n",
      "177/177 [==============================] - 3s 18ms/step - loss: 0.1370 - accuracy: 0.9503 - val_loss: 0.1706 - val_accuracy: 0.9383\n",
      "Epoch 78/200\n",
      "177/177 [==============================] - 3s 18ms/step - loss: 0.1340 - accuracy: 0.9485 - val_loss: 0.1827 - val_accuracy: 0.9335\n",
      "Epoch 79/200\n",
      "177/177 [==============================] - 3s 17ms/step - loss: 0.1368 - accuracy: 0.9498 - val_loss: 0.1705 - val_accuracy: 0.9377\n",
      "Epoch 80/200\n",
      "177/177 [==============================] - 3s 17ms/step - loss: 0.1285 - accuracy: 0.9524 - val_loss: 0.1899 - val_accuracy: 0.9356\n",
      "Epoch 81/200\n",
      "177/177 [==============================] - 3s 17ms/step - loss: 0.1415 - accuracy: 0.9464 - val_loss: 0.1886 - val_accuracy: 0.9335\n",
      "Epoch 82/200\n",
      "177/177 [==============================] - 3s 18ms/step - loss: 0.1235 - accuracy: 0.9542 - val_loss: 0.1833 - val_accuracy: 0.9415\n",
      "Epoch 83/200\n",
      "177/177 [==============================] - 3s 18ms/step - loss: 0.1337 - accuracy: 0.9499 - val_loss: 0.1846 - val_accuracy: 0.9367\n",
      "Epoch 84/200\n",
      "177/177 [==============================] - 3s 16ms/step - loss: 0.1309 - accuracy: 0.9512 - val_loss: 0.1849 - val_accuracy: 0.9308\n",
      "Epoch 85/200\n",
      "177/177 [==============================] - 3s 17ms/step - loss: 0.1209 - accuracy: 0.9533 - val_loss: 0.1885 - val_accuracy: 0.9388\n",
      "Epoch 86/200\n",
      "177/177 [==============================] - 3s 19ms/step - loss: 0.1337 - accuracy: 0.9496 - val_loss: 0.1706 - val_accuracy: 0.9478\n",
      "Epoch 87/200\n",
      "177/177 [==============================] - 3s 19ms/step - loss: 0.1064 - accuracy: 0.9610 - val_loss: 0.2069 - val_accuracy: 0.9260\n",
      "Epoch 88/200\n",
      "177/177 [==============================] - 3s 17ms/step - loss: 0.1082 - accuracy: 0.9611 - val_loss: 0.2180 - val_accuracy: 0.9271\n",
      "Epoch 89/200\n",
      "177/177 [==============================] - 3s 16ms/step - loss: 0.1337 - accuracy: 0.9515 - val_loss: 0.1884 - val_accuracy: 0.9335\n",
      "Epoch 90/200\n",
      "177/177 [==============================] - 3s 16ms/step - loss: 0.1092 - accuracy: 0.9574 - val_loss: 0.1670 - val_accuracy: 0.9447\n",
      "Epoch 91/200\n",
      "177/177 [==============================] - 3s 17ms/step - loss: 0.1055 - accuracy: 0.9594 - val_loss: 0.1783 - val_accuracy: 0.9468\n",
      "Epoch 92/200\n",
      "177/177 [==============================] - 3s 16ms/step - loss: 0.1036 - accuracy: 0.9640 - val_loss: 0.1469 - val_accuracy: 0.9537\n",
      "Epoch 93/200\n",
      "177/177 [==============================] - 3s 14ms/step - loss: 0.1064 - accuracy: 0.9640 - val_loss: 0.1739 - val_accuracy: 0.9452\n",
      "Epoch 94/200\n",
      "177/177 [==============================] - 3s 16ms/step - loss: 0.1216 - accuracy: 0.9549 - val_loss: 0.2205 - val_accuracy: 0.9266\n",
      "Epoch 95/200\n",
      "177/177 [==============================] - 3s 17ms/step - loss: 0.1107 - accuracy: 0.9599 - val_loss: 0.1725 - val_accuracy: 0.9335\n",
      "Epoch 96/200\n",
      "177/177 [==============================] - 3s 18ms/step - loss: 0.1123 - accuracy: 0.9581 - val_loss: 0.1559 - val_accuracy: 0.9399\n",
      "Epoch 97/200\n",
      "177/177 [==============================] - 3s 16ms/step - loss: 0.1060 - accuracy: 0.9588 - val_loss: 0.1870 - val_accuracy: 0.9377\n",
      "Epoch 98/200\n",
      "177/177 [==============================] - 3s 17ms/step - loss: 0.1005 - accuracy: 0.9611 - val_loss: 0.2166 - val_accuracy: 0.9292\n",
      "Epoch 99/200\n",
      "177/177 [==============================] - 3s 17ms/step - loss: 0.1220 - accuracy: 0.9562 - val_loss: 0.1821 - val_accuracy: 0.9367\n",
      "Epoch 100/200\n",
      "177/177 [==============================] - 3s 17ms/step - loss: 0.1107 - accuracy: 0.9586 - val_loss: 0.1387 - val_accuracy: 0.9558\n",
      "Epoch 101/200\n",
      "177/177 [==============================] - 3s 18ms/step - loss: 0.1037 - accuracy: 0.9636 - val_loss: 0.1680 - val_accuracy: 0.9409\n",
      "Epoch 102/200\n",
      "177/177 [==============================] - 3s 16ms/step - loss: 0.0985 - accuracy: 0.9622 - val_loss: 0.1626 - val_accuracy: 0.9415\n",
      "Epoch 103/200\n",
      "177/177 [==============================] - 3s 16ms/step - loss: 0.0865 - accuracy: 0.9693 - val_loss: 0.1801 - val_accuracy: 0.9473\n",
      "Epoch 104/200\n",
      "177/177 [==============================] - 3s 17ms/step - loss: 0.1131 - accuracy: 0.9608 - val_loss: 0.1745 - val_accuracy: 0.9393\n",
      "Epoch 105/200\n",
      "177/177 [==============================] - 3s 17ms/step - loss: 0.0844 - accuracy: 0.9696 - val_loss: 0.1504 - val_accuracy: 0.9489\n",
      "Epoch 106/200\n",
      "177/177 [==============================] - 3s 16ms/step - loss: 0.0761 - accuracy: 0.9727 - val_loss: 0.1433 - val_accuracy: 0.9532\n",
      "Epoch 107/200\n",
      "177/177 [==============================] - 3s 16ms/step - loss: 0.1168 - accuracy: 0.9563 - val_loss: 0.1634 - val_accuracy: 0.9473\n",
      "Epoch 108/200\n",
      "177/177 [==============================] - 3s 17ms/step - loss: 0.0853 - accuracy: 0.9693 - val_loss: 0.1570 - val_accuracy: 0.9468\n",
      "Epoch 109/200\n",
      "177/177 [==============================] - 3s 17ms/step - loss: 0.0943 - accuracy: 0.9657 - val_loss: 0.1626 - val_accuracy: 0.9425\n",
      "Epoch 110/200\n",
      "177/177 [==============================] - 3s 16ms/step - loss: 0.0831 - accuracy: 0.9704 - val_loss: 0.1814 - val_accuracy: 0.9441\n",
      "Epoch 111/200\n",
      "177/177 [==============================] - 3s 18ms/step - loss: 0.0788 - accuracy: 0.9718 - val_loss: 0.1584 - val_accuracy: 0.9510\n",
      "Epoch 112/200\n",
      "177/177 [==============================] - 3s 17ms/step - loss: 0.0931 - accuracy: 0.9659 - val_loss: 0.1667 - val_accuracy: 0.9468\n",
      "Epoch 113/200\n",
      "177/177 [==============================] - 3s 16ms/step - loss: 0.0926 - accuracy: 0.9645 - val_loss: 0.1660 - val_accuracy: 0.9393\n",
      "Epoch 114/200\n",
      "177/177 [==============================] - 3s 16ms/step - loss: 0.0751 - accuracy: 0.9732 - val_loss: 0.1530 - val_accuracy: 0.9564\n",
      "Epoch 115/200\n",
      "177/177 [==============================] - 3s 17ms/step - loss: 0.0798 - accuracy: 0.9730 - val_loss: 0.2113 - val_accuracy: 0.9372\n",
      "Epoch 116/200\n",
      "177/177 [==============================] - 3s 17ms/step - loss: 0.0930 - accuracy: 0.9679 - val_loss: 0.1773 - val_accuracy: 0.9409\n",
      "Epoch 117/200\n",
      "177/177 [==============================] - 3s 17ms/step - loss: 0.2248 - accuracy: 0.9155 - val_loss: 0.2717 - val_accuracy: 0.8898\n",
      "Epoch 118/200\n",
      "177/177 [==============================] - 3s 17ms/step - loss: 0.1364 - accuracy: 0.9489 - val_loss: 0.1993 - val_accuracy: 0.9250\n",
      "Epoch 119/200\n",
      "177/177 [==============================] - 3s 16ms/step - loss: 0.1058 - accuracy: 0.9617 - val_loss: 0.1876 - val_accuracy: 0.9255\n",
      "Epoch 120/200\n",
      "177/177 [==============================] - 3s 17ms/step - loss: 0.0974 - accuracy: 0.9638 - val_loss: 0.1805 - val_accuracy: 0.9404\n",
      "Epoch 121/200\n",
      "177/177 [==============================] - 3s 17ms/step - loss: 0.0879 - accuracy: 0.9679 - val_loss: 0.1927 - val_accuracy: 0.9383\n",
      "Epoch 122/200\n",
      "177/177 [==============================] - 3s 17ms/step - loss: 0.0958 - accuracy: 0.9627 - val_loss: 0.2176 - val_accuracy: 0.9345\n",
      "Epoch 123/200\n",
      "177/177 [==============================] - 3s 17ms/step - loss: 0.0918 - accuracy: 0.9684 - val_loss: 0.2041 - val_accuracy: 0.9372\n",
      "Epoch 124/200\n",
      "177/177 [==============================] - 3s 17ms/step - loss: 0.1167 - accuracy: 0.9578 - val_loss: 0.2153 - val_accuracy: 0.9255\n",
      "Epoch 125/200\n",
      "177/177 [==============================] - 3s 18ms/step - loss: 0.1123 - accuracy: 0.9570 - val_loss: 0.1442 - val_accuracy: 0.9494\n",
      "Epoch 126/200\n",
      "177/177 [==============================] - 3s 17ms/step - loss: 0.0706 - accuracy: 0.9759 - val_loss: 0.1518 - val_accuracy: 0.9553\n",
      "Epoch 127/200\n",
      "177/177 [==============================] - 3s 17ms/step - loss: 0.0869 - accuracy: 0.9691 - val_loss: 0.1976 - val_accuracy: 0.9223\n",
      "Epoch 128/200\n",
      "177/177 [==============================] - 3s 17ms/step - loss: 0.0898 - accuracy: 0.9670 - val_loss: 0.2151 - val_accuracy: 0.9388\n",
      "Epoch 129/200\n",
      "177/177 [==============================] - 3s 17ms/step - loss: 0.0699 - accuracy: 0.9755 - val_loss: 0.2102 - val_accuracy: 0.9441\n",
      "Epoch 130/200\n",
      "177/177 [==============================] - 3s 17ms/step - loss: 0.0748 - accuracy: 0.9736 - val_loss: 0.1733 - val_accuracy: 0.9436\n",
      "Epoch 131/200\n",
      "177/177 [==============================] - 3s 17ms/step - loss: 0.0716 - accuracy: 0.9743 - val_loss: 0.2106 - val_accuracy: 0.9399\n",
      "Epoch 132/200\n",
      "177/177 [==============================] - 3s 17ms/step - loss: 0.0760 - accuracy: 0.9720 - val_loss: 0.2375 - val_accuracy: 0.9324\n",
      "Epoch 133/200\n",
      "177/177 [==============================] - 3s 16ms/step - loss: 0.0925 - accuracy: 0.9668 - val_loss: 0.1662 - val_accuracy: 0.9505\n",
      "Epoch 134/200\n",
      "177/177 [==============================] - 3s 16ms/step - loss: 0.1014 - accuracy: 0.9633 - val_loss: 0.1857 - val_accuracy: 0.9431\n",
      "Epoch 135/200\n",
      "177/177 [==============================] - 3s 17ms/step - loss: 0.0851 - accuracy: 0.9686 - val_loss: 0.1605 - val_accuracy: 0.9505\n",
      "Epoch 136/200\n",
      "177/177 [==============================] - 3s 17ms/step - loss: 0.0649 - accuracy: 0.9762 - val_loss: 0.1577 - val_accuracy: 0.9494\n",
      "Epoch 137/200\n",
      "177/177 [==============================] - 3s 18ms/step - loss: 0.0685 - accuracy: 0.9727 - val_loss: 0.1772 - val_accuracy: 0.9484\n",
      "Epoch 138/200\n",
      "177/177 [==============================] - 3s 16ms/step - loss: 0.0901 - accuracy: 0.9698 - val_loss: 0.1745 - val_accuracy: 0.9415\n",
      "Epoch 139/200\n",
      "177/177 [==============================] - 3s 17ms/step - loss: 0.0609 - accuracy: 0.9787 - val_loss: 0.1769 - val_accuracy: 0.9473\n",
      "Epoch 140/200\n",
      "177/177 [==============================] - 3s 17ms/step - loss: 0.0763 - accuracy: 0.9725 - val_loss: 0.2033 - val_accuracy: 0.9420\n",
      "Epoch 141/200\n",
      "177/177 [==============================] - 3s 18ms/step - loss: 0.1003 - accuracy: 0.9668 - val_loss: 0.1843 - val_accuracy: 0.9478\n",
      "Epoch 142/200\n",
      "177/177 [==============================] - 3s 17ms/step - loss: 0.0596 - accuracy: 0.9776 - val_loss: 0.1545 - val_accuracy: 0.9505\n",
      "Epoch 143/200\n",
      "177/177 [==============================] - 3s 16ms/step - loss: 0.0646 - accuracy: 0.9750 - val_loss: 0.1648 - val_accuracy: 0.9473\n",
      "Epoch 144/200\n",
      "177/177 [==============================] - 3s 16ms/step - loss: 0.0775 - accuracy: 0.9737 - val_loss: 0.2348 - val_accuracy: 0.9287\n",
      "Epoch 145/200\n",
      "177/177 [==============================] - 3s 17ms/step - loss: 0.0819 - accuracy: 0.9700 - val_loss: 0.1788 - val_accuracy: 0.9436\n",
      "Epoch 146/200\n",
      "177/177 [==============================] - 3s 18ms/step - loss: 0.0639 - accuracy: 0.9762 - val_loss: 0.1383 - val_accuracy: 0.9580\n",
      "Epoch 147/200\n",
      "177/177 [==============================] - 3s 17ms/step - loss: 0.0665 - accuracy: 0.9748 - val_loss: 0.1612 - val_accuracy: 0.9510\n",
      "Epoch 148/200\n",
      "177/177 [==============================] - 3s 18ms/step - loss: 0.0617 - accuracy: 0.9760 - val_loss: 0.2296 - val_accuracy: 0.9345\n",
      "Epoch 149/200\n",
      "177/177 [==============================] - 3s 18ms/step - loss: 0.1226 - accuracy: 0.9615 - val_loss: 0.1524 - val_accuracy: 0.9505\n",
      "Epoch 150/200\n",
      "177/177 [==============================] - 3s 17ms/step - loss: 0.0850 - accuracy: 0.9716 - val_loss: 0.2332 - val_accuracy: 0.9367\n",
      "Epoch 151/200\n",
      "177/177 [==============================] - 3s 17ms/step - loss: 0.0835 - accuracy: 0.9684 - val_loss: 0.1509 - val_accuracy: 0.9510\n",
      "Epoch 152/200\n",
      "177/177 [==============================] - 3s 17ms/step - loss: 0.1387 - accuracy: 0.9585 - val_loss: 0.1823 - val_accuracy: 0.9431\n",
      "Epoch 153/200\n",
      "177/177 [==============================] - 3s 17ms/step - loss: 0.0779 - accuracy: 0.9736 - val_loss: 0.1567 - val_accuracy: 0.9537\n",
      "Epoch 154/200\n",
      "177/177 [==============================] - 3s 17ms/step - loss: 0.0621 - accuracy: 0.9778 - val_loss: 0.1597 - val_accuracy: 0.9447\n",
      "Epoch 155/200\n",
      "177/177 [==============================] - 3s 17ms/step - loss: 0.0707 - accuracy: 0.9752 - val_loss: 0.1721 - val_accuracy: 0.9526\n",
      "Epoch 156/200\n",
      "177/177 [==============================] - 3s 16ms/step - loss: 0.0661 - accuracy: 0.9760 - val_loss: 0.1848 - val_accuracy: 0.9473\n",
      "Epoch 157/200\n",
      "177/177 [==============================] - 3s 17ms/step - loss: 0.0504 - accuracy: 0.9828 - val_loss: 0.1844 - val_accuracy: 0.9510\n",
      "Epoch 158/200\n",
      "177/177 [==============================] - 3s 16ms/step - loss: 0.0884 - accuracy: 0.9673 - val_loss: 0.2102 - val_accuracy: 0.9372\n",
      "Epoch 159/200\n",
      "177/177 [==============================] - 3s 17ms/step - loss: 0.0755 - accuracy: 0.9732 - val_loss: 0.1824 - val_accuracy: 0.9489\n",
      "Epoch 160/200\n",
      "177/177 [==============================] - 3s 16ms/step - loss: 0.0531 - accuracy: 0.9794 - val_loss: 0.1798 - val_accuracy: 0.9494\n",
      "Epoch 161/200\n",
      "177/177 [==============================] - 3s 16ms/step - loss: 0.0916 - accuracy: 0.9657 - val_loss: 0.1628 - val_accuracy: 0.9436\n",
      "Epoch 162/200\n",
      "177/177 [==============================] - 3s 17ms/step - loss: 0.0561 - accuracy: 0.9805 - val_loss: 0.1784 - val_accuracy: 0.9361\n",
      "Epoch 163/200\n",
      "177/177 [==============================] - 3s 16ms/step - loss: 0.0670 - accuracy: 0.9755 - val_loss: 0.2049 - val_accuracy: 0.9409\n",
      "Epoch 164/200\n",
      "177/177 [==============================] - 3s 17ms/step - loss: 0.0552 - accuracy: 0.9792 - val_loss: 0.1591 - val_accuracy: 0.9521\n",
      "Epoch 165/200\n",
      "177/177 [==============================] - 3s 16ms/step - loss: 0.0785 - accuracy: 0.9725 - val_loss: 0.2246 - val_accuracy: 0.9361\n",
      "Epoch 166/200\n",
      "177/177 [==============================] - 3s 17ms/step - loss: 0.0769 - accuracy: 0.9746 - val_loss: 0.1464 - val_accuracy: 0.9580\n",
      "Epoch 167/200\n",
      "177/177 [==============================] - 3s 19ms/step - loss: 0.0485 - accuracy: 0.9830 - val_loss: 0.1382 - val_accuracy: 0.9574\n",
      "Epoch 168/200\n",
      "177/177 [==============================] - 3s 17ms/step - loss: 0.0581 - accuracy: 0.9791 - val_loss: 0.1340 - val_accuracy: 0.9569\n",
      "Epoch 169/200\n",
      "177/177 [==============================] - 3s 16ms/step - loss: 0.0418 - accuracy: 0.9838 - val_loss: 0.1783 - val_accuracy: 0.9500\n",
      "Epoch 170/200\n",
      "177/177 [==============================] - 3s 17ms/step - loss: 0.0695 - accuracy: 0.9732 - val_loss: 0.1844 - val_accuracy: 0.9388\n",
      "Epoch 171/200\n",
      "177/177 [==============================] - 3s 17ms/step - loss: 0.0651 - accuracy: 0.9769 - val_loss: 0.1366 - val_accuracy: 0.9564\n",
      "Epoch 172/200\n",
      "177/177 [==============================] - 3s 16ms/step - loss: 0.0410 - accuracy: 0.9849 - val_loss: 0.1484 - val_accuracy: 0.9617\n",
      "Epoch 173/200\n",
      "177/177 [==============================] - 3s 16ms/step - loss: 0.0548 - accuracy: 0.9791 - val_loss: 0.1952 - val_accuracy: 0.9473\n",
      "Epoch 174/200\n",
      "177/177 [==============================] - 3s 16ms/step - loss: 0.0523 - accuracy: 0.9808 - val_loss: 0.2408 - val_accuracy: 0.9383\n",
      "Epoch 175/200\n",
      "177/177 [==============================] - 3s 17ms/step - loss: 0.0533 - accuracy: 0.9814 - val_loss: 0.2604 - val_accuracy: 0.9420\n",
      "Epoch 176/200\n",
      "177/177 [==============================] - 3s 17ms/step - loss: 0.0561 - accuracy: 0.9792 - val_loss: 0.2288 - val_accuracy: 0.9351\n",
      "Epoch 177/200\n",
      "177/177 [==============================] - 3s 16ms/step - loss: 0.0479 - accuracy: 0.9830 - val_loss: 0.1811 - val_accuracy: 0.9510\n",
      "Epoch 178/200\n",
      "177/177 [==============================] - 3s 16ms/step - loss: 0.0526 - accuracy: 0.9826 - val_loss: 0.1477 - val_accuracy: 0.9569\n",
      "Epoch 179/200\n",
      "177/177 [==============================] - 3s 16ms/step - loss: 0.0655 - accuracy: 0.9766 - val_loss: 0.1758 - val_accuracy: 0.9537\n",
      "Epoch 180/200\n",
      "177/177 [==============================] - 3s 16ms/step - loss: 0.0676 - accuracy: 0.9757 - val_loss: 0.1701 - val_accuracy: 0.9489\n",
      "Epoch 181/200\n",
      "177/177 [==============================] - 3s 16ms/step - loss: 0.0600 - accuracy: 0.9803 - val_loss: 0.1650 - val_accuracy: 0.9526\n",
      "Epoch 182/200\n",
      "177/177 [==============================] - 3s 17ms/step - loss: 0.0349 - accuracy: 0.9869 - val_loss: 0.1750 - val_accuracy: 0.9590\n",
      "Epoch 183/200\n",
      "177/177 [==============================] - 3s 17ms/step - loss: 0.0553 - accuracy: 0.9817 - val_loss: 0.1639 - val_accuracy: 0.9574\n",
      "Epoch 184/200\n",
      "177/177 [==============================] - 3s 18ms/step - loss: 0.0622 - accuracy: 0.9775 - val_loss: 0.2000 - val_accuracy: 0.9393\n",
      "Epoch 185/200\n",
      "177/177 [==============================] - 3s 17ms/step - loss: 0.0491 - accuracy: 0.9830 - val_loss: 0.2099 - val_accuracy: 0.9388\n",
      "Epoch 186/200\n",
      "177/177 [==============================] - 3s 17ms/step - loss: 0.0403 - accuracy: 0.9862 - val_loss: 0.1697 - val_accuracy: 0.9489\n",
      "Epoch 187/200\n",
      "177/177 [==============================] - 3s 18ms/step - loss: 0.0435 - accuracy: 0.9828 - val_loss: 0.1790 - val_accuracy: 0.9526\n",
      "Epoch 188/200\n",
      "177/177 [==============================] - 3s 18ms/step - loss: 0.0502 - accuracy: 0.9837 - val_loss: 0.1934 - val_accuracy: 0.9500\n",
      "Epoch 189/200\n",
      "177/177 [==============================] - 3s 17ms/step - loss: 0.0777 - accuracy: 0.9730 - val_loss: 0.1685 - val_accuracy: 0.9537\n",
      "Epoch 190/200\n",
      "177/177 [==============================] - 3s 18ms/step - loss: 0.0346 - accuracy: 0.9870 - val_loss: 0.1652 - val_accuracy: 0.9574\n",
      "Epoch 191/200\n",
      "177/177 [==============================] - 3s 17ms/step - loss: 0.0400 - accuracy: 0.9860 - val_loss: 0.1923 - val_accuracy: 0.9516\n",
      "Epoch 192/200\n",
      "177/177 [==============================] - 3s 17ms/step - loss: 0.0472 - accuracy: 0.9824 - val_loss: 0.2266 - val_accuracy: 0.9484\n",
      "Epoch 193/200\n",
      "177/177 [==============================] - 3s 17ms/step - loss: 0.0528 - accuracy: 0.9821 - val_loss: 0.1866 - val_accuracy: 0.9516\n",
      "Epoch 194/200\n",
      "177/177 [==============================] - 3s 18ms/step - loss: 0.0292 - accuracy: 0.9894 - val_loss: 0.1709 - val_accuracy: 0.9548\n",
      "Epoch 195/200\n",
      "177/177 [==============================] - 3s 17ms/step - loss: 0.0701 - accuracy: 0.9757 - val_loss: 0.2113 - val_accuracy: 0.9409\n",
      "Epoch 196/200\n",
      "177/177 [==============================] - 3s 16ms/step - loss: 0.0437 - accuracy: 0.9831 - val_loss: 0.1775 - val_accuracy: 0.9548\n",
      "Epoch 197/200\n",
      "177/177 [==============================] - 3s 16ms/step - loss: 0.0806 - accuracy: 0.9709 - val_loss: 0.1756 - val_accuracy: 0.9473\n",
      "Epoch 198/200\n",
      "177/177 [==============================] - 3s 17ms/step - loss: 0.0494 - accuracy: 0.9835 - val_loss: 0.1702 - val_accuracy: 0.9590\n",
      "Epoch 199/200\n",
      "177/177 [==============================] - 3s 16ms/step - loss: 0.0350 - accuracy: 0.9881 - val_loss: 0.2514 - val_accuracy: 0.9420\n",
      "Epoch 200/200\n",
      "177/177 [==============================] - 3s 17ms/step - loss: 0.0450 - accuracy: 0.9851 - val_loss: 0.1547 - val_accuracy: 0.9580\n"
     ]
    }
   ],
   "source": [
    "model.compile(optimizer='adam', loss='binary_crossentropy', metrics=['accuracy']) # Compile the model using the adam optimizer\n",
    "history = model.fit(train, epochs=200, batch_size=32, validation_data=val)"
   ]
  },
  {
   "cell_type": "code",
   "execution_count": 34,
   "metadata": {},
   "outputs": [
    {
     "name": "stdout",
     "output_type": "stream",
     "text": [
      "59/59 [==============================] - 0s 5ms/step - loss: 0.1556 - accuracy: 0.9643\n"
     ]
    },
    {
     "data": {
      "text/plain": [
       "[0.1556152105331421, 0.9643427133560181]"
      ]
     },
     "execution_count": 34,
     "metadata": {},
     "output_type": "execute_result"
    }
   ],
   "source": [
    "# Evaluate the model on the test data\n",
    "model.evaluate(test)"
   ]
  },
  {
   "cell_type": "markdown",
   "metadata": {},
   "source": [
    "96% accuracy, not bad! Let's look at our loss across the epochs"
   ]
  },
  {
   "cell_type": "code",
   "execution_count": 40,
   "metadata": {},
   "outputs": [
    {
     "data": {
      "text/plain": [
       "<matplotlib.axes._subplots.AxesSubplot at 0x7f9fa4db3cd0>"
      ]
     },
     "execution_count": 40,
     "metadata": {},
     "output_type": "execute_result"
    },
    {
     "data": {
      "image/png": "[encoded data removed]",
      "text/plain": [
       "<Figure size 432x288 with 1 Axes>"
      ]
     },
     "metadata": {
      "needs_background": "light"
     },
     "output_type": "display_data"
    }
   ],
   "source": [
    "losses = pd.Series(history.history['loss'])\n",
    "losses.plot.line()"
   ]
  },
  {
   "cell_type": "markdown",
   "metadata": {},
   "source": [
    "Looks like at the end it was bouncing around a lot. To improve the performance we may need to dynamically change the learning rate of the optimizer as we train."
   ]
  },
  {
   "cell_type": "code",
   "execution_count": 41,
   "metadata": {},
   "outputs": [],
   "source": [
    "# Let's pull out the labels from the test set so that we can generate a confusion matrix\n",
    "labels = []\n",
    "for items in test:\n",
    "    for item in items[1]:\n",
    "        labels.append(item.numpy())"
   ]
  },
  {
   "cell_type": "code",
   "execution_count": 42,
   "metadata": {},
   "outputs": [
    {
     "data": {
      "text/plain": [
       "array([[877,  65],\n",
       "       [  2, 935]], dtype=int32)"
      ]
     },
     "execution_count": 42,
     "metadata": {},
     "output_type": "execute_result"
    }
   ],
   "source": [
    "tf.math.confusion_matrix(labels, model.predict_classes(test),).numpy()"
   ]
  },
  {
   "cell_type": "markdown",
   "metadata": {},
   "source": [
    "This is also a good model, but the accuracy of the random forest classifer was 98 percent which is a little bit better. However, the deep-learning model does better with reducing the false negatives (2), which may be of more importance when predicting stroke compared to doing better at false positives (65)."
   ]
  },
  {
   "cell_type": "markdown",
   "metadata": {},
   "source": [
    "# Conclusion"
   ]
  },
  {
   "cell_type": "markdown",
   "metadata": {},
   "source": [
    "The initial random forest classifier was the best classifier we built. The deep learning did very well as well, but it was not the best in terms of raw performance. However, if false negatives are a clinical concern then it may be advantageous to select the deep-learning model. The deep-learning model is only a simple model and can be improved further by adding more layers and tuning somee hyper-paramters."
   ]
  }
 ],
 "metadata": {
  "kernelspec": {
   "display_name": "Python 3",
   "language": "python",
   "name": "python3"
  },
  "language_info": {
   "codemirror_mode": {
    "name": "ipython",
    "version": 3
   },
   "file_extension": ".py",
   "mimetype": "text/x-python",
   "name": "python",
   "nbconvert_exporter": "python",
   "pygments_lexer": "ipython3",
   "version": "3.7.7"
  }
 },
 "nbformat": 4,
 "nbformat_minor": 4
}
