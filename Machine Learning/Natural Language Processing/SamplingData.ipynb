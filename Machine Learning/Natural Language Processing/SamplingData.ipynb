{
 "cells": [
  {
   "cell_type": "markdown",
   "id": "5b73de98-5060-4b53-9a41-97d709d7f236",
   "metadata": {},
   "source": [
    "# Imports"
   ]
  },
  {
   "cell_type": "code",
   "execution_count": 1,
   "id": "e8c754f8-fe1e-4a41-9c9d-7436ff82c787",
   "metadata": {},
   "outputs": [],
   "source": [
    "import pandas as pd"
   ]
  },
  {
   "cell_type": "markdown",
   "id": "7a09a152-0d30-4b40-92e4-3b8fe8f64877",
   "metadata": {},
   "source": [
    "# Read Data"
   ]
  },
  {
   "cell_type": "code",
   "execution_count": 2,
   "id": "bd6aba47-6ff6-4630-a6fc-4e4fb8529bfb",
   "metadata": {},
   "outputs": [],
   "source": [
    "query1DF = pd.read_csv(\"Data/minedText.csv\")\n",
    "query2DF = pd.read_csv(\"Data/minedText_query2.csv\")\n",
    "query1_2DF = pd.read_csv(\"Data/minedText_query1.2.csv\")"
   ]
  },
  {
   "cell_type": "code",
   "execution_count": 4,
   "id": "3fcd7d7a-d7b3-4496-a375-6166db0b850c",
   "metadata": {},
   "outputs": [
    {
     "data": {
      "text/html": [
       "<div>\n",
       "<style scoped>\n",
       "    .dataframe tbody tr th:only-of-type {\n",
       "        vertical-align: middle;\n",
       "    }\n",
       "\n",
       "    .dataframe tbody tr th {\n",
       "        vertical-align: top;\n",
       "    }\n",
       "\n",
       "    .dataframe thead th {\n",
       "        text-align: right;\n",
       "    }\n",
       "</style>\n",
       "<table border=\"1\" class=\"dataframe\">\n",
       "  <thead>\n",
       "    <tr style=\"text-align: right;\">\n",
       "      <th></th>\n",
       "      <th>pmid</th>\n",
       "      <th>title_abstract</th>\n",
       "    </tr>\n",
       "  </thead>\n",
       "  <tbody>\n",
       "    <tr>\n",
       "      <th>0</th>\n",
       "      <td>33777285</td>\n",
       "      <td>A framework for stability-based module detecti...</td>\n",
       "    </tr>\n",
       "    <tr>\n",
       "      <th>1</th>\n",
       "      <td>33607938</td>\n",
       "      <td>CANTARE: finding and visualizing network-based...</td>\n",
       "    </tr>\n",
       "    <tr>\n",
       "      <th>2</th>\n",
       "      <td>33467846</td>\n",
       "      <td>A Practical Guide to Metabolomics Software Dev...</td>\n",
       "    </tr>\n",
       "    <tr>\n",
       "      <th>3</th>\n",
       "      <td>33467662</td>\n",
       "      <td>Phytochemical Profiling and Quality Control of...</td>\n",
       "    </tr>\n",
       "    <tr>\n",
       "      <th>4</th>\n",
       "      <td>33465307</td>\n",
       "      <td>DaDIA: Hybridizing Data-Dependent and Data-Ind...</td>\n",
       "    </tr>\n",
       "  </tbody>\n",
       "</table>\n",
       "</div>"
      ],
      "text/plain": [
       "       pmid                                     title_abstract\n",
       "0  33777285  A framework for stability-based module detecti...\n",
       "1  33607938  CANTARE: finding and visualizing network-based...\n",
       "2  33467846  A Practical Guide to Metabolomics Software Dev...\n",
       "3  33467662  Phytochemical Profiling and Quality Control of...\n",
       "4  33465307  DaDIA: Hybridizing Data-Dependent and Data-Ind..."
      ]
     },
     "execution_count": 4,
     "metadata": {},
     "output_type": "execute_result"
    }
   ],
   "source": [
    "query1DF.head()"
   ]
  },
  {
   "cell_type": "code",
   "execution_count": 3,
   "id": "a48e1760-fa81-4ec2-9ad6-a6552ed918c1",
   "metadata": {},
   "outputs": [
    {
     "data": {
      "text/html": [
       "<div>\n",
       "<style scoped>\n",
       "    .dataframe tbody tr th:only-of-type {\n",
       "        vertical-align: middle;\n",
       "    }\n",
       "\n",
       "    .dataframe tbody tr th {\n",
       "        vertical-align: top;\n",
       "    }\n",
       "\n",
       "    .dataframe thead th {\n",
       "        text-align: right;\n",
       "    }\n",
       "</style>\n",
       "<table border=\"1\" class=\"dataframe\">\n",
       "  <thead>\n",
       "    <tr style=\"text-align: right;\">\n",
       "      <th></th>\n",
       "      <th>pmid</th>\n",
       "      <th>title_abstract</th>\n",
       "    </tr>\n",
       "  </thead>\n",
       "  <tbody>\n",
       "    <tr>\n",
       "      <th>0</th>\n",
       "      <td>34024419</td>\n",
       "      <td>Novel acquisition strategies for metabolomics ...</td>\n",
       "    </tr>\n",
       "    <tr>\n",
       "      <th>1</th>\n",
       "      <td>33777285</td>\n",
       "      <td>A framework for stability-based module detecti...</td>\n",
       "    </tr>\n",
       "    <tr>\n",
       "      <th>2</th>\n",
       "      <td>33611117</td>\n",
       "      <td>Identification of the metabolites regulated in...</td>\n",
       "    </tr>\n",
       "    <tr>\n",
       "      <th>3</th>\n",
       "      <td>33607938</td>\n",
       "      <td>CANTARE: finding and visualizing network-based...</td>\n",
       "    </tr>\n",
       "    <tr>\n",
       "      <th>4</th>\n",
       "      <td>33483720</td>\n",
       "      <td>Cognitive analysis of metabolomics data for sy...</td>\n",
       "    </tr>\n",
       "  </tbody>\n",
       "</table>\n",
       "</div>"
      ],
      "text/plain": [
       "       pmid                                     title_abstract\n",
       "0  34024419  Novel acquisition strategies for metabolomics ...\n",
       "1  33777285  A framework for stability-based module detecti...\n",
       "2  33611117  Identification of the metabolites regulated in...\n",
       "3  33607938  CANTARE: finding and visualizing network-based...\n",
       "4  33483720  Cognitive analysis of metabolomics data for sy..."
      ]
     },
     "execution_count": 3,
     "metadata": {},
     "output_type": "execute_result"
    }
   ],
   "source": [
    "query1_2DF.head()"
   ]
  },
  {
   "cell_type": "code",
   "execution_count": 5,
   "id": "5411d3b6-8998-497d-9372-b250e07a6609",
   "metadata": {},
   "outputs": [
    {
     "data": {
      "text/html": [
       "<div>\n",
       "<style scoped>\n",
       "    .dataframe tbody tr th:only-of-type {\n",
       "        vertical-align: middle;\n",
       "    }\n",
       "\n",
       "    .dataframe tbody tr th {\n",
       "        vertical-align: top;\n",
       "    }\n",
       "\n",
       "    .dataframe thead th {\n",
       "        text-align: right;\n",
       "    }\n",
       "</style>\n",
       "<table border=\"1\" class=\"dataframe\">\n",
       "  <thead>\n",
       "    <tr style=\"text-align: right;\">\n",
       "      <th></th>\n",
       "      <th>pmid</th>\n",
       "      <th>title_abstract</th>\n",
       "    </tr>\n",
       "  </thead>\n",
       "  <tbody>\n",
       "    <tr>\n",
       "      <th>0</th>\n",
       "      <td>34066448</td>\n",
       "      <td>IDARE2-Simultaneous Visualisation of Multiomic...</td>\n",
       "    </tr>\n",
       "    <tr>\n",
       "      <th>1</th>\n",
       "      <td>34066041</td>\n",
       "      <td>Correcting for Naturally Occurring Mass Isotop...</td>\n",
       "    </tr>\n",
       "    <tr>\n",
       "      <th>2</th>\n",
       "      <td>34045614</td>\n",
       "      <td>Kernel weighted least square approach for impu...</td>\n",
       "    </tr>\n",
       "    <tr>\n",
       "      <th>3</th>\n",
       "      <td>34038112</td>\n",
       "      <td>CyProduct: A Software Tool for Accurately Pred...</td>\n",
       "    </tr>\n",
       "    <tr>\n",
       "      <th>4</th>\n",
       "      <td>34026735</td>\n",
       "      <td>Large-Scale Analysis of Apolipoprotein CIII Gl...</td>\n",
       "    </tr>\n",
       "  </tbody>\n",
       "</table>\n",
       "</div>"
      ],
      "text/plain": [
       "       pmid                                     title_abstract\n",
       "0  34066448  IDARE2-Simultaneous Visualisation of Multiomic...\n",
       "1  34066041  Correcting for Naturally Occurring Mass Isotop...\n",
       "2  34045614  Kernel weighted least square approach for impu...\n",
       "3  34038112  CyProduct: A Software Tool for Accurately Pred...\n",
       "4  34026735  Large-Scale Analysis of Apolipoprotein CIII Gl..."
      ]
     },
     "execution_count": 5,
     "metadata": {},
     "output_type": "execute_result"
    }
   ],
   "source": [
    "query2DF.head()"
   ]
  },
  {
   "cell_type": "markdown",
   "id": "f4ada844-98e0-412e-a2b2-4bf3ff0dcc8d",
   "metadata": {},
   "source": [
    "# Get queries in query 2 not in query 1"
   ]
  },
  {
   "cell_type": "code",
   "execution_count": 6,
   "id": "860a29b2-3843-4bd2-ae2c-b1bcb2845a82",
   "metadata": {},
   "outputs": [
    {
     "data": {
      "text/plain": [
       "(985, 2)"
      ]
     },
     "execution_count": 6,
     "metadata": {},
     "output_type": "execute_result"
    }
   ],
   "source": [
    "query1_2DF.shape"
   ]
  },
  {
   "cell_type": "code",
   "execution_count": 7,
   "id": "a2ab0f3a-8aef-475e-aae3-646d09790e46",
   "metadata": {},
   "outputs": [
    {
     "data": {
      "text/html": [
       "<div>\n",
       "<style scoped>\n",
       "    .dataframe tbody tr th:only-of-type {\n",
       "        vertical-align: middle;\n",
       "    }\n",
       "\n",
       "    .dataframe tbody tr th {\n",
       "        vertical-align: top;\n",
       "    }\n",
       "\n",
       "    .dataframe thead th {\n",
       "        text-align: right;\n",
       "    }\n",
       "</style>\n",
       "<table border=\"1\" class=\"dataframe\">\n",
       "  <thead>\n",
       "    <tr style=\"text-align: right;\">\n",
       "      <th></th>\n",
       "      <th>pmid</th>\n",
       "      <th>title_abstract</th>\n",
       "    </tr>\n",
       "  </thead>\n",
       "  <tbody>\n",
       "    <tr>\n",
       "      <th>0</th>\n",
       "      <td>34024419</td>\n",
       "      <td>Novel acquisition strategies for metabolomics ...</td>\n",
       "    </tr>\n",
       "    <tr>\n",
       "      <th>2</th>\n",
       "      <td>33611117</td>\n",
       "      <td>Identification of the metabolites regulated in...</td>\n",
       "    </tr>\n",
       "    <tr>\n",
       "      <th>4</th>\n",
       "      <td>33483720</td>\n",
       "      <td>Cognitive analysis of metabolomics data for sy...</td>\n",
       "    </tr>\n",
       "    <tr>\n",
       "      <th>9</th>\n",
       "      <td>33400699</td>\n",
       "      <td>Chemical graph generators. Chemical graph gene...</td>\n",
       "    </tr>\n",
       "    <tr>\n",
       "      <th>14</th>\n",
       "      <td>33190713</td>\n",
       "      <td>A graph density-based strategy for features fu...</td>\n",
       "    </tr>\n",
       "    <tr>\n",
       "      <th>34</th>\n",
       "      <td>32701078</td>\n",
       "      <td>An approach for feature selection with data mo...</td>\n",
       "    </tr>\n",
       "    <tr>\n",
       "      <th>49</th>\n",
       "      <td>32397650</td>\n",
       "      <td>Center-of-Mass &lt;i&gt;iso-&lt;/i&gt;Energetic Collision-...</td>\n",
       "    </tr>\n",
       "    <tr>\n",
       "      <th>53</th>\n",
       "      <td>32362135</td>\n",
       "      <td>Rapid qualitative profiling of metabolites pre...</td>\n",
       "    </tr>\n",
       "    <tr>\n",
       "      <th>95</th>\n",
       "      <td>31943015</td>\n",
       "      <td>EpiMetal: an open-source graphical web browser...</td>\n",
       "    </tr>\n",
       "    <tr>\n",
       "      <th>107</th>\n",
       "      <td>31843688</td>\n",
       "      <td>UniprotR: Retrieving and visualizing protein s...</td>\n",
       "    </tr>\n",
       "    <tr>\n",
       "      <th>128</th>\n",
       "      <td>31657527</td>\n",
       "      <td>Scalable Data Analysis in Proteomics and Metab...</td>\n",
       "    </tr>\n",
       "    <tr>\n",
       "      <th>234</th>\n",
       "      <td>30472248</td>\n",
       "      <td>Ancestral transcriptome inference based on RNA...</td>\n",
       "    </tr>\n",
       "    <tr>\n",
       "      <th>792</th>\n",
       "      <td>21513160</td>\n",
       "      <td>[The human variome project and its progress]. ...</td>\n",
       "    </tr>\n",
       "    <tr>\n",
       "      <th>831</th>\n",
       "      <td>20485748</td>\n",
       "      <td>Untargeted metabolic profiling reveals potenti...</td>\n",
       "    </tr>\n",
       "    <tr>\n",
       "      <th>847</th>\n",
       "      <td>20004603</td>\n",
       "      <td>icoshift: A versatile tool for the rapid align...</td>\n",
       "    </tr>\n",
       "    <tr>\n",
       "      <th>869</th>\n",
       "      <td>19633095</td>\n",
       "      <td>A System for Information Management in BioMedi...</td>\n",
       "    </tr>\n",
       "    <tr>\n",
       "      <th>873</th>\n",
       "      <td>19597796</td>\n",
       "      <td>ArrayTrack: an FDA and public genomic tool. A ...</td>\n",
       "    </tr>\n",
       "    <tr>\n",
       "      <th>907</th>\n",
       "      <td>18547062</td>\n",
       "      <td>Mass spectral metabonomics beyond elemental fo...</td>\n",
       "    </tr>\n",
       "    <tr>\n",
       "      <th>945</th>\n",
       "      <td>17035690</td>\n",
       "      <td>Nuclear magnetic resonance metabonomics: metho...</td>\n",
       "    </tr>\n",
       "    <tr>\n",
       "      <th>956</th>\n",
       "      <td>16635100</td>\n",
       "      <td>Proteomics: recent applications and new techno...</td>\n",
       "    </tr>\n",
       "    <tr>\n",
       "      <th>965</th>\n",
       "      <td>15990265</td>\n",
       "      <td>A study of spectral integration and normalizat...</td>\n",
       "    </tr>\n",
       "    <tr>\n",
       "      <th>971</th>\n",
       "      <td>15264428</td>\n",
       "      <td>Metabonomics: systems biology in pharmaceutica...</td>\n",
       "    </tr>\n",
       "    <tr>\n",
       "      <th>972</th>\n",
       "      <td>15204308</td>\n",
       "      <td>Metabonomics technologies and their applicatio...</td>\n",
       "    </tr>\n",
       "  </tbody>\n",
       "</table>\n",
       "</div>"
      ],
      "text/plain": [
       "         pmid                                     title_abstract\n",
       "0    34024419  Novel acquisition strategies for metabolomics ...\n",
       "2    33611117  Identification of the metabolites regulated in...\n",
       "4    33483720  Cognitive analysis of metabolomics data for sy...\n",
       "9    33400699  Chemical graph generators. Chemical graph gene...\n",
       "14   33190713  A graph density-based strategy for features fu...\n",
       "34   32701078  An approach for feature selection with data mo...\n",
       "49   32397650  Center-of-Mass <i>iso-</i>Energetic Collision-...\n",
       "53   32362135  Rapid qualitative profiling of metabolites pre...\n",
       "95   31943015  EpiMetal: an open-source graphical web browser...\n",
       "107  31843688  UniprotR: Retrieving and visualizing protein s...\n",
       "128  31657527  Scalable Data Analysis in Proteomics and Metab...\n",
       "234  30472248  Ancestral transcriptome inference based on RNA...\n",
       "792  21513160  [The human variome project and its progress]. ...\n",
       "831  20485748  Untargeted metabolic profiling reveals potenti...\n",
       "847  20004603  icoshift: A versatile tool for the rapid align...\n",
       "869  19633095  A System for Information Management in BioMedi...\n",
       "873  19597796  ArrayTrack: an FDA and public genomic tool. A ...\n",
       "907  18547062  Mass spectral metabonomics beyond elemental fo...\n",
       "945  17035690  Nuclear magnetic resonance metabonomics: metho...\n",
       "956  16635100  Proteomics: recent applications and new techno...\n",
       "965  15990265  A study of spectral integration and normalizat...\n",
       "971  15264428  Metabonomics: systems biology in pharmaceutica...\n",
       "972  15204308  Metabonomics technologies and their applicatio..."
      ]
     },
     "execution_count": 7,
     "metadata": {},
     "output_type": "execute_result"
    }
   ],
   "source": [
    "query1_2DF[~query1_2DF.pmid.isin(query1DF.pmid)]"
   ]
  },
  {
   "cell_type": "code",
   "execution_count": 6,
   "id": "2d53c4c3-6114-42ed-b6ca-57c8acc0bc71",
   "metadata": {},
   "outputs": [],
   "source": [
    "query2_notin_query1 = query2DF[~query2DF.pmid.isin(query1DF.pmid)]"
   ]
  },
  {
   "cell_type": "code",
   "execution_count": 8,
   "id": "f6c155a0-fbe7-44ba-b8a1-fa9ff7ecd1bb",
   "metadata": {},
   "outputs": [
    {
     "data": {
      "text/html": [
       "<div>\n",
       "<style scoped>\n",
       "    .dataframe tbody tr th:only-of-type {\n",
       "        vertical-align: middle;\n",
       "    }\n",
       "\n",
       "    .dataframe tbody tr th {\n",
       "        vertical-align: top;\n",
       "    }\n",
       "\n",
       "    .dataframe thead th {\n",
       "        text-align: right;\n",
       "    }\n",
       "</style>\n",
       "<table border=\"1\" class=\"dataframe\">\n",
       "  <thead>\n",
       "    <tr style=\"text-align: right;\">\n",
       "      <th></th>\n",
       "      <th>pmid</th>\n",
       "      <th>title_abstract</th>\n",
       "    </tr>\n",
       "  </thead>\n",
       "  <tbody>\n",
       "    <tr>\n",
       "      <th>0</th>\n",
       "      <td>34066448</td>\n",
       "      <td>IDARE2-Simultaneous Visualisation of Multiomic...</td>\n",
       "    </tr>\n",
       "    <tr>\n",
       "      <th>1</th>\n",
       "      <td>34066041</td>\n",
       "      <td>Correcting for Naturally Occurring Mass Isotop...</td>\n",
       "    </tr>\n",
       "    <tr>\n",
       "      <th>2</th>\n",
       "      <td>34045614</td>\n",
       "      <td>Kernel weighted least square approach for impu...</td>\n",
       "    </tr>\n",
       "    <tr>\n",
       "      <th>3</th>\n",
       "      <td>34038112</td>\n",
       "      <td>CyProduct: A Software Tool for Accurately Pred...</td>\n",
       "    </tr>\n",
       "    <tr>\n",
       "      <th>4</th>\n",
       "      <td>34026735</td>\n",
       "      <td>Large-Scale Analysis of Apolipoprotein CIII Gl...</td>\n",
       "    </tr>\n",
       "  </tbody>\n",
       "</table>\n",
       "</div>"
      ],
      "text/plain": [
       "       pmid                                     title_abstract\n",
       "0  34066448  IDARE2-Simultaneous Visualisation of Multiomic...\n",
       "1  34066041  Correcting for Naturally Occurring Mass Isotop...\n",
       "2  34045614  Kernel weighted least square approach for impu...\n",
       "3  34038112  CyProduct: A Software Tool for Accurately Pred...\n",
       "4  34026735  Large-Scale Analysis of Apolipoprotein CIII Gl..."
      ]
     },
     "execution_count": 8,
     "metadata": {},
     "output_type": "execute_result"
    }
   ],
   "source": [
    "query2_notin_query1.head()"
   ]
  },
  {
   "cell_type": "markdown",
   "id": "80c067cf-c3f0-4bf5-bd2f-746edf59bcd0",
   "metadata": {},
   "source": [
    "# Sample 300 random abstracts from filtered queries"
   ]
  },
  {
   "cell_type": "code",
   "execution_count": 5,
   "id": "773e230b-d7e6-4ac7-9c30-537de2cfef04",
   "metadata": {},
   "outputs": [],
   "source": [
    "sample1_2 = query1_2DF.sample(n=600, random_state=555)"
   ]
  },
  {
   "cell_type": "code",
   "execution_count": 6,
   "id": "26bc64a7-de2b-4509-818c-fa1ef7ca66fd",
   "metadata": {},
   "outputs": [
    {
     "data": {
      "text/html": [
       "<div>\n",
       "<style scoped>\n",
       "    .dataframe tbody tr th:only-of-type {\n",
       "        vertical-align: middle;\n",
       "    }\n",
       "\n",
       "    .dataframe tbody tr th {\n",
       "        vertical-align: top;\n",
       "    }\n",
       "\n",
       "    .dataframe thead th {\n",
       "        text-align: right;\n",
       "    }\n",
       "</style>\n",
       "<table border=\"1\" class=\"dataframe\">\n",
       "  <thead>\n",
       "    <tr style=\"text-align: right;\">\n",
       "      <th></th>\n",
       "      <th>pmid</th>\n",
       "      <th>title_abstract</th>\n",
       "    </tr>\n",
       "  </thead>\n",
       "  <tbody>\n",
       "    <tr>\n",
       "      <th>293</th>\n",
       "      <td>29718355</td>\n",
       "      <td>MetExplore: collaborative edition and explorat...</td>\n",
       "    </tr>\n",
       "    <tr>\n",
       "      <th>791</th>\n",
       "      <td>21523460</td>\n",
       "      <td>A survey of metabolic databases emphasizing th...</td>\n",
       "    </tr>\n",
       "    <tr>\n",
       "      <th>1</th>\n",
       "      <td>33777285</td>\n",
       "      <td>A framework for stability-based module detecti...</td>\n",
       "    </tr>\n",
       "    <tr>\n",
       "      <th>645</th>\n",
       "      <td>24165880</td>\n",
       "      <td>EBI metagenomics--a new resource for the analy...</td>\n",
       "    </tr>\n",
       "    <tr>\n",
       "      <th>181</th>\n",
       "      <td>31035005</td>\n",
       "      <td>Computational solutions in redox lipidomics - ...</td>\n",
       "    </tr>\n",
       "  </tbody>\n",
       "</table>\n",
       "</div>"
      ],
      "text/plain": [
       "         pmid                                     title_abstract\n",
       "293  29718355  MetExplore: collaborative edition and explorat...\n",
       "791  21523460  A survey of metabolic databases emphasizing th...\n",
       "1    33777285  A framework for stability-based module detecti...\n",
       "645  24165880  EBI metagenomics--a new resource for the analy...\n",
       "181  31035005  Computational solutions in redox lipidomics - ..."
      ]
     },
     "execution_count": 6,
     "metadata": {},
     "output_type": "execute_result"
    }
   ],
   "source": [
    "sample1_2.head()"
   ]
  },
  {
   "cell_type": "code",
   "execution_count": 9,
   "id": "0c8bb735-237e-4ec2-b7f6-fb98f2037e08",
   "metadata": {},
   "outputs": [
    {
     "data": {
      "text/html": [
       "<div>\n",
       "<style scoped>\n",
       "    .dataframe tbody tr th:only-of-type {\n",
       "        vertical-align: middle;\n",
       "    }\n",
       "\n",
       "    .dataframe tbody tr th {\n",
       "        vertical-align: top;\n",
       "    }\n",
       "\n",
       "    .dataframe thead th {\n",
       "        text-align: right;\n",
       "    }\n",
       "</style>\n",
       "<table border=\"1\" class=\"dataframe\">\n",
       "  <thead>\n",
       "    <tr style=\"text-align: right;\">\n",
       "      <th></th>\n",
       "      <th>pmid</th>\n",
       "      <th>title_abstract</th>\n",
       "    </tr>\n",
       "  </thead>\n",
       "  <tbody>\n",
       "    <tr>\n",
       "      <th>515</th>\n",
       "      <td>30279420</td>\n",
       "      <td>Dereplication of microbial metabolites through...</td>\n",
       "    </tr>\n",
       "    <tr>\n",
       "      <th>176</th>\n",
       "      <td>32442279</td>\n",
       "      <td>Fluxer: a web application to compute, analyze ...</td>\n",
       "    </tr>\n",
       "    <tr>\n",
       "      <th>1491</th>\n",
       "      <td>20307295</td>\n",
       "      <td>In silico fragmentation for computer assisted ...</td>\n",
       "    </tr>\n",
       "    <tr>\n",
       "      <th>531</th>\n",
       "      <td>30158930</td>\n",
       "      <td>Silent Witness: Dual-Species Transcriptomics R...</td>\n",
       "    </tr>\n",
       "    <tr>\n",
       "      <th>41</th>\n",
       "      <td>33683127</td>\n",
       "      <td>Updates on metaQuantome Software for Quantitat...</td>\n",
       "    </tr>\n",
       "  </tbody>\n",
       "</table>\n",
       "</div>"
      ],
      "text/plain": [
       "          pmid                                     title_abstract\n",
       "515   30279420  Dereplication of microbial metabolites through...\n",
       "176   32442279  Fluxer: a web application to compute, analyze ...\n",
       "1491  20307295  In silico fragmentation for computer assisted ...\n",
       "531   30158930  Silent Witness: Dual-Species Transcriptomics R...\n",
       "41    33683127  Updates on metaQuantome Software for Quantitat..."
      ]
     },
     "execution_count": 9,
     "metadata": {},
     "output_type": "execute_result"
    }
   ],
   "source": [
    "sample = query2_notin_query1.sample(n=300)\n",
    "sample.head()"
   ]
  },
  {
   "cell_type": "code",
   "execution_count": 10,
   "id": "1aa125e4-4580-4859-9394-f172cfc7eea9",
   "metadata": {},
   "outputs": [
    {
     "data": {
      "text/plain": [
       "(300, 2)"
      ]
     },
     "execution_count": 10,
     "metadata": {},
     "output_type": "execute_result"
    }
   ],
   "source": [
    "sample.shape"
   ]
  },
  {
   "cell_type": "code",
   "execution_count": 11,
   "id": "8f648ef4-def9-4626-be84-1b3381ead9de",
   "metadata": {},
   "outputs": [],
   "source": [
    "sample = sample.title_abstract"
   ]
  },
  {
   "cell_type": "code",
   "execution_count": 7,
   "id": "1f9ac313-de81-45ce-a3a7-1c3ccadd0099",
   "metadata": {},
   "outputs": [],
   "source": [
    "sample1_2.to_csv(\"Data/query1_2-manualCurate.csv\", index=False)"
   ]
  },
  {
   "cell_type": "code",
   "execution_count": 13,
   "id": "fe7ea009-4f20-4b5b-abc5-f6ed0f467d30",
   "metadata": {},
   "outputs": [],
   "source": [
    "sample.to_csv(\"Data/query2_manualCurate.csv\", index=False)"
   ]
  }
 ],
 "metadata": {
  "kernelspec": {
   "display_name": "Python 3",
   "language": "python",
   "name": "python3"
  },
  "language_info": {
   "codemirror_mode": {
    "name": "ipython",
    "version": 3
   },
   "file_extension": ".py",
   "mimetype": "text/x-python",
   "name": "python",
   "nbconvert_exporter": "python",
   "pygments_lexer": "ipython3",
   "version": "3.7.10"
  }
 },
 "nbformat": 4,
 "nbformat_minor": 5
}
