{
 "cells": [
  {
   "cell_type": "markdown",
   "metadata": {},
   "source": [
    "# Imports"
   ]
  },
  {
   "cell_type": "code",
   "execution_count": 1,
   "metadata": {},
   "outputs": [],
   "source": [
    "import pandas as pd\n",
    "import numpy as np\n",
    "import nltk\n",
    "from nltk.tokenize import word_tokenize\n",
    "from nltk.tag import pos_tag\n",
    "from nltk.corpus import stopwords\n",
    "from sklearn.model_selection import train_test_split"
   ]
  },
  {
   "cell_type": "markdown",
   "metadata": {},
   "source": [
    "# Load Mined Data"
   ]
  },
  {
   "cell_type": "code",
   "execution_count": 2,
   "metadata": {},
   "outputs": [],
   "source": [
    "#text = pd.read_csv(\"Data/minedText.csv\")[\"title_abstract\"]\n",
    "text = pd.read_csv(\"Data/manualCurate.csv\")[\"title_abstract\"]\n",
    "# text = text[0:300]\n",
    "text = pd.read_csv(\"Data/query1_2-manualCurate.csv\")[\"title_abstract\"]\n",
    "#text = pd.concat([text[0:300],text2]).reset_index(drop=True)"
   ]
  },
  {
   "cell_type": "markdown",
   "metadata": {},
   "source": [
    "# Split Data into Train and Test Sets"
   ]
  },
  {
   "cell_type": "code",
   "execution_count": 3,
   "metadata": {},
   "outputs": [],
   "source": [
    "train, test = train_test_split(text, test_size = 0.2, random_state=555) # 20% testing 80% training"
   ]
  },
  {
   "cell_type": "code",
   "execution_count": 4,
   "metadata": {},
   "outputs": [
    {
     "data": {
      "text/plain": [
       "421    MetaComp: comprehensive analysis software for ...\n",
       "394    Ion mobility collision cross-section atlas for...\n",
       "112    Direct Infusion Based Metabolomics Identifies ...\n",
       "86     Exploring human metabolites using the human me...\n",
       "334    A novel approach to transforming a non-targete...\n",
       "Name: title_abstract, dtype: object"
      ]
     },
     "execution_count": 4,
     "metadata": {},
     "output_type": "execute_result"
    }
   ],
   "source": [
    "train.head()"
   ]
  },
  {
   "cell_type": "markdown",
   "metadata": {},
   "source": [
    "# Process Data"
   ]
  },
  {
   "cell_type": "code",
   "execution_count": 5,
   "metadata": {},
   "outputs": [],
   "source": [
    "# Define a function to process the data\n",
    "def processText(text):\n",
    "    # Get abstracts into one continuous string\n",
    "    text = text.str.cat()\n",
    "    # Tokenize the string object by word\n",
    "    text = word_tokenize(text)\n",
    "    # Remove stop words\n",
    "    stop = set(stopwords.words('english'))\n",
    "    text = [w for w in text if not w in stop]\n",
    "    # Tag each word by the appropriate part of speech (POS) tag\n",
    "    text = pos_tag(text)\n",
    "    # Reshape the data into a dataframe\n",
    "    text = pd.DataFrame(text, columns=['word','POS'])\n",
    "    return(text)"
   ]
  },
  {
   "cell_type": "code",
   "execution_count": 6,
   "metadata": {},
   "outputs": [
    {
     "data": {
      "text/html": [
       "<div>\n",
       "<style scoped>\n",
       "    .dataframe tbody tr th:only-of-type {\n",
       "        vertical-align: middle;\n",
       "    }\n",
       "\n",
       "    .dataframe tbody tr th {\n",
       "        vertical-align: top;\n",
       "    }\n",
       "\n",
       "    .dataframe thead th {\n",
       "        text-align: right;\n",
       "    }\n",
       "</style>\n",
       "<table border=\"1\" class=\"dataframe\">\n",
       "  <thead>\n",
       "    <tr style=\"text-align: right;\">\n",
       "      <th></th>\n",
       "      <th>word</th>\n",
       "      <th>POS</th>\n",
       "    </tr>\n",
       "  </thead>\n",
       "  <tbody>\n",
       "    <tr>\n",
       "      <th>0</th>\n",
       "      <td>MetaComp</td>\n",
       "      <td>NN</td>\n",
       "    </tr>\n",
       "    <tr>\n",
       "      <th>1</th>\n",
       "      <td>:</td>\n",
       "      <td>:</td>\n",
       "    </tr>\n",
       "    <tr>\n",
       "      <th>2</th>\n",
       "      <td>comprehensive</td>\n",
       "      <td>JJ</td>\n",
       "    </tr>\n",
       "    <tr>\n",
       "      <th>3</th>\n",
       "      <td>analysis</td>\n",
       "      <td>NN</td>\n",
       "    </tr>\n",
       "    <tr>\n",
       "      <th>4</th>\n",
       "      <td>software</td>\n",
       "      <td>NN</td>\n",
       "    </tr>\n",
       "  </tbody>\n",
       "</table>\n",
       "</div>"
      ],
      "text/plain": [
       "            word POS\n",
       "0       MetaComp  NN\n",
       "1              :   :\n",
       "2  comprehensive  JJ\n",
       "3       analysis  NN\n",
       "4       software  NN"
      ]
     },
     "execution_count": 6,
     "metadata": {},
     "output_type": "execute_result"
    }
   ],
   "source": [
    "# Process training data\n",
    "train = processText(train)\n",
    "train.head()"
   ]
  },
  {
   "cell_type": "code",
   "execution_count": 7,
   "metadata": {},
   "outputs": [],
   "source": [
    "# Process testing data\n",
    "test = processText(test)"
   ]
  },
  {
   "cell_type": "code",
   "execution_count": 8,
   "metadata": {},
   "outputs": [
    {
     "name": "stdout",
     "output_type": "stream",
     "text": [
      "$: dollar\n",
      "    $ -$ --$ A$ C$ HK$ M$ NZ$ S$ U.S.$ US$\n",
      "'': closing quotation mark\n",
      "    ' ''\n",
      "(: opening parenthesis\n",
      "    ( [ {\n",
      "): closing parenthesis\n",
      "    ) ] }\n",
      ",: comma\n",
      "    ,\n",
      "--: dash\n",
      "    --\n",
      ".: sentence terminator\n",
      "    . ! ?\n",
      ":: colon or ellipsis\n",
      "    : ; ...\n",
      "CC: conjunction, coordinating\n",
      "    & 'n and both but either et for less minus neither nor or plus so\n",
      "    therefore times v. versus vs. whether yet\n",
      "CD: numeral, cardinal\n",
      "    mid-1890 nine-thirty forty-two one-tenth ten million 0.5 one forty-\n",
      "    seven 1987 twenty '79 zero two 78-degrees eighty-four IX '60s .025\n",
      "    fifteen 271,124 dozen quintillion DM2,000 ...\n",
      "DT: determiner\n",
      "    all an another any both del each either every half la many much nary\n",
      "    neither no some such that the them these this those\n",
      "EX: existential there\n",
      "    there\n",
      "FW: foreign word\n",
      "    gemeinschaft hund ich jeux habeas Haementeria Herr K'ang-si vous\n",
      "    lutihaw alai je jour objets salutaris fille quibusdam pas trop Monte\n",
      "    terram fiche oui corporis ...\n",
      "IN: preposition or conjunction, subordinating\n",
      "    astride among uppon whether out inside pro despite on by throughout\n",
      "    below within for towards near behind atop around if like until below\n",
      "    next into if beside ...\n",
      "JJ: adjective or numeral, ordinal\n",
      "    third ill-mannered pre-war regrettable oiled calamitous first separable\n",
      "    ectoplasmic battery-powered participatory fourth still-to-be-named\n",
      "    multilingual multi-disciplinary ...\n",
      "JJR: adjective, comparative\n",
      "    bleaker braver breezier briefer brighter brisker broader bumper busier\n",
      "    calmer cheaper choosier cleaner clearer closer colder commoner costlier\n",
      "    cozier creamier crunchier cuter ...\n",
      "JJS: adjective, superlative\n",
      "    calmest cheapest choicest classiest cleanest clearest closest commonest\n",
      "    corniest costliest crassest creepiest crudest cutest darkest deadliest\n",
      "    dearest deepest densest dinkiest ...\n",
      "LS: list item marker\n",
      "    A A. B B. C C. D E F First G H I J K One SP-44001 SP-44002 SP-44005\n",
      "    SP-44007 Second Third Three Two * a b c d first five four one six three\n",
      "    two\n",
      "MD: modal auxiliary\n",
      "    can cannot could couldn't dare may might must need ought shall should\n",
      "    shouldn't will would\n",
      "NN: noun, common, singular or mass\n",
      "    common-carrier cabbage knuckle-duster Casino afghan shed thermostat\n",
      "    investment slide humour falloff slick wind hyena override subhumanity\n",
      "    machinist ...\n",
      "NNP: noun, proper, singular\n",
      "    Motown Venneboerger Czestochwa Ranzer Conchita Trumplane Christos\n",
      "    Oceanside Escobar Kreisler Sawyer Cougar Yvette Ervin ODI Darryl CTCA\n",
      "    Shannon A.K.C. Meltex Liverpool ...\n",
      "NNPS: noun, proper, plural\n",
      "    Americans Americas Amharas Amityvilles Amusements Anarcho-Syndicalists\n",
      "    Andalusians Andes Andruses Angels Animals Anthony Antilles Antiques\n",
      "    Apache Apaches Apocrypha ...\n",
      "NNS: noun, common, plural\n",
      "    undergraduates scotches bric-a-brac products bodyguards facets coasts\n",
      "    divestitures storehouses designs clubs fragrances averages\n",
      "    subjectivists apprehensions muses factory-jobs ...\n",
      "PDT: pre-determiner\n",
      "    all both half many quite such sure this\n",
      "POS: genitive marker\n",
      "    ' 's\n",
      "PRP: pronoun, personal\n",
      "    hers herself him himself hisself it itself me myself one oneself ours\n",
      "    ourselves ownself self she thee theirs them themselves they thou thy us\n",
      "PRP$: pronoun, possessive\n",
      "    her his mine my our ours their thy your\n",
      "RB: adverb\n",
      "    occasionally unabatingly maddeningly adventurously professedly\n",
      "    stirringly prominently technologically magisterially predominately\n",
      "    swiftly fiscally pitilessly ...\n",
      "RBR: adverb, comparative\n",
      "    further gloomier grander graver greater grimmer harder harsher\n",
      "    healthier heavier higher however larger later leaner lengthier less-\n",
      "    perfectly lesser lonelier longer louder lower more ...\n",
      "RBS: adverb, superlative\n",
      "    best biggest bluntest earliest farthest first furthest hardest\n",
      "    heartiest highest largest least less most nearest second tightest worst\n",
      "RP: particle\n",
      "    aboard about across along apart around aside at away back before behind\n",
      "    by crop down ever fast for forth from go high i.e. in into just later\n",
      "    low more off on open out over per pie raising start teeth that through\n",
      "    under unto up up-pp upon whole with you\n",
      "SYM: symbol\n",
      "    % & ' '' ''. ) ). * + ,. < = > @ A[fj] U.S U.S.S.R * ** ***\n",
      "TO: \"to\" as preposition or infinitive marker\n",
      "    to\n",
      "UH: interjection\n",
      "    Goodbye Goody Gosh Wow Jeepers Jee-sus Hubba Hey Kee-reist Oops amen\n",
      "    huh howdy uh dammit whammo shucks heck anyways whodunnit honey golly\n",
      "    man baby diddle hush sonuvabitch ...\n",
      "VB: verb, base form\n",
      "    ask assemble assess assign assume atone attention avoid bake balkanize\n",
      "    bank begin behold believe bend benefit bevel beware bless boil bomb\n",
      "    boost brace break bring broil brush build ...\n",
      "VBD: verb, past tense\n",
      "    dipped pleaded swiped regummed soaked tidied convened halted registered\n",
      "    cushioned exacted snubbed strode aimed adopted belied figgered\n",
      "    speculated wore appreciated contemplated ...\n",
      "VBG: verb, present participle or gerund\n",
      "    telegraphing stirring focusing angering judging stalling lactating\n",
      "    hankerin' alleging veering capping approaching traveling besieging\n",
      "    encrypting interrupting erasing wincing ...\n",
      "VBN: verb, past participle\n",
      "    multihulled dilapidated aerosolized chaired languished panelized used\n",
      "    experimented flourished imitated reunifed factored condensed sheared\n",
      "    unsettled primed dubbed desired ...\n",
      "VBP: verb, present tense, not 3rd person singular\n",
      "    predominate wrap resort sue twist spill cure lengthen brush terminate\n",
      "    appear tend stray glisten obtain comprise detest tease attract\n",
      "    emphasize mold postpone sever return wag ...\n",
      "VBZ: verb, present tense, 3rd person singular\n",
      "    bases reconstructs marks mixes displeases seals carps weaves snatches\n",
      "    slumps stretches authorizes smolders pictures emerges stockpiles\n",
      "    seduces fizzes uses bolsters slaps speaks pleads ...\n",
      "WDT: WH-determiner\n",
      "    that what whatever which whichever\n",
      "WP: WH-pronoun\n",
      "    that what whatever whatsoever which who whom whosoever\n",
      "WP$: WH-pronoun, possessive\n",
      "    whose\n",
      "WRB: Wh-adverb\n",
      "    how however whence whenever where whereby whereever wherein whereof why\n",
      "``: opening quotation mark\n",
      "    ` ``\n"
     ]
    }
   ],
   "source": [
    "# What do the POS mean? Here is a key\n",
    "nltk.help.upenn_tagset()"
   ]
  },
  {
   "cell_type": "markdown",
   "metadata": {},
   "source": [
    "# Create named entity tags"
   ]
  },
  {
   "cell_type": "code",
   "execution_count": 9,
   "metadata": {},
   "outputs": [],
   "source": [
    "# We want to detect metabolomics software tools, so we will tag some tools\n",
    "tags = pd.read_csv(\"Data/CuratedTools.csv\")\n",
    "#toolsToTag = tags['0'].tolist() + [\"OSCA\", \"ROIMCR\", \"SIRIUS\", \"TarMet\", \"COBRA\", \"FELLA\", \"PhenoMeNal\", \"Lilikoi\", \"MetNet\", \"KIMBLE\", \"MRMAnalyzer\", \"C/VDdb\", \"MetGem\", \"MetaboGroup S\", \"MixProTool\", \"HappyTools\", \"MetaboAnalystR\",\"MARSI\", \"PROMIS\", \"PaintOmics\", \"SimExTargId\", \"MetaboAnalyst\", \"MRMAssayDB\", \"MetExplore\", \"MetaboDiff\", \"SECIMTools\", \"VSClust\", \"CMM\", \"GSimp\", \"rDolphin\", \"DExSI\", \"polyPK\", \"ROMANCE\", \"MINMA\", \"Curatr\", \"HMDB\", \"WikiPathways\", \"FreeClust\", \"VANTED\", \"COMICS\", \"ADAP-GC\", \"UC2 search\", \"proFIA\", \"MWASTools\", \"MetaboDrift\", \"MaBoSS\", \"MetaboLights\", \"OLS Client/ OLS Dialog\", \"MetExtract\", \"pyQms\", \"KPIC2\", \"NOREVA\", \"Pathview Web\", \"LipidFinder\", \"mzML2ISA/NMRL2ISA\", \"MetCirc\", \"IMGMD\", \"BioContainers\", \"MetCCS predictor\", \"MS-FLO\", \"compMS2Miner\", \"COLMARm\",\"Meneco\", \"PlantMat\", \"MetMatch\", \"GC2MS\", \"InterpretMSSpectrum\", \"eRah\", \"OpenMS\",\"SASMeQ\", \"R.JIVE\", \"LaCyTools\",\"SMART\", \"Heatmapper\", \"NMRPro\",\"RIPPER\", \"Elder\", \"MBROLE\", \"PIPINO\", \"Galaxy-M\", \"specmine\", \"Unipept\", \"iMet-Q\", \"ChainRank\", \"geoRge\", \"MassyTools\", \"FALCON\", \"Escher\", \"SIMAT\", \"MESSI\", \"OmicsTract/SynpExtractor\", \"IPO\", \"Metabolome searcher\", \"DiPR\", \"BioSMXpress\", \"PathVisio\", \"TrackSM\", \"GridMass\", \"EigenMS\", \"Workflow4Metabolomics\", \"Pathomx\", \"LocFuse\", \"Lipid-Pro\", \"ALLocator\", \"MUSCLE\", \"Dolphin\", \"Haystack\", \"MetMSLine\", \"LipidBlast\", \"PathCaseMAW\", \"isoMETLIN\", \"COCONETS\", \"MPINet\", \"STATegra EMS\", \"OMICtools\", \"IIS\", \"KOMICS\", \"RAMClust\", \"CGBayesNets\", \"CFM-ID\", \"MET-COFEA\", \"PeptidePicker\", \"MRMPROBS\", \"MetDisease\", \"jmzTab\", \"MAIT\", \"iMatch\", \"MVAPACK\", \"MASSyPup\", \"X13CMS\", \"BiPACE 2D\", \"Focus\", \"ORCA\", \"HAMMER\", \"ProfileDB\", \"MetSizeR\",\"MetaboNetworks\", \"MSPrep\", \"EBI metagenomics\", \"CASI\", \"MAPA/MASS WESTERN/PROMEX/COVAIN\", \"iPEAP\", \"INVEX\", \"INMEX\", \"tO2PLS\", \"NMRbot\",\"MetPP\", \"MetaboQuant\", \"ATTED-II\", \"NTFD\", \"MultiAlign\", \"BRAIN\", \"xMSanalyzer\",\"KNApSAcK\", \"PRIMe Update\", \"DiffCorr\", \"mzMatch-ISO\", \"The ConsensusPathDB\", \"MetabR\", \"SEED servers\", \"IPAD\", \"MolFind\", \"MaConDa\", \"EasyLCMS\", \"MetiTree\",\"MassTRIX\", \"MetaboSearch\", \"ADAP-GC\", \"BATMAN\", \"ISIS\", \"MetaboAnalyst\", \"MarVis-Filter\", \"CompExtractor\", \"MAVEN\", \"IDEOM\", \"MetRxn\", \"Metscape\", \"MetaCyc database\", \"CluPA\", \"Pathos\", \"MetaboHunter\", \"TIGER\", \"MetSign\", \"MetaboLab\", \"IQMNMR\", \"MADMAX\", \"MetATT\", \"Metab\", \"MeRy-B\", \"MGV\", \"Guineu\", \"AStream\", \"PUTMEDID_LCMS\", \"CCPN Metabolomics\", \"Paintomics\", \"MetaP-server\", \"PAPi\", \"MetAssimulo\", \"Chemical Translation Service\", \"MetDAT\", \"MZmine\", \"MetPA\", \"DISCO\", \"MSEA\", \"PCANS\", \"Metscape\", \"VitisNet\", \"VIBE\", \"FiehnLib\",\"T3DB\", \"rNMR\", \"Pathway Editor\", \"Grafta\", \"integrOmics\", \"ChromA\", \"TOPPView\", \"MetaboliteDetector\", \"MarVis\", \"TICL\", \"Automics\", \"MDAS\", \"MetaFIND\", \"GabiPD\", \"MeltDB\", \"FiD\", \"DrugViz\", \"XCMS\", \"PolySearch\", \"KEGG Atlas\", \"anNET\", \"OpenMS\", \"DECOMP\", \"BioSpider\", \"MetaNetwork\", \"P-BOSS\", \"HiRes\", \"MeMo\", \"ASCA\", \"COMPSARI\", \"MSFACTS\"]\n",
    "#toolsToTag = list(set(toolsToTag))\n",
    "toolsToTag = tags.CuratedTools.tolist()"
   ]
  },
  {
   "cell_type": "code",
   "execution_count": 10,
   "metadata": {},
   "outputs": [],
   "source": [
    "# Tag the training data\n",
    "train[\"label\"] = [\"T\" if x in toolsToTag else \"O\" for x in train.word]\n",
    "# Tag the testing data\n",
    "test[\"label\"] = [\"T\" if x in toolsToTag else \"O\" for x in test.word]"
   ]
  },
  {
   "cell_type": "code",
   "execution_count": 11,
   "metadata": {},
   "outputs": [
    {
     "data": {
      "text/html": [
       "<div>\n",
       "<style scoped>\n",
       "    .dataframe tbody tr th:only-of-type {\n",
       "        vertical-align: middle;\n",
       "    }\n",
       "\n",
       "    .dataframe tbody tr th {\n",
       "        vertical-align: top;\n",
       "    }\n",
       "\n",
       "    .dataframe thead th {\n",
       "        text-align: right;\n",
       "    }\n",
       "</style>\n",
       "<table border=\"1\" class=\"dataframe\">\n",
       "  <thead>\n",
       "    <tr style=\"text-align: right;\">\n",
       "      <th></th>\n",
       "      <th>word</th>\n",
       "      <th>POS</th>\n",
       "    </tr>\n",
       "    <tr>\n",
       "      <th>label</th>\n",
       "      <th></th>\n",
       "      <th></th>\n",
       "    </tr>\n",
       "  </thead>\n",
       "  <tbody>\n",
       "    <tr>\n",
       "      <th>O</th>\n",
       "      <td>76099</td>\n",
       "      <td>76099</td>\n",
       "    </tr>\n",
       "    <tr>\n",
       "      <th>T</th>\n",
       "      <td>1036</td>\n",
       "      <td>1036</td>\n",
       "    </tr>\n",
       "  </tbody>\n",
       "</table>\n",
       "</div>"
      ],
      "text/plain": [
       "        word    POS\n",
       "label              \n",
       "O      76099  76099\n",
       "T       1036   1036"
      ]
     },
     "execution_count": 11,
     "metadata": {},
     "output_type": "execute_result"
    }
   ],
   "source": [
    "# Check that we have successfully labeled tools\n",
    "train.groupby(\"label\").count()"
   ]
  },
  {
   "cell_type": "code",
   "execution_count": 12,
   "metadata": {},
   "outputs": [
    {
     "data": {
      "text/html": [
       "<div>\n",
       "<style scoped>\n",
       "    .dataframe tbody tr th:only-of-type {\n",
       "        vertical-align: middle;\n",
       "    }\n",
       "\n",
       "    .dataframe tbody tr th {\n",
       "        vertical-align: top;\n",
       "    }\n",
       "\n",
       "    .dataframe thead th {\n",
       "        text-align: right;\n",
       "    }\n",
       "</style>\n",
       "<table border=\"1\" class=\"dataframe\">\n",
       "  <thead>\n",
       "    <tr style=\"text-align: right;\">\n",
       "      <th></th>\n",
       "      <th>word</th>\n",
       "      <th>POS</th>\n",
       "    </tr>\n",
       "    <tr>\n",
       "      <th>label</th>\n",
       "      <th></th>\n",
       "      <th></th>\n",
       "    </tr>\n",
       "  </thead>\n",
       "  <tbody>\n",
       "    <tr>\n",
       "      <th>O</th>\n",
       "      <td>18536</td>\n",
       "      <td>18536</td>\n",
       "    </tr>\n",
       "    <tr>\n",
       "      <th>T</th>\n",
       "      <td>286</td>\n",
       "      <td>286</td>\n",
       "    </tr>\n",
       "  </tbody>\n",
       "</table>\n",
       "</div>"
      ],
      "text/plain": [
       "        word    POS\n",
       "label              \n",
       "O      18536  18536\n",
       "T        286    286"
      ]
     },
     "execution_count": 12,
     "metadata": {},
     "output_type": "execute_result"
    }
   ],
   "source": [
    "# Check that we have successfully labeled tools\n",
    "test.groupby(\"label\").count()"
   ]
  },
  {
   "cell_type": "markdown",
   "metadata": {},
   "source": [
    "# Identify individual sentences"
   ]
  },
  {
   "cell_type": "code",
   "execution_count": 13,
   "metadata": {},
   "outputs": [],
   "source": [
    "# Define a function that identifies where sentences begin/end\n",
    "def identSentence(textDf):\n",
    "    # start at sentence 1\n",
    "    n_sent = 1\n",
    "    sents = [] # init empty array to wholed sentence identifiers\n",
    "    # Loop through text incrementing n_sent after each period\n",
    "    for word in textDf.word:\n",
    "        if word == \".\":\n",
    "            sents.append(n_sent)\n",
    "            n_sent += 1\n",
    "        else:\n",
    "            sents.append(np.nan) # If we are still before the end of the sentence label it as NA\n",
    "    textDf['Sent_id'] = sents # Generate a column of the sentences \n",
    "    textDf['Sent_id'] = textDf['Sent_id'].bfill() # back fill the NAs to get the correct sentence IDs\n",
    "    return(textDf)"
   ]
  },
  {
   "cell_type": "code",
   "execution_count": 14,
   "metadata": {},
   "outputs": [
    {
     "data": {
      "text/html": [
       "<div>\n",
       "<style scoped>\n",
       "    .dataframe tbody tr th:only-of-type {\n",
       "        vertical-align: middle;\n",
       "    }\n",
       "\n",
       "    .dataframe tbody tr th {\n",
       "        vertical-align: top;\n",
       "    }\n",
       "\n",
       "    .dataframe thead th {\n",
       "        text-align: right;\n",
       "    }\n",
       "</style>\n",
       "<table border=\"1\" class=\"dataframe\">\n",
       "  <thead>\n",
       "    <tr style=\"text-align: right;\">\n",
       "      <th></th>\n",
       "      <th>word</th>\n",
       "      <th>POS</th>\n",
       "      <th>label</th>\n",
       "      <th>Sent_id</th>\n",
       "    </tr>\n",
       "  </thead>\n",
       "  <tbody>\n",
       "    <tr>\n",
       "      <th>0</th>\n",
       "      <td>MetaComp</td>\n",
       "      <td>NN</td>\n",
       "      <td>T</td>\n",
       "      <td>1.0</td>\n",
       "    </tr>\n",
       "    <tr>\n",
       "      <th>1</th>\n",
       "      <td>:</td>\n",
       "      <td>:</td>\n",
       "      <td>O</td>\n",
       "      <td>1.0</td>\n",
       "    </tr>\n",
       "    <tr>\n",
       "      <th>2</th>\n",
       "      <td>comprehensive</td>\n",
       "      <td>JJ</td>\n",
       "      <td>O</td>\n",
       "      <td>1.0</td>\n",
       "    </tr>\n",
       "    <tr>\n",
       "      <th>3</th>\n",
       "      <td>analysis</td>\n",
       "      <td>NN</td>\n",
       "      <td>O</td>\n",
       "      <td>1.0</td>\n",
       "    </tr>\n",
       "    <tr>\n",
       "      <th>4</th>\n",
       "      <td>software</td>\n",
       "      <td>NN</td>\n",
       "      <td>O</td>\n",
       "      <td>1.0</td>\n",
       "    </tr>\n",
       "  </tbody>\n",
       "</table>\n",
       "</div>"
      ],
      "text/plain": [
       "            word POS label  Sent_id\n",
       "0       MetaComp  NN     T      1.0\n",
       "1              :   :     O      1.0\n",
       "2  comprehensive  JJ     O      1.0\n",
       "3       analysis  NN     O      1.0\n",
       "4       software  NN     O      1.0"
      ]
     },
     "execution_count": 14,
     "metadata": {},
     "output_type": "execute_result"
    }
   ],
   "source": [
    "# Find sentence boundaries in training set\n",
    "train = identSentence(train)\n",
    "train.head()"
   ]
  },
  {
   "cell_type": "code",
   "execution_count": 15,
   "metadata": {},
   "outputs": [
    {
     "data": {
      "text/html": [
       "<div>\n",
       "<style scoped>\n",
       "    .dataframe tbody tr th:only-of-type {\n",
       "        vertical-align: middle;\n",
       "    }\n",
       "\n",
       "    .dataframe tbody tr th {\n",
       "        vertical-align: top;\n",
       "    }\n",
       "\n",
       "    .dataframe thead th {\n",
       "        text-align: right;\n",
       "    }\n",
       "</style>\n",
       "<table border=\"1\" class=\"dataframe\">\n",
       "  <thead>\n",
       "    <tr style=\"text-align: right;\">\n",
       "      <th></th>\n",
       "      <th>word</th>\n",
       "      <th>POS</th>\n",
       "      <th>label</th>\n",
       "      <th>Sent_id</th>\n",
       "    </tr>\n",
       "  </thead>\n",
       "  <tbody>\n",
       "    <tr>\n",
       "      <th>77134</th>\n",
       "      <td>.</td>\n",
       "      <td>.</td>\n",
       "      <td>O</td>\n",
       "      <td>3947.0</td>\n",
       "    </tr>\n",
       "    <tr>\n",
       "      <th>77133</th>\n",
       "      <td>identified</td>\n",
       "      <td>VBN</td>\n",
       "      <td>O</td>\n",
       "      <td>3947.0</td>\n",
       "    </tr>\n",
       "    <tr>\n",
       "      <th>77132</th>\n",
       "      <td>phases</td>\n",
       "      <td>NNS</td>\n",
       "      <td>O</td>\n",
       "      <td>3947.0</td>\n",
       "    </tr>\n",
       "    <tr>\n",
       "      <th>77131</th>\n",
       "      <td>growth</td>\n",
       "      <td>NN</td>\n",
       "      <td>O</td>\n",
       "      <td>3947.0</td>\n",
       "    </tr>\n",
       "    <tr>\n",
       "      <th>77130</th>\n",
       "      <td>analyzed</td>\n",
       "      <td>VBD</td>\n",
       "      <td>O</td>\n",
       "      <td>3947.0</td>\n",
       "    </tr>\n",
       "    <tr>\n",
       "      <th>...</th>\n",
       "      <td>...</td>\n",
       "      <td>...</td>\n",
       "      <td>...</td>\n",
       "      <td>...</td>\n",
       "    </tr>\n",
       "    <tr>\n",
       "      <th>7</th>\n",
       "      <td>including</td>\n",
       "      <td>VBG</td>\n",
       "      <td>O</td>\n",
       "      <td>1.0</td>\n",
       "    </tr>\n",
       "    <tr>\n",
       "      <th>8</th>\n",
       "      <td>comparative</td>\n",
       "      <td>JJ</td>\n",
       "      <td>O</td>\n",
       "      <td>1.0</td>\n",
       "    </tr>\n",
       "    <tr>\n",
       "      <th>9</th>\n",
       "      <td>metagenomics</td>\n",
       "      <td>NNS</td>\n",
       "      <td>O</td>\n",
       "      <td>1.0</td>\n",
       "    </tr>\n",
       "    <tr>\n",
       "      <th>10</th>\n",
       "      <td>.</td>\n",
       "      <td>.</td>\n",
       "      <td>O</td>\n",
       "      <td>1.0</td>\n",
       "    </tr>\n",
       "    <tr>\n",
       "      <th>0</th>\n",
       "      <td>MetaComp</td>\n",
       "      <td>NN</td>\n",
       "      <td>T</td>\n",
       "      <td>1.0</td>\n",
       "    </tr>\n",
       "  </tbody>\n",
       "</table>\n",
       "<p>77135 rows × 4 columns</p>\n",
       "</div>"
      ],
      "text/plain": [
       "               word  POS label  Sent_id\n",
       "77134             .    .     O   3947.0\n",
       "77133    identified  VBN     O   3947.0\n",
       "77132        phases  NNS     O   3947.0\n",
       "77131        growth   NN     O   3947.0\n",
       "77130      analyzed  VBD     O   3947.0\n",
       "...             ...  ...   ...      ...\n",
       "7         including  VBG     O      1.0\n",
       "8       comparative   JJ     O      1.0\n",
       "9      metagenomics  NNS     O      1.0\n",
       "10                .    .     O      1.0\n",
       "0          MetaComp   NN     T      1.0\n",
       "\n",
       "[77135 rows x 4 columns]"
      ]
     },
     "execution_count": 15,
     "metadata": {},
     "output_type": "execute_result"
    }
   ],
   "source": [
    "train.sort_values(by='Sent_id', ascending=False)"
   ]
  },
  {
   "cell_type": "code",
   "execution_count": 16,
   "metadata": {},
   "outputs": [],
   "source": [
    "# Find sentence boundaries in testing set\n",
    "test = identSentence(test)"
   ]
  },
  {
   "cell_type": "markdown",
   "metadata": {},
   "source": [
    "# Balance sentences"
   ]
  },
  {
   "cell_type": "code",
   "execution_count": 17,
   "metadata": {},
   "outputs": [],
   "source": [
    "# Define a function to find positive sentences\n",
    "def balanceSents(textDf):\n",
    "    positiveSents = textDf[textDf.Sent_id.isin(textDf.groupby(['Sent_id', 'label']).filter(lambda x: len(x) < 2).Sent_id)].copy()\n",
    "    positiveSents['sent_sign'] = \"P\"\n",
    "    numPosSents = positiveSents.groupby('Sent_id').count().shape[0]\n",
    "    negativeSents = textDf[~textDf.index.isin(positiveSents.index)].copy()\n",
    "    uniqNegSents = negativeSents['Sent_id'].unique().tolist()\n",
    "    negativeSents = negativeSents[negativeSents.Sent_id.isin(np.random.choice(uniqNegSents, numPosSents, replace = False))]\n",
    "    negativeSents['sent_sign'] = \"N\"\n",
    "    textDf = pd.concat([positiveSents, negativeSents]).sort_index()\n",
    "    return(textDf)"
   ]
  },
  {
   "cell_type": "code",
   "execution_count": 18,
   "metadata": {},
   "outputs": [],
   "source": [
    "#train = balanceSents(train)\n",
    "#train.head()"
   ]
  },
  {
   "cell_type": "markdown",
   "metadata": {},
   "source": [
    "# Format using conference on natural language learning (CoNLL) specifications"
   ]
  },
  {
   "cell_type": "code",
   "execution_count": 19,
   "metadata": {},
   "outputs": [],
   "source": [
    "# Define a function that reformats the data into CoNLL format\n",
    "def conllFormatter(textDf):\n",
    "    conll_lines = \"-DOCSTART- -X- -X- -O-\\n\\n\"\n",
    "    save = 0\n",
    "\n",
    "    for sent, token, pos, label in zip(textDf['Sent_id'], textDf['word'], textDf['POS'], textDf['label']):\n",
    "        # If we start a new sentence, add empty line.\n",
    "        if save!=sent:\n",
    "            conll_lines+=\"\\n\"\n",
    "        \n",
    "        # Save the line\n",
    "        conll_lines += \"{} {} {} {}\\n\".format(token, pos, pos, label)\n",
    "        save = sent\n",
    "    return(conll_lines)"
   ]
  },
  {
   "cell_type": "code",
   "execution_count": 20,
   "metadata": {},
   "outputs": [],
   "source": [
    "# Convert the training data to CoNLL format\n",
    "train = conllFormatter(train)\n",
    "# Convert the testing data to CoNLL format\n",
    "test = conllFormatter(test)"
   ]
  },
  {
   "cell_type": "code",
   "execution_count": 21,
   "metadata": {},
   "outputs": [],
   "source": [
    "# Output the processed training data to a txt file\n",
    "with open(\"Data/trainingTextProcessed.txt\", \"w\") as txtfile:\n",
    "    for line in train:\n",
    "        txtfile.write(line)\n",
    "txtfile.close()\n",
    "\n",
    "# Output the processed testing data to a txt file\n",
    "with open(\"Data/testingTextProcessed.txt\", \"w\") as txtfile:\n",
    "    for line in test:\n",
    "        txtfile.write(line)\n",
    "txtfile.close()"
   ]
  }
 ],
 "metadata": {
  "kernelspec": {
   "display_name": "Python 3",
   "language": "python",
   "name": "python3"
  },
  "language_info": {
   "codemirror_mode": {
    "name": "ipython",
    "version": 3
   },
   "file_extension": ".py",
   "mimetype": "text/x-python",
   "name": "python",
   "nbconvert_exporter": "python",
   "pygments_lexer": "ipython3",
   "version": "3.7.10"
  }
 },
 "nbformat": 4,
 "nbformat_minor": 4
}
