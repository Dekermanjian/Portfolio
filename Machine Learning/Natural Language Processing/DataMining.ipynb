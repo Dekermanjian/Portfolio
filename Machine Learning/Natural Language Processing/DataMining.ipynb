{
 "cells": [
  {
   "cell_type": "markdown",
   "metadata": {},
   "source": [
    "# Imports"
   ]
  },
  {
   "cell_type": "code",
   "execution_count": 1,
   "metadata": {},
   "outputs": [],
   "source": [
    "import rpy2\n",
    "from rpy2.robjects.packages import importr\n",
    "from rpy2.robjects import r, pandas2ri\n",
    "from functools import partial\n",
    "from rpy2.ipython import html"
   ]
  },
  {
   "cell_type": "markdown",
   "metadata": {},
   "source": [
    "# Notebook settings"
   ]
  },
  {
   "cell_type": "code",
   "execution_count": 2,
   "metadata": {},
   "outputs": [],
   "source": [
    "%load_ext rpy2.ipython\n",
    "html.html_rdataframe = partial(html.html_rdataframe, table_class = \"docutils\")\n",
    "rpy2.ipython.html.init_printing()\n",
    "pandas2ri.activate()"
   ]
  },
  {
   "cell_type": "markdown",
   "metadata": {},
   "source": [
    "# R Packages"
   ]
  },
  {
   "cell_type": "code",
   "execution_count": 3,
   "metadata": {},
   "outputs": [
    {
     "data": {
      "text/plain": [
       "rpy2.robjects.packages.Package as a <module 'tidyverse'>"
      ]
     },
     "execution_count": 3,
     "metadata": {},
     "output_type": "execute_result"
    }
   ],
   "source": [
    "importr(\"easyPubMed\")\n",
    "importr(\"tidyverse\")"
   ]
  },
  {
   "cell_type": "markdown",
   "metadata": {},
   "source": [
    "# Mine Data from PubMed"
   ]
  },
  {
   "cell_type": "code",
   "execution_count": 4,
   "metadata": {},
   "outputs": [],
   "source": [
    "%%R\n",
    "# Define a function that uses a query to mine PubMed publications\n",
    "getAbstracts = function(query){\n",
    "  # Get entrez_ids\n",
    "  get_entrez_ids = get_pubmed_ids(query)\n",
    "  # Get abstracts XML format\n",
    "  abstractsXML = fetch_pubmed_data(pubmed_id_list = get_entrez_ids, retstart = 0, retmax = 5000, format = \"xml\", encoding = \"UTF-8\")\n",
    "  # Get abstracts reformatted into a dataframe\n",
    "  PubMed_df = table_articles_byAuth(pubmed_data = abstractsXML,\n",
    "                                max_chars = 1000000,\n",
    "                                included_authors = 'last',\n",
    "                                encoding = \"UTF-8\"\n",
    "                                )\n",
    "  # Merge tite with abstract\n",
    "  PubMed_df$title_abstract = paste(PubMed_df$title, PubMed_df$abstract, sep = \" \")\n",
    "  # Only keep inportant columns\n",
    "  data_out = PubMed_df %>% \n",
    "    select(contains(c(\"pmid\", \"title_abstract\")))\n",
    "}"
   ]
  },
  {
   "cell_type": "code",
   "execution_count": 8,
   "metadata": {},
   "outputs": [
    {
     "name": "stderr",
     "output_type": "stream",
     "text": [
      "R[write to console]: Processing PubMed data \n",
      "R[write to console]: .\n",
      "R[write to console]: .\n",
      "R[write to console]: .\n",
      "R[write to console]: .\n",
      "R[write to console]: .\n",
      "R[write to console]: .\n",
      "R[write to console]: .\n",
      "R[write to console]: .\n",
      "R[write to console]: .\n",
      "R[write to console]: .\n",
      "R[write to console]: .\n",
      "R[write to console]: .\n",
      "R[write to console]: .\n",
      "R[write to console]: .\n",
      "R[write to console]: .\n",
      "R[write to console]: .\n",
      "R[write to console]: .\n",
      "R[write to console]: .\n",
      "R[write to console]: .\n",
      "R[write to console]: .\n",
      "R[write to console]: .\n",
      "R[write to console]: .\n",
      "R[write to console]: .\n",
      "R[write to console]: .\n",
      "R[write to console]: .\n",
      "R[write to console]: .\n",
      "R[write to console]: .\n",
      "R[write to console]: .\n",
      "R[write to console]: .\n",
      "R[write to console]: .\n",
      "R[write to console]: .\n",
      "R[write to console]: .\n",
      "R[write to console]: .\n",
      "R[write to console]: .\n",
      "R[write to console]: .\n",
      "R[write to console]: .\n",
      "R[write to console]: .\n",
      "R[write to console]: .\n",
      "R[write to console]: .\n",
      "R[write to console]: .\n",
      "R[write to console]: .\n",
      "R[write to console]: .\n",
      "R[write to console]: .\n",
      "R[write to console]: .\n",
      "R[write to console]: .\n",
      "R[write to console]: .\n",
      "R[write to console]: .\n",
      "R[write to console]: .\n",
      "R[write to console]: .\n",
      "R[write to console]: .\n",
      "R[write to console]:  done!\n",
      "\n"
     ]
    }
   ],
   "source": [
    "%%R\n",
    "# Define the query\n",
    "query = '(\"software\"[MeSH Terms] OR \"programming language\"[All Fields]) AND (\"metabolomics\"[MeSH Terms] OR \"metabolomics\"[All Fields] OR \"metabolonics\"[All Fields] OR \"metabolomic\"[All Fields])'\n",
    "query1 = '((software[MeSH Terms] OR \"programming language\"[All Fields]) AND (metabolomics[MeSH Terms] OR \"metabolomics\"[All Fields] OR \"metabolonics\"[All Fields] OR \"metabolomic\"[All Fields] OR \"metabonomic\"[All Fields] OR \"metabonomics\"[All Fields]))'\n",
    "query2 = '((Metabolomic* OR metabolomic* OR metabolite* OR multiomic* OR mixomic* OR Metabolome* OR Metabolomics[Mesh] OR metabolome[Mesh])) AND (((algorithm OR toolkit) AND (code OR software)) OR “open source” OR “source code” OR “web app” OR “web application” OR “command line” OR “programming language” OR (software AND (framework OR pipeline OR tool OR package OR suite OR workflow)) OR github OR gitlab OR sourceforge OR Bioconductor OR biopython OR biojava OR bioruby OR “Computing Methodologies”[Mesh])'\n",
    "# Call the function\n",
    "minedText = getAbstracts(query=query1)"
   ]
  },
  {
   "cell_type": "code",
   "execution_count": 9,
   "metadata": {},
   "outputs": [
    {
     "data": {
      "text/html": [
       "<div>\n",
       "<style scoped>\n",
       "    .dataframe tbody tr th:only-of-type {\n",
       "        vertical-align: middle;\n",
       "    }\n",
       "\n",
       "    .dataframe tbody tr th {\n",
       "        vertical-align: top;\n",
       "    }\n",
       "\n",
       "    .dataframe thead th {\n",
       "        text-align: right;\n",
       "    }\n",
       "</style>\n",
       "<table border=\"1\" class=\"dataframe\">\n",
       "  <thead>\n",
       "    <tr style=\"text-align: right;\">\n",
       "      <th></th>\n",
       "      <th>pmid</th>\n",
       "      <th>title_abstract</th>\n",
       "    </tr>\n",
       "  </thead>\n",
       "  <tbody>\n",
       "    <tr>\n",
       "      <th>1</th>\n",
       "      <td>34024419</td>\n",
       "      <td>Novel acquisition strategies for metabolomics ...</td>\n",
       "    </tr>\n",
       "    <tr>\n",
       "      <th>2</th>\n",
       "      <td>33777285</td>\n",
       "      <td>A framework for stability-based module detecti...</td>\n",
       "    </tr>\n",
       "    <tr>\n",
       "      <th>3</th>\n",
       "      <td>33611117</td>\n",
       "      <td>Identification of the metabolites regulated in...</td>\n",
       "    </tr>\n",
       "    <tr>\n",
       "      <th>4</th>\n",
       "      <td>33607938</td>\n",
       "      <td>CANTARE: finding and visualizing network-based...</td>\n",
       "    </tr>\n",
       "    <tr>\n",
       "      <th>5</th>\n",
       "      <td>33483720</td>\n",
       "      <td>Cognitive analysis of metabolomics data for sy...</td>\n",
       "    </tr>\n",
       "    <tr>\n",
       "      <th>6</th>\n",
       "      <td>33467846</td>\n",
       "      <td>A Practical Guide to Metabolomics Software Dev...</td>\n",
       "    </tr>\n",
       "  </tbody>\n",
       "</table>\n",
       "</div>"
      ],
      "text/plain": [
       "       pmid                                     title_abstract\n",
       "1  34024419  Novel acquisition strategies for metabolomics ...\n",
       "2  33777285  A framework for stability-based module detecti...\n",
       "3  33611117  Identification of the metabolites regulated in...\n",
       "4  33607938  CANTARE: finding and visualizing network-based...\n",
       "5  33483720  Cognitive analysis of metabolomics data for sy...\n",
       "6  33467846  A Practical Guide to Metabolomics Software Dev..."
      ]
     },
     "execution_count": 9,
     "metadata": {},
     "output_type": "execute_result"
    }
   ],
   "source": [
    "# Check that we have the title+abstracts as a column and the pmid as a column\n",
    "%R head(minedText)"
   ]
  },
  {
   "cell_type": "code",
   "execution_count": 10,
   "metadata": {},
   "outputs": [
    {
     "data": {
      "text/plain": [
       "array([985], dtype=int32)"
      ]
     },
     "execution_count": 10,
     "metadata": {},
     "output_type": "execute_result"
    }
   ],
   "source": [
    "%R nrow(minedText)"
   ]
  },
  {
   "cell_type": "code",
   "execution_count": 11,
   "metadata": {},
   "outputs": [],
   "source": [
    "# Save the data\n",
    "%R write.csv(minedText, file=\"Data/minedText_query1.2.csv\", row.names = F)"
   ]
  }
 ],
 "metadata": {
  "kernelspec": {
   "display_name": "Python 3",
   "language": "python",
   "name": "python3"
  },
  "language_info": {
   "codemirror_mode": {
    "name": "ipython",
    "version": 3
   },
   "file_extension": ".py",
   "mimetype": "text/x-python",
   "name": "python",
   "nbconvert_exporter": "python",
   "pygments_lexer": "ipython3",
   "version": "3.7.10"
  }
 },
 "nbformat": 4,
 "nbformat_minor": 4
}
